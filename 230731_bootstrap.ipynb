{
 "cells": [
  {
   "cell_type": "markdown",
   "id": "f04eef39",
   "metadata": {},
   "source": [
    "File created by Jinghao Chen (jinghc2@uci.edu)."
   ]
  },
  {
   "cell_type": "markdown",
   "id": "e4a83f34",
   "metadata": {},
   "source": [
    "Import necessary packages."
   ]
  },
  {
   "cell_type": "code",
   "execution_count": 1,
   "id": "b0c3284f",
   "metadata": {},
   "outputs": [],
   "source": [
    "import pickle\n",
    "import torch\n",
    "import mptools as mp\n",
    "import numpy as np\n",
    "np.random.seed(114514)"
   ]
  },
  {
   "cell_type": "markdown",
   "id": "1f745462",
   "metadata": {},
   "source": [
    "Load combined data from repository \"/data\"."
   ]
  },
  {
   "cell_type": "code",
   "execution_count": 2,
   "id": "fe9b35b8",
   "metadata": {},
   "outputs": [],
   "source": [
    "pickle_in = open(\"data/data_comb.pkl\",\"rb\")\n",
    "data_comb = pickle.load(pickle_in)"
   ]
  },
  {
   "cell_type": "markdown",
   "id": "be01dc6a",
   "metadata": {},
   "source": [
    "Calculate necessary values."
   ]
  },
  {
   "cell_type": "code",
   "execution_count": 3,
   "id": "9aa14c96",
   "metadata": {},
   "outputs": [],
   "source": [
    "N_comb = data_comb.shape[1]\n",
    "N_theta = 4+N_comb-1 # the number of unknown parameters"
   ]
  },
  {
   "cell_type": "markdown",
   "id": "902f6f70",
   "metadata": {},
   "source": [
    "Shuffle and binary classified data."
   ]
  },
  {
   "cell_type": "code",
   "execution_count": 4,
   "id": "a0a874c7",
   "metadata": {},
   "outputs": [],
   "source": [
    "X, Y = data_comb[:,:-1], data_comb[:,-1]   # get features & target\n",
    "X, Y = mp.shuffleData(X,Y)       # reorder randomly rather than by class label"
   ]
  },
  {
   "cell_type": "code",
   "execution_count": 5,
   "id": "2e539b31",
   "metadata": {},
   "outputs": [],
   "source": [
    "Xtr, Ytr = X[Y!=5,:], Y[Y!=5]\n",
    "Ytr = np.heaviside(Ytr-5,-1)"
   ]
  },
  {
   "cell_type": "markdown",
   "id": "1eeef6fc",
   "metadata": {},
   "source": [
    "Initialize $\\theta$."
   ]
  },
  {
   "cell_type": "code",
   "execution_count": 6,
   "id": "d68d60b5",
   "metadata": {},
   "outputs": [],
   "source": [
    "theta_ini = np.array([0.5,0.06,0.5,-3.26]+[0]*(N_comb-1)).reshape(N_theta,1) + 0.1*np.random.randn(N_theta,1)"
   ]
  },
  {
   "cell_type": "markdown",
   "id": "2aba9017",
   "metadata": {},
   "source": [
    "Train the classifier to jointly learn $\\theta$."
   ]
  },
  {
   "cell_type": "code",
   "execution_count": 7,
   "id": "48c7abee",
   "metadata": {},
   "outputs": [],
   "source": [
    "n_set = 500\n",
    "multi_startup = 1\n",
    "Theta = np.empty([n_set,N_theta])"
   ]
  },
  {
   "cell_type": "code",
   "execution_count": 8,
   "id": "0acd0033",
   "metadata": {},
   "outputs": [],
   "source": [
    "from tqdm import tqdm"
   ]
  },
  {
   "cell_type": "code",
   "execution_count": null,
   "id": "15e524bc",
   "metadata": {},
   "outputs": [
    {
     "name": "stderr",
     "output_type": "stream",
     "text": [
      "\r",
      "  0%|                                                   | 0/500 [00:00<?, ?it/s]"
     ]
    }
   ],
   "source": [
    "for i in tqdm(range(n_set)):\n",
    "    Xb, Yb = mp.bootstrapData(Xtr, Ytr)\n",
    "    theta_ini = np.array([0.5,0.06,0.5,-3.26]+[0]*(N_comb-1)).reshape(N_theta,1) + multi_startup*0.1*np.random.randn(N_theta,1)\n",
    "    learner = mp.jointClassifier()\n",
    "    learner.classes = np.unique(Yb)\n",
    "    learner.theta = torch.tensor(theta_ini,requires_grad = True,dtype=torch.float32)\n",
    "    learner.train(Xb,Yb,initStep=1e-1,stopTol=1e-4,stopEpochs=100,alpha=10,plotOpt=False)\n",
    "    Theta[i] = learner.theta.detach().numpy().reshape(1,N_theta)"
   ]
  },
  {
   "cell_type": "markdown",
   "id": "e712dd07",
   "metadata": {},
   "source": [
    "First 4 values are reference and maximal transcription rates in ratio $\\frac{\\bar{\\tau}}{\\tau_{max}}$, concentration of CRP $C_c$, concentration of RNAP $C_r$ and CRP-RNAP interaction energy $\\varepsilon_i$."
   ]
  },
  {
   "cell_type": "markdown",
   "id": "9caf0464",
   "metadata": {},
   "source": [
    "Save it if needed."
   ]
  },
  {
   "cell_type": "code",
   "execution_count": null,
   "id": "e9cf6c12",
   "metadata": {},
   "outputs": [],
   "source": [
    "# pickle_out = open(\"data/theta230731joint272param.pkl\",\"wb\")\n",
    "# pickle.dump(theta_np, pickle_out)\n",
    "# pickle_out.close()"
   ]
  }
 ],
 "metadata": {
  "kernelspec": {
   "display_name": "Python 3 (ipykernel)",
   "language": "python",
   "name": "python3"
  },
  "language_info": {
   "codemirror_mode": {
    "name": "ipython",
    "version": 3
   },
   "file_extension": ".py",
   "mimetype": "text/x-python",
   "name": "python",
   "nbconvert_exporter": "python",
   "pygments_lexer": "ipython3",
   "version": "3.11.3"
  }
 },
 "nbformat": 4,
 "nbformat_minor": 5
}
