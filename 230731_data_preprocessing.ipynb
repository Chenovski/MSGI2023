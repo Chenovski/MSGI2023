{
 "cells": [
  {
   "cell_type": "markdown",
   "id": "508633f8",
   "metadata": {},
   "source": [
    "File created by Jinghao Chen (jinghc2@uci.edu)."
   ]
  },
  {
   "cell_type": "markdown",
   "id": "6921faa4",
   "metadata": {},
   "source": [
    "Note: \"paper\" in the following conext refers to Kinney et al. 2010 https://www.pnas.org/doi/10.1073/pnas.1004290107."
   ]
  },
  {
   "cell_type": "markdown",
   "id": "429227d9",
   "metadata": {},
   "source": [
    "Dataset \"SRR039136.fasta\" can be downloaded from NCBI https://www.ncbi.nlm.nih.gov/sra/SRX018658."
   ]
  },
  {
   "cell_type": "code",
   "execution_count": 1,
   "id": "b93bf37c",
   "metadata": {},
   "outputs": [],
   "source": [
    "f=open('data/SRR039136.fasta','r')\n",
    "lines=f.readlines()"
   ]
  },
  {
   "cell_type": "markdown",
   "id": "8f62e6c7",
   "metadata": {},
   "source": [
    "Read the first 5 data points from the dataset."
   ]
  },
  {
   "cell_type": "code",
   "execution_count": 2,
   "id": "446c170a",
   "metadata": {},
   "outputs": [
    {
     "data": {
      "text/plain": [
       "['@SRR039136.1.2 FUVUBMK01D4IUB length=258\\n',\n",
       " 'ACAGCATTAGGCGTATCACGAGGCCCTTTCGTCTTCACCTCGAGCACGACAGGTTTCCCGACTGGAAAGCGGGCAGTGAGCGCAACGCAATTAATGTGAGTTAGCTCACTCATTAGGCACCCCAGGCTTTACACTTTATGCTTACGGCTGGTACGTTTTGTGGAATTGTGAGCGGATAACAATTTCACACAGGAAACAGCTATGACCATGATTACGGATTCACTGGCCGTCGTTTTACAACGTCCTGAGCGGGCTGGC\\n',\n",
       " '@SRR039136.2.2 FUVUBMK01DD801 length=280\\n',\n",
       " 'NGTCATTAGGCGTATCACGAGGCCCTTTCGTCTTCACCTCGAGCACGACAGGTTTCCCGACTGGAAAGCGGGCAGTGAGCGCAACGCAATTNNNGTTGNTTNCTCATTAGNTACCCNCTTACGCGTTTACCTACCTTAACTTTNTCGTACCGGTTTCCGGTNTGGTTAAGTTGTTGGTAAGTTGGTGTAAATAGGTTNAACACGTTAGAAACCAATTCGAACNGACCGAATGCTAGNTCACTGCTCGTTNACGCCTTGACGTCCGGTTCAGGCCGAGCGG\\n',\n",
       " '@SRR039136.3.2 FUVUBMK01EKQGF length=258\\n',\n",
       " 'ACGAGCTTAGGCGTATCACGAGGCCCTTTCGTCTTCACCTCGAGCACGACAGGTTTCCCGACTGGAAAGCGGGCAGTGAGCGCAACGCAATTAATGTGAGTTAACTCACTGATTAGGCACCCCAGGCTTTACACTTTAAGCTCCCGGCTCCTATGTTGTGTGCAATTGTGAGCGGATAACAATTTCACACAGGAAACAGCTATGACCATGATTACGGATTCACTGGCCGTCGTTTTACAACGTCCTGAGCGGGCTGGC\\n',\n",
       " '@SRR039136.4.2 FUVUBMK01D9XCY length=254\\n',\n",
       " 'ACGACTGTAGGCGTATCACGAGGCCCTTTCGTCTTCACCTCGAGCACGACAGGTTTCCCGACTGGAAAGCGGGCAGTGAGCGCAACGCAATTAATGTGAGTTAGATCACTCATTAGGCTCCCCAGCCTTTACATATAGTGCTTCCGGCTGGTATGTTGTCAGGAATTGTGAGCGGATAACAATTTCACACAGGAAACAGCTATGACCATGATTACGGATTCACTGGCCGTCGTTTTACAACGTCCTGAGCGGGC\\n',\n",
       " '@SRR039136.5.2 FUVUBMK01DKNJL length=254\\n',\n",
       " 'TCAGTGTAGGCGTATCACGAGGCCCTTTCGTCTTCACCTCGAGCACGACAGGTTTCCCGACTGGAAAGCGGGCAGTGAGCGCAACGCAATTAACGTGAGTTAGCTTACTCACTAGGCACCCCAGGCTTTACACTTTTGCTTCCGGCTCGTATTTTGGGTGGAATTGTGAGCGGATAACAATTTCACACAGGAAACAGCTATGACCATGATTACGGATTCNGCGCGTTCTTAACACCTCNGNGGCGTGNGAGNGN\\n']"
      ]
     },
     "execution_count": 2,
     "metadata": {},
     "output_type": "execute_result"
    }
   ],
   "source": [
    "lines[:10]"
   ]
  },
  {
   "cell_type": "markdown",
   "id": "7dfc6789",
   "metadata": {},
   "source": [
    "The paper said there are 448,416 reads but there are actually 448,417 (1 more)."
   ]
  },
  {
   "cell_type": "code",
   "execution_count": 3,
   "id": "95a411d3",
   "metadata": {},
   "outputs": [
    {
     "data": {
      "text/plain": [
       "448417"
      ]
     },
     "execution_count": 3,
     "metadata": {},
     "output_type": "execute_result"
    }
   ],
   "source": [
    "int(len(lines)/2)"
   ]
  },
  {
   "cell_type": "markdown",
   "id": "d7483479",
   "metadata": {},
   "source": [
    "Initialize 10-mer on the left and right, and 7-mer barcodes."
   ]
  },
  {
   "cell_type": "code",
   "execution_count": 4,
   "id": "7a496df1",
   "metadata": {},
   "outputs": [],
   "source": [
    "ls = 'AGCGCAACGC'\n",
    "rs = 'AATTGTGAGC'"
   ]
  },
  {
   "cell_type": "code",
   "execution_count": 5,
   "id": "22322981",
   "metadata": {},
   "outputs": [],
   "source": [
    "barcodes = ['TCACGTG','ATGCTAT','AGATATG','ATATAGC','CTGACGA','AGCTGTA','AGTGATA','CATGACA','TGTATGC','TGTCAGT']"
   ]
  },
  {
   "cell_type": "markdown",
   "id": "f783fed5",
   "metadata": {},
   "source": [
    "Now go with paper SI 1d: Processing of sequence reads"
   ]
  },
  {
   "cell_type": "code",
   "execution_count": 6,
   "id": "da325a7c",
   "metadata": {},
   "outputs": [],
   "source": [
    "sqs = {}\n",
    "[sqs.setdefault(i, []) for i in range(10)]\n",
    "\n",
    "for i,line in enumerate(lines):\n",
    "    li = line.find(ls)\n",
    "    ri = line.find(rs)\n",
    "    if i%2 and li+1 and ri+1 and ri-li == 85:\n",
    "        s = line[li+10:ri]\n",
    "        barcode = line[:7]\n",
    "        if ('N' not in s) and (barcode in barcodes):\n",
    "            sqs[barcodes.index(barcode)].append(s)"
   ]
  },
  {
   "cell_type": "markdown",
   "id": "74eada9b",
   "metadata": {},
   "source": [
    "Check with table S4, should be 7,680, number matched."
   ]
  },
  {
   "cell_type": "code",
   "execution_count": 7,
   "id": "90cb32a9",
   "metadata": {},
   "outputs": [
    {
     "name": "stdout",
     "output_type": "stream",
     "text": [
      "7680\n"
     ]
    }
   ],
   "source": [
    "print(len(sqs[0]))"
   ]
  },
  {
   "cell_type": "markdown",
   "id": "43fa3e5d",
   "metadata": {},
   "source": [
    "Now go with paper SI 1f. Post-sort loss of library diversity"
   ]
  },
  {
   "cell_type": "code",
   "execution_count": 8,
   "id": "4b7017a8",
   "metadata": {},
   "outputs": [],
   "source": [
    "for i,s in sqs.items():\n",
    "    sqs[i] = list(set(s))"
   ]
  },
  {
   "cell_type": "markdown",
   "id": "49524a8f",
   "metadata": {},
   "source": [
    "Check again, with table S4, should be 5,799, number matched."
   ]
  },
  {
   "cell_type": "code",
   "execution_count": 9,
   "id": "ddc9f08c",
   "metadata": {},
   "outputs": [
    {
     "name": "stdout",
     "output_type": "stream",
     "text": [
      "5799\n"
     ]
    }
   ],
   "source": [
    "print(len(sqs[0]))"
   ]
  },
  {
   "cell_type": "markdown",
   "id": "5b24deed",
   "metadata": {},
   "source": [
    "Check with table 1, it said there are 51,835, but there are actually 51,853. This should be a typo in the paper."
   ]
  },
  {
   "cell_type": "code",
   "execution_count": 10,
   "id": "ae2fe324",
   "metadata": {},
   "outputs": [
    {
     "data": {
      "text/plain": [
       "51853"
      ]
     },
     "execution_count": 10,
     "metadata": {},
     "output_type": "execute_result"
    }
   ],
   "source": [
    "nums = [len(sqs[i]) for i in range(10)]\n",
    "sum(nums)"
   ]
  },
  {
   "cell_type": "markdown",
   "id": "c533c1d0",
   "metadata": {},
   "source": [
    "We can also check the distribution of each bin from the full-wt dataset."
   ]
  },
  {
   "cell_type": "code",
   "execution_count": 11,
   "id": "23cdbecb",
   "metadata": {},
   "outputs": [],
   "source": [
    "import matplotlib.pyplot as plt"
   ]
  },
  {
   "cell_type": "code",
   "execution_count": 12,
   "id": "49fa6d75",
   "metadata": {},
   "outputs": [
    {
     "data": {
      "image/png": "[encoded data removed]",
      "text/plain": [
       "<Figure size 640x480 with 1 Axes>"
      ]
     },
     "metadata": {},
     "output_type": "display_data"
    }
   ],
   "source": [
    "plt.bar(sqs.keys(),nums)\n",
    "plt.xticks(range(10))\n",
    "plt.xlabel('Bin $\\mu$')\n",
    "plt.ylabel('Frequency')\n",
    "plt.title('full-wt dataset')\n",
    "plt.show()"
   ]
  },
  {
   "cell_type": "markdown",
   "id": "fe22a775",
   "metadata": {},
   "source": [
    "They are roughly evenly distributed."
   ]
  },
  {
   "cell_type": "markdown",
   "id": "7db630b8",
   "metadata": {},
   "source": [
    "Now store the dictionary \"sqs\" as a file \"sqs.pkl\" for future use."
   ]
  },
  {
   "cell_type": "code",
   "execution_count": 13,
   "id": "bdfad6e5",
   "metadata": {},
   "outputs": [],
   "source": [
    "import pickle"
   ]
  },
  {
   "cell_type": "code",
   "execution_count": 14,
   "id": "15252f43",
   "metadata": {},
   "outputs": [],
   "source": [
    "pickle_out = open(\"data/sqs.pkl\",\"wb\")\n",
    "pickle.dump(sqs, pickle_out)\n",
    "pickle_out.close()"
   ]
  },
  {
   "cell_type": "markdown",
   "id": "997d4bab",
   "metadata": {},
   "source": [
    "We can further turn that sequence data into numpy type for future processing:"
   ]
  },
  {
   "cell_type": "code",
   "execution_count": 15,
   "id": "00a6cc66",
   "metadata": {},
   "outputs": [],
   "source": [
    "import numpy as np\n",
    "import mptools.tools as tl # model parameterization tools"
   ]
  },
  {
   "cell_type": "code",
   "execution_count": 16,
   "id": "f6aaaabf",
   "metadata": {},
   "outputs": [],
   "source": [
    "data_c = tl.seq2data(sqs,1,9,-74,-49) # CRP binding sites: [-74:-49]\n",
    "data_r = tl.seq2data(sqs,1,9,-41,-1) # RNAP binding sites: [-41:-1]"
   ]
  },
  {
   "cell_type": "code",
   "execution_count": 17,
   "id": "a9f73a5b",
   "metadata": {},
   "outputs": [],
   "source": [
    "data_comb = np.hstack((data_c[:,:-1],data_r))"
   ]
  },
  {
   "cell_type": "markdown",
   "id": "f6bb8bc8",
   "metadata": {},
   "source": [
    "Check the data we obtain."
   ]
  },
  {
   "cell_type": "code",
   "execution_count": 18,
   "id": "6341f047",
   "metadata": {},
   "outputs": [],
   "source": [
    "Mc, Nc = data_c.shape\n",
    "Mr, Nr = data_r.shape\n",
    "M_comb, N_comb = data_comb.shape"
   ]
  },
  {
   "cell_type": "code",
   "execution_count": 19,
   "id": "e7925727",
   "metadata": {},
   "outputs": [
    {
     "data": {
      "text/plain": [
       "(46054, 105)"
      ]
     },
     "execution_count": 19,
     "metadata": {},
     "output_type": "execute_result"
    }
   ],
   "source": [
    "Mc, Nc"
   ]
  },
  {
   "cell_type": "code",
   "execution_count": 20,
   "id": "c3de5dd2",
   "metadata": {},
   "outputs": [
    {
     "data": {
      "text/plain": [
       "(46054, 165)"
      ]
     },
     "execution_count": 20,
     "metadata": {},
     "output_type": "execute_result"
    }
   ],
   "source": [
    "Mr, Nr"
   ]
  },
  {
   "cell_type": "code",
   "execution_count": 21,
   "id": "edefaf9b",
   "metadata": {},
   "outputs": [
    {
     "data": {
      "text/plain": [
       "(46054, 269)"
      ]
     },
     "execution_count": 21,
     "metadata": {},
     "output_type": "execute_result"
    }
   ],
   "source": [
    "M_comb, N_comb"
   ]
  },
  {
   "cell_type": "code",
   "execution_count": 22,
   "id": "869575a7",
   "metadata": {},
   "outputs": [],
   "source": [
    "pickle_out = open(\"data/data_c.pkl\",\"wb\")\n",
    "pickle.dump(data_c, pickle_out)\n",
    "pickle_out.close()"
   ]
  },
  {
   "cell_type": "code",
   "execution_count": 23,
   "id": "a7f96a2c",
   "metadata": {},
   "outputs": [],
   "source": [
    "pickle_out = open(\"data/data_r.pkl\",\"wb\")\n",
    "pickle.dump(data_r, pickle_out)\n",
    "pickle_out.close()"
   ]
  },
  {
   "cell_type": "code",
   "execution_count": 24,
   "id": "0cdd506f",
   "metadata": {},
   "outputs": [],
   "source": [
    "pickle_out = open(\"data/data_comb.pkl\",\"wb\")\n",
    "pickle.dump(data_comb, pickle_out)\n",
    "pickle_out.close()"
   ]
  }
 ],
 "metadata": {
  "kernelspec": {
   "display_name": "Python 3 (ipykernel)",
   "language": "python",
   "name": "python3"
  },
  "language_info": {
   "codemirror_mode": {
    "name": "ipython",
    "version": 3
   },
   "file_extension": ".py",
   "mimetype": "text/x-python",
   "name": "python",
   "nbconvert_exporter": "python",
   "pygments_lexer": "ipython3",
   "version": "3.11.3"
  }
 },
 "nbformat": 4,
 "nbformat_minor": 5
}
