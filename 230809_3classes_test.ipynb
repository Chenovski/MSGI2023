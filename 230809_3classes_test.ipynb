{
 "cells": [
  {
   "cell_type": "markdown",
   "id": "f04eef39",
   "metadata": {},
   "source": [
    "File created by Jinghao Chen (jinghc2@uci.edu)."
   ]
  },
  {
   "cell_type": "markdown",
   "id": "8501ea1d",
   "metadata": {},
   "source": [
    "Make sure file \"gfp.pkl\" is in the directory."
   ]
  },
  {
   "cell_type": "code",
   "execution_count": 2,
   "id": "2f58d6ac",
   "metadata": {},
   "outputs": [],
   "source": [
    "import pickle\n",
    "import torch\n",
    "import mptools as mp\n",
    "import numpy as np\n",
    "# np.random.seed(114514)"
   ]
  },
  {
   "cell_type": "code",
   "execution_count": 3,
   "id": "e0522866",
   "metadata": {},
   "outputs": [],
   "source": [
    "pickle_in = open(\"data/data_comb.pkl\",\"rb\")\n",
    "data_comb = pickle.load(pickle_in)"
   ]
  },
  {
   "cell_type": "code",
   "execution_count": 4,
   "id": "ad0c88a1",
   "metadata": {},
   "outputs": [],
   "source": [
    "X, Y = data_comb[:,:-1], data_comb[:,-1]   # get features & target\n",
    "X, Y = mp.shuffleData(X,Y)       # reorder randomly rather than by class label"
   ]
  },
  {
   "cell_type": "code",
   "execution_count": 5,
   "id": "9ebdf862",
   "metadata": {},
   "outputs": [],
   "source": [
    "Xtr, Ytr = X, Y\n",
    "Ytr[Y<=3] = 0\n",
    "Ytr[(Y>3)&(Y<=6)] = 1\n",
    "Ytr[Y>6] = 2"
   ]
  },
  {
   "cell_type": "code",
   "execution_count": 6,
   "id": "0b210fe2",
   "metadata": {},
   "outputs": [
    {
     "data": {
      "text/plain": [
       "3"
      ]
     },
     "execution_count": 6,
     "metadata": {},
     "output_type": "execute_result"
    }
   ],
   "source": [
    "Nc = len(set(Ytr)) # number of class(es)\n",
    "Nc"
   ]
  },
  {
   "cell_type": "code",
   "execution_count": 7,
   "id": "1cb6b118",
   "metadata": {},
   "outputs": [],
   "source": [
    "N_comb = data_comb.shape[1]"
   ]
  },
  {
   "cell_type": "code",
   "execution_count": 8,
   "id": "5ad19dd6",
   "metadata": {},
   "outputs": [],
   "source": [
    "N_theta = Nc-1+3 + N_comb-1 # the number of unknown parameters"
   ]
  },
  {
   "cell_type": "markdown",
   "id": "2839cdb6",
   "metadata": {},
   "source": [
    "Import packages for machine learning model:"
   ]
  },
  {
   "cell_type": "code",
   "execution_count": 9,
   "id": "384add45",
   "metadata": {},
   "outputs": [],
   "source": [
    "import matplotlib.pyplot as plt   # use matplotlib for plotting with inline plots\n",
    "from IPython import display\n",
    "import mltools as ml"
   ]
  },
  {
   "cell_type": "code",
   "execution_count": 10,
   "id": "6802f5bb",
   "metadata": {},
   "outputs": [],
   "source": [
    "class logisticClassify(ml.classifier):     # trivial shell class to contain whatever we want\n",
    "    def predict(self,X): pass               # we will replace the shell later as we extend the class\n",
    "    def train(self,X): pass"
   ]
  },
  {
   "cell_type": "code",
   "execution_count": 11,
   "id": "c4cde19b",
   "metadata": {},
   "outputs": [],
   "source": [
    "def myPredict(self,X):\n",
    "    '''Predict model on data X; return nparray of class predictions'''\n",
    "    \n",
    "    N1 = 104 # length of CRP binding sites\n",
    "    \n",
    "    X1 = X[:,:N1] # X1 is a CRP sequence\n",
    "    X2 = X[:,N1:] # X2 is a RNAP sequence\n",
    "    \n",
    "    # constants for future use\n",
    "    _,N = X.shape;\n",
    "    Nc = len(self.theta)-N-2 # number of classes\n",
    "    dN = Nc-2\n",
    "    N0 = Nc+2\n",
    "    \n",
    "    R = 1.98e-3 # gas const\n",
    "    T = 310 # temperature at which cells were induced\n",
    "    RT = R*T\n",
    "\n",
    "    eps_c = torch.Tensor(X1) @ self.theta[5:5+N1]; # CRP binding energy\n",
    "    eps_r = torch.Tensor(X2) @ self.theta[5+N1:]; # RNAP binding energy\n",
    "    wi = self.theta[3]*(torch.exp(-eps_r/RT)+self.theta[2]*torch.exp(-(eps_c+eps_r+self.theta[4])/RT))\n",
    "    ri = wi/(1+self.theta[2]*torch.exp(-eps_c/RT)+wi)\n",
    "    \n",
    "    Y01 = 0\n",
    "    Y01 = 1*(ri>self.theta[0])+1*(ri>self.theta[1]) \n",
    "    Y = self.classes[Y01]           # use lookup to convert back to class values if given\n",
    "    return Y                        # NOTE: returns as numpy, not torch! (b/c classes is a nparray)\n",
    "                                    # (This is necessary for mltools plot to work)"
   ]
  },
  {
   "cell_type": "code",
   "execution_count": 12,
   "id": "a80fd3a4",
   "metadata": {},
   "outputs": [],
   "source": [
    "# Create a shell classifier\n",
    "class logisticClassify(ml.classifier):\n",
    "    predict = myPredict              #\n",
    "    train = None                     # this function will be implemented later"
   ]
  },
  {
   "cell_type": "code",
   "execution_count": 71,
   "id": "029454e1",
   "metadata": {},
   "outputs": [],
   "source": [
    "def myTrain(self,X,Y,initStep=1.,stopTol=1e-4,stopEpochs=5000,alpha=0):\n",
    "    \"\"\" Train the logistic regression using stochastic gradient descent \"\"\"\n",
    "    \n",
    "    M,N = X.shape;                     # initialize the model if necessary:\n",
    "    N1 = 104 # length of CRP binding sites\n",
    "    # N2 = N-N1;\n",
    "    X1 = X[:,:N1] # X1 is a CRP sequence\n",
    "    X2 = X[:,N1:] # X2 is a RNAP sequence\n",
    "    self.classes = np.unique(Y);       # Y may have two classes, any values\n",
    "    # Y01 = ml.toIndex(Y,self.classes);  # Y01 is Y, but with canonical values 0 or 1\n",
    "    # Y01 = Y\n",
    "    Y0, Y1 = 1*(Y>0), 1*(Y>1)\n",
    "    \n",
    "    R = 1.98e-3 # gas const\n",
    "    T = 310 # temperature at which cells were induced\n",
    "    RT = R*T\n",
    "    \n",
    "    N_theta = 5+N # the number of unknown parameters\n",
    "    # if the shape of initial theta is wrong, randomly generate a correct one\n",
    "    if len(self.theta)!=N_theta: self.theta=torch.randn((N_theta,1),requires_grad = True);\n",
    "    \n",
    "        \n",
    "    # init loop variables:\n",
    "    epoch=0; done=False; Jnll=[]; J01=[];            # initialize loop variables\n",
    "    myrate = lambda epoch: initStep*2.0/(2.0+epoch)  # step size as a f'n of epoch\n",
    "    \n",
    "    opt = torch.optim.SGD([self.theta], initStep)\n",
    "    sched = torch.optim.lr_scheduler.LambdaLR(opt, myrate)\n",
    "    \n",
    "    \n",
    "    while not done:\n",
    "        # Do an SGD pass through the entire data set:\n",
    "        Jnll.append(0.)\n",
    "        for i in np.random.permutation(M):\n",
    "            # Compute predictions and loss for *just* data X[i]:\n",
    "            # Note: @ operation requires Python 3.5+\n",
    "            eps_c = torch.tensor(X1[i],dtype=torch.float32) @ self.theta[5:5+N1]; # CRP binding energy\n",
    "            eps_r = torch.tensor(X2[i],dtype=torch.float32) @ self.theta[5+N1:]; # RNAP binding energy\n",
    "            wi = self.theta[3]*(torch.exp(-eps_r/RT)+self.theta[2]*torch.exp(-(eps_c+eps_r+self.theta[4])/RT))\n",
    "            ri = wi/(1+self.theta[2]*torch.exp(-eps_c/RT)+wi)\n",
    "            \n",
    "            si0 = 1/(1+torch.exp(-(ri-self.theta[0])));\n",
    "            si1 = 1/(1+torch.exp(-(ri-self.theta[1])));\n",
    "            Ji_pre0 = -Y0[i]*torch.log(si0)-(1-Y0[i])*torch.log(1-si0); \n",
    "            Ji_pre1 = -Y1[i]*torch.log(si1)-(1-Y1[i])*torch.log(1-si1); \n",
    "            Ji_pre = Ji_pre0+Ji_pre1\n",
    "#             Ji_pre = -(1-Y0[i])*torch.log(1-si0)-Y0[i]*(1-Y1[i])*torch.log(si0-si1)-Y1[i]*torch.log(si1)\n",
    "            \n",
    "            # add penalty to constrain the range of parameters\n",
    "            Ji0 = Ji_pre + alpha*torch.maximum( self.theta[0]-self.theta[1], 0*self.theta[0])+ alpha*torch.maximum( -self.theta[0], 0*self.theta[0])+ alpha*torch.maximum( self.theta[1]-1, 0*self.theta[1]); \n",
    "            Ji1 = Ji0 + alpha*torch.maximum( self.theta[2]*(self.theta[2]-1), 0*self.theta[1])+ alpha*torch.maximum( self.theta[3]*(self.theta[3]-1), 0*self.theta[2]);\n",
    "            Ji = Ji1 + alpha*torch.maximum( self.theta[4], 0*self.theta[4]);\n",
    "        \n",
    "            Jnll[-1] += float(Ji)/M             # find running average of surrogate loss\n",
    "            opt.zero_grad()                     # Ji should be a torch.tensor of shape []\n",
    "            Ji.backward()\n",
    "            opt.step()\n",
    "        sched.step()        \n",
    "\n",
    "        epoch += 1\n",
    "\n",
    "        J01.append( self.err(X,Y) )  # evaluate the current actual error rate \n",
    "\n",
    "        \n",
    "        theta1 = self.theta.detach().numpy()\n",
    "        eps_c = X1 @ theta1[5:5+N1]; # CRP binding energy\n",
    "        eps_r = X2 @ theta1[5+N1:]; # RNAP binding energy\n",
    "        wi = theta1[3]*(np.exp(-eps_r/RT)+theta1[2]*np.exp(-(eps_c+eps_r+theta1[4])/RT))\n",
    "        tau = wi/(1+theta1[2]*np.exp(-eps_c/RT)+wi)\n",
    "        \n",
    "        print('at epoch '+ str(epoch) +', predict bin 1-3: '+str(sum(tau<=theta1[0]))+\n",
    "              ', predict bin 4-6: '+str(sum((tau>theta1[0])*(tau<=theta1[1])))+\n",
    "              ', predict bin 7-9: '+str(sum(tau>theta1[1]))+\n",
    "              ', error rate: '+str(J01[-1]))\n",
    "        \n",
    "#         display.clear_output(wait=True); plt.figure(figsize=(15,5));\n",
    "#         plt.subplot(1,2,1); \n",
    "#         plt.cla(); plt.plot(Jnll,'b-'); plt.xlabel('epoch'); plt.ylabel('surrogate loss');    # plot losses\n",
    "#         plt.subplot(1,2,2); \n",
    "#         plt.cla(); plt.plot(J01,'r-'); plt.xlabel('epoch'); plt.ylabel('error rate');    # plot error rate\n",
    "#         plt.show(); plt.pause(.001);                    # let OS draw the plot\n",
    "\n",
    "        \n",
    "        ## For debugging: you may want to print current parameters & losses\n",
    "        # print(self.theta, ' => ', Jnll, ' / ', J01[-1] )\n",
    "        # input()   # pause for keystroke\n",
    "\n",
    "        # check stopping criteria: exit if exceeded # of epochs ( > stopEpochs)\n",
    "        done = epoch > stopEpochs or abs(Jnll[-1]) < stopTol;   # or if Jnll not changing between epochs ( < stopTol )\n"
   ]
  },
  {
   "cell_type": "code",
   "execution_count": 72,
   "id": "6914057a",
   "metadata": {},
   "outputs": [],
   "source": [
    "theta_ini = np.array([.2,.8,.06,.5,-3.26]+[0]*(N_comb-1)).reshape(N_theta,1) "
   ]
  },
  {
   "cell_type": "code",
   "execution_count": 74,
   "id": "f6e47618",
   "metadata": {},
   "outputs": [
    {
     "name": "stdout",
     "output_type": "stream",
     "text": [
      "at epoch 1, predict bin 1-3: [16745], predict bin 4-6: [11746], predict bin 7-9: [17563], error rate: 0.3566031180787771\n",
      "at epoch 2, predict bin 1-3: [26145], predict bin 4-6: [8044], predict bin 7-9: [11865], error rate: 0.36902332044990666\n",
      "at epoch 3, predict bin 1-3: [0], predict bin 4-6: [33858], predict bin 7-9: [12196], error rate: 0.4497329222217397\n",
      "at epoch 4, predict bin 1-3: [22300], predict bin 4-6: [8606], predict bin 7-9: [15148], error rate: 0.3295913492856212\n",
      "at epoch 5, predict bin 1-3: [21956], predict bin 4-6: [11873], predict bin 7-9: [12225], error rate: 0.3382116645676814\n",
      "at epoch 6, predict bin 1-3: [15429], predict bin 4-6: [16565], predict bin 7-9: [14060], error rate: 0.34103443783384724\n",
      "at epoch 7, predict bin 1-3: [21014], predict bin 4-6: [17282], predict bin 7-9: [7758], error rate: 0.39924870803838974\n",
      "at epoch 8, predict bin 1-3: [20883], predict bin 4-6: [11121], predict bin 7-9: [14050], error rate: 0.32761540799930516\n",
      "at epoch 9, predict bin 1-3: [19092], predict bin 4-6: [17489], predict bin 7-9: [9473], error rate: 0.3737568940808616\n",
      "at epoch 10, predict bin 1-3: [18459], predict bin 4-6: [15818], predict bin 7-9: [11777], error rate: 0.34646284796108917\n",
      "at epoch 11, predict bin 1-3: [20206], predict bin 4-6: [14384], predict bin 7-9: [11464], error rate: 0.34539887957614973\n"
     ]
    }
   ],
   "source": [
    "# Update our shell classifier definition\n",
    "class logisticClassify(ml.classifier):\n",
    "    predict = myPredict              # Now all parts are implemented\n",
    "    train = myTrain\n",
    "\n",
    "learnerA = logisticClassify()\n",
    "learnerA.classes = np.unique(Ytr)\n",
    "learnerA.theta = torch.tensor(theta_ini,requires_grad = True,dtype=torch.float32) # TODO\n",
    "learnerA.train(Xtr,Ytr,initStep=2e-1,stopEpochs=10,stopTol=1e-5,alpha=10);"
   ]
  },
  {
   "cell_type": "markdown",
   "id": "e712dd07",
   "metadata": {},
   "source": [
    "Change back into numpy format for visualization and analysis, and save it if necessary."
   ]
  },
  {
   "cell_type": "code",
   "execution_count": 75,
   "id": "ca371c82",
   "metadata": {},
   "outputs": [],
   "source": [
    "theta_np = learnerA.theta.detach().numpy()"
   ]
  },
  {
   "cell_type": "code",
   "execution_count": 77,
   "id": "df7ab82e",
   "metadata": {},
   "outputs": [],
   "source": [
    "pickle_out = open(\"data/theta230809joint3classes.pkl\",\"wb\")\n",
    "pickle.dump(theta_np, pickle_out)\n",
    "pickle_out.close()"
   ]
  },
  {
   "cell_type": "code",
   "execution_count": 76,
   "id": "f67c0b6e",
   "metadata": {},
   "outputs": [
    {
     "data": {
      "text/plain": [
       "array([[ 0.05177455],\n",
       "       [ 0.97258574],\n",
       "       [ 0.2621972 ],\n",
       "       [ 0.57422715],\n",
       "       [-7.079043  ]], dtype=float32)"
      ]
     },
     "execution_count": 76,
     "metadata": {},
     "output_type": "execute_result"
    }
   ],
   "source": [
    "theta_np[:5] # value after 500 epochs"
   ]
  },
  {
   "cell_type": "code",
   "execution_count": 32,
   "id": "b0576a8a",
   "metadata": {},
   "outputs": [
    {
     "data": {
      "text/plain": [
       "array([[ 2.1351126e-03],\n",
       "       [ 9.9918759e-01],\n",
       "       [ 3.5778753e-02],\n",
       "       [ 6.9543153e-02],\n",
       "       [-5.8541918e+00]], dtype=float32)"
      ]
     },
     "execution_count": 32,
     "metadata": {},
     "output_type": "execute_result"
    }
   ],
   "source": [
    "theta_np[:5] # value after 100 epochs"
   ]
  },
  {
   "cell_type": "code",
   "execution_count": 57,
   "id": "5e71c119",
   "metadata": {},
   "outputs": [
    {
     "data": {
      "text/plain": [
       "array([[ 0.49115813],\n",
       "       [ 0.04972205],\n",
       "       [ 0.06942279],\n",
       "       [-4.7296476 ]], dtype=float32)"
      ]
     },
     "execution_count": 57,
     "metadata": {},
     "output_type": "execute_result"
    }
   ],
   "source": [
    "theta_np[:4] # value after 30 epochs"
   ]
  },
  {
   "cell_type": "code",
   "execution_count": 79,
   "id": "e9cf6c12",
   "metadata": {},
   "outputs": [],
   "source": [
    "# pickle_out = open(\"data/theta230727joint272param.pkl\",\"wb\")\n",
    "# pickle.dump(theta_np, pickle_out)\n",
    "# pickle_out.close()"
   ]
  },
  {
   "cell_type": "code",
   "execution_count": 33,
   "id": "75ca4676",
   "metadata": {},
   "outputs": [],
   "source": [
    "def energy_matrix(theta_raw, plot = False):\n",
    "    '''generate energy matrix, the normalized energy vector and related constants'''\n",
    "    '''input theta_raw has NO intercept term (pure energy vector with no shifting term)'''\n",
    "    n = int((theta_raw.shape[0])/4)\n",
    "    theta_shift = 0 # initialize energy shift\n",
    "    theta = np.transpose(np.reshape(theta_raw,(n,4)))\n",
    "    for i in range(n):\n",
    "        theta_shift += min(theta[:,i]) # cummulate energy shift\n",
    "        theta[:,i] -= min(theta[:,i])       \n",
    "    theta_scale = theta.max() # calculate the unit/scaling factor of energy\n",
    "    theta = theta/theta_scale\n",
    "    theta_long = np.reshape(np.transpose(theta),theta_raw.shape)\n",
    "    if plot:\n",
    "        plt.matshow(theta)\n",
    "        plt.colorbar(label='arbitrary unit')\n",
    "        plt.style.use('classic')\n",
    "        plt.show()\n",
    "    return theta, theta_long, theta_shift, theta_scale"
   ]
  },
  {
   "cell_type": "markdown",
   "id": "b3fa24c7",
   "metadata": {},
   "source": [
    "Plot the energy matrix:"
   ]
  },
  {
   "cell_type": "code",
   "execution_count": 78,
   "id": "68a99d4f",
   "metadata": {},
   "outputs": [
    {
     "data": {
      "image/png": "[encoded data removed]",
      "text/plain": [
       "<Figure size 1280x196.923 with 2 Axes>"
      ]
     },
     "metadata": {},
     "output_type": "display_data"
    }
   ],
   "source": [
    "theta_c,_,shift_c,scale_c = energy_matrix(theta_np[5:5+104],plot = True)"
   ]
  },
  {
   "cell_type": "code",
   "execution_count": 68,
   "id": "688cf4cc",
   "metadata": {},
   "outputs": [
    {
     "data": {
      "image/png": "[encoded data removed]",
      "text/plain": [
       "<Figure size 1280x196.923 with 2 Axes>"
      ]
     },
     "metadata": {},
     "output_type": "display_data"
    }
   ],
   "source": [
    "theta_c,_,shift_c,scale_c = energy_matrix(theta_np[4:4+104],plot = True)"
   ]
  },
  {
   "cell_type": "code",
   "execution_count": 61,
   "id": "0d06745e",
   "metadata": {},
   "outputs": [
    {
     "data": {
      "image/png": "[encoded data removed]",
      "text/plain": [
       "<Figure size 1280x196.923 with 2 Axes>"
      ]
     },
     "metadata": {},
     "output_type": "display_data"
    }
   ],
   "source": [
    "theta_c,_,shift_c,scale_c = energy_matrix(theta_np[4:4+104],plot = True)"
   ]
  },
  {
   "cell_type": "markdown",
   "id": "1e6c37c8",
   "metadata": {},
   "source": [
    "Now we turn to RNAP."
   ]
  },
  {
   "cell_type": "code",
   "execution_count": 79,
   "id": "09f1e131",
   "metadata": {},
   "outputs": [
    {
     "data": {
      "image/png": "[encoded data removed]",
      "text/plain": [
       "<Figure size 1280x160 with 2 Axes>"
      ]
     },
     "metadata": {},
     "output_type": "display_data"
    }
   ],
   "source": [
    "theta_r,_,shift_r,scale_r = energy_matrix(theta_np[5+104:],plot = True)"
   ]
  },
  {
   "cell_type": "code",
   "execution_count": 69,
   "id": "7355280d",
   "metadata": {},
   "outputs": [
    {
     "data": {
      "image/png": "[encoded data removed]",
      "text/plain": [
       "<Figure size 1280x160 with 2 Axes>"
      ]
     },
     "metadata": {},
     "output_type": "display_data"
    }
   ],
   "source": [
    "theta_r,_,shift_r,scale_r = energy_matrix(theta_np[4+104:],plot = True)"
   ]
  },
  {
   "cell_type": "code",
   "execution_count": 62,
   "id": "35ea3665",
   "metadata": {},
   "outputs": [
    {
     "data": {
      "image/png": "[encoded data removed]",
      "text/plain": [
       "<Figure size 1280x160 with 2 Axes>"
      ]
     },
     "metadata": {},
     "output_type": "display_data"
    }
   ],
   "source": [
    "theta_r,_,shift_r,scale_r = energy_matrix(theta_np[4+104:],plot = True)"
   ]
  },
  {
   "cell_type": "code",
   "execution_count": 26,
   "id": "095b4174",
   "metadata": {},
   "outputs": [
    {
     "data": {
      "text/plain": [
       "(0.0, 2.7204638)"
      ]
     },
     "execution_count": 26,
     "metadata": {},
     "output_type": "execute_result"
    }
   ],
   "source": [
    "shift_c, scale_c"
   ]
  },
  {
   "cell_type": "code",
   "execution_count": 70,
   "id": "41aa283c",
   "metadata": {},
   "outputs": [
    {
     "data": {
      "text/plain": [
       "(-10.055270795128308, 3.1833305)"
      ]
     },
     "execution_count": 70,
     "metadata": {},
     "output_type": "execute_result"
    }
   ],
   "source": [
    "shift_c, scale_c"
   ]
  },
  {
   "cell_type": "code",
   "execution_count": 63,
   "id": "eee7e376",
   "metadata": {},
   "outputs": [
    {
     "data": {
      "text/plain": [
       "(-8.488577060867101, 2.580164)"
      ]
     },
     "execution_count": 63,
     "metadata": {},
     "output_type": "execute_result"
    }
   ],
   "source": [
    "shift_c, scale_c"
   ]
  },
  {
   "cell_type": "code",
   "execution_count": 27,
   "id": "a8c3982c",
   "metadata": {},
   "outputs": [
    {
     "data": {
      "text/plain": [
       "(0.0, 4.8883915)"
      ]
     },
     "execution_count": 27,
     "metadata": {},
     "output_type": "execute_result"
    }
   ],
   "source": [
    "shift_r, scale_r"
   ]
  },
  {
   "cell_type": "code",
   "execution_count": 71,
   "id": "beba1762",
   "metadata": {},
   "outputs": [
    {
     "data": {
      "text/plain": [
       "(-25.09530529170297, 5.389796)"
      ]
     },
     "execution_count": 71,
     "metadata": {},
     "output_type": "execute_result"
    }
   ],
   "source": [
    "shift_r, scale_r"
   ]
  },
  {
   "cell_type": "code",
   "execution_count": 64,
   "id": "79204a22",
   "metadata": {},
   "outputs": [
    {
     "data": {
      "text/plain": [
       "(-21.30336822476238, 4.5674458)"
      ]
     },
     "execution_count": 64,
     "metadata": {},
     "output_type": "execute_result"
    }
   ],
   "source": [
    "shift_r, scale_r"
   ]
  }
 ],
 "metadata": {
  "kernelspec": {
   "display_name": "Python 3 (ipykernel)",
   "language": "python",
   "name": "python3"
  },
  "language_info": {
   "codemirror_mode": {
    "name": "ipython",
    "version": 3
   },
   "file_extension": ".py",
   "mimetype": "text/x-python",
   "name": "python",
   "nbconvert_exporter": "python",
   "pygments_lexer": "ipython3",
   "version": "3.11.3"
  }
 },
 "nbformat": 4,
 "nbformat_minor": 5
}
