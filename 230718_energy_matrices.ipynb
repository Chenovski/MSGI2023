{
 "cells": [
  {
   "cell_type": "markdown",
   "id": "f04eef39",
   "metadata": {},
   "source": [
    "File created by Jinghao Chen (jinghc2@uci.edu)."
   ]
  },
  {
   "cell_type": "markdown",
   "id": "8501ea1d",
   "metadata": {},
   "source": [
    "Make sure file \"gfp.pkl\" is in the directory."
   ]
  },
  {
   "cell_type": "code",
   "execution_count": 2,
   "id": "b0c3284f",
   "metadata": {},
   "outputs": [],
   "source": [
    "import pickle"
   ]
  },
  {
   "cell_type": "code",
   "execution_count": 3,
   "id": "fe9b35b8",
   "metadata": {},
   "outputs": [],
   "source": [
    "pickle_in = open(\"gfp.pkl\",\"rb\")\n",
    "gfp = pickle.load(pickle_in)"
   ]
  },
  {
   "cell_type": "markdown",
   "id": "d6f180ac",
   "metadata": {},
   "source": [
    "Check the first 5 reads from the bin #0."
   ]
  },
  {
   "cell_type": "code",
   "execution_count": 4,
   "id": "0a1ed607",
   "metadata": {},
   "outputs": [
    {
     "data": {
      "text/plain": [
       "['AATTAATGTGAGTTAGCTCACTCATTAGGCCCCCCAGGGTTTACACTTTTTGCTACCGTCTCGTATGTTGTTTGC',\n",
       " 'AATTAAGTAGAGATCGCTCACTCATTAGGCACCCAAGCCGTTACATTTTATGCTTCAGGCCCGTACGCTGTGTGT',\n",
       " 'GCTTAATGGGAGTGAGCTCACTCATTAGGCACCCCAGTCTTTAGACTTTATGCTTCCGGCTCGTATCTTGCGTGG',\n",
       " 'GCCCACTCTGAGTTAGCTCAACCACTATGCACCCCAGGCTCTACGCTATTTGATTCCGGCCTGATTGTTGTGTGA',\n",
       " 'AATTAATGTGAGTTAGCTCACTCATTTGGCAACCCAGTCTTTACCCTTTATGCTTCCGACTCGTATGTTGTTTGG']"
      ]
     },
     "execution_count": 4,
     "metadata": {},
     "output_type": "execute_result"
    }
   ],
   "source": [
    "gfp[0][:5]"
   ]
  },
  {
   "cell_type": "markdown",
   "id": "00757a12",
   "metadata": {},
   "source": [
    "The effective area is [-75,-1] so the length should be 75."
   ]
  },
  {
   "cell_type": "code",
   "execution_count": 5,
   "id": "b658ec7d",
   "metadata": {},
   "outputs": [
    {
     "data": {
      "text/plain": [
       "75"
      ]
     },
     "execution_count": 5,
     "metadata": {},
     "output_type": "execute_result"
    }
   ],
   "source": [
    "len(gfp[0][0])"
   ]
  },
  {
   "cell_type": "markdown",
   "id": "ce3c656b",
   "metadata": {},
   "source": [
    "Define 2 functions for future use."
   ]
  },
  {
   "cell_type": "code",
   "execution_count": 6,
   "id": "2baf5479",
   "metadata": {},
   "outputs": [],
   "source": [
    "def bp2bi(sq):\n",
    "    '''base pairs to binary data'''\n",
    "    l = []\n",
    "    for bp in sq:\n",
    "        if bp == 'A':\n",
    "            l += [1,0,0,0]\n",
    "        elif bp == 'C':\n",
    "            l += [0,1,0,0]\n",
    "        elif bp == 'G':\n",
    "            l += [0,0,1,0]\n",
    "        elif bp == 'T':\n",
    "            l += [0,0,0,1]\n",
    "        else:\n",
    "            print('Error: please ensure only ACGT nucliotides contained.')\n",
    "            return\n",
    "    return l"
   ]
  },
  {
   "cell_type": "code",
   "execution_count": 60,
   "id": "a364865a",
   "metadata": {},
   "outputs": [],
   "source": [
    "def gfp2data(gfp,bin_min,bin_max,pt_min,pt_max):\n",
    "    '''gfp to data in the standard form: feature values + label value'''\n",
    "    data = []\n",
    "    for k in range(bin_min,bin_max+1):\n",
    "        for sq in gfp[k]:\n",
    "            l = bp2bi(sq[pt_min:pt_max+1]) if pt_max != -1 else bp2bi(sq[pt_min:])\n",
    "            l.append(k)\n",
    "            data.append(l)\n",
    "    return data"
   ]
  },
  {
   "cell_type": "markdown",
   "id": "e4a83f34",
   "metadata": {},
   "source": [
    "Import numpy package."
   ]
  },
  {
   "cell_type": "code",
   "execution_count": 8,
   "id": "9a8f38a1",
   "metadata": {},
   "outputs": [],
   "source": [
    "import numpy as np\n",
    "np.random.seed(0)"
   ]
  },
  {
   "cell_type": "markdown",
   "id": "cb4b8bf7",
   "metadata": {},
   "source": [
    "Generate standard-form data, basically feature values + label (target) value."
   ]
  },
  {
   "cell_type": "code",
   "execution_count": 9,
   "id": "d1b79dbf",
   "metadata": {},
   "outputs": [],
   "source": [
    "data = gfp2data(gfp,1,9,-74,-49) # CRP binding sites: [-74:-49]\n",
    "data = np.array(data,np.float32)"
   ]
  },
  {
   "cell_type": "markdown",
   "id": "d50c2e01",
   "metadata": {},
   "source": [
    "Check the data we obtain."
   ]
  },
  {
   "cell_type": "code",
   "execution_count": 72,
   "id": "889281fb",
   "metadata": {},
   "outputs": [],
   "source": [
    "M, N = data.shape"
   ]
  },
  {
   "cell_type": "code",
   "execution_count": 73,
   "id": "ae5a8cc7",
   "metadata": {},
   "outputs": [
    {
     "data": {
      "text/plain": [
       "(46054, 105)"
      ]
     },
     "execution_count": 73,
     "metadata": {},
     "output_type": "execute_result"
    }
   ],
   "source": [
    "M, N"
   ]
  },
  {
   "cell_type": "markdown",
   "id": "2839cdb6",
   "metadata": {},
   "source": [
    "Import packages for machine learning model:"
   ]
  },
  {
   "cell_type": "code",
   "execution_count": 11,
   "id": "384add45",
   "metadata": {},
   "outputs": [],
   "source": [
    "from __future__ import division\n",
    "import torch\n",
    "import sys\n",
    "sys.path.append('code')\n",
    "import mltools as ml # make sure this is installed or already in the directory\n",
    "import matplotlib.pyplot as plt   # use matplotlib for plotting with inline plots"
   ]
  },
  {
   "cell_type": "code",
   "execution_count": 12,
   "id": "a0a874c7",
   "metadata": {},
   "outputs": [],
   "source": [
    "X, Y = data[:,:-1], data[:,-1]   # get features & target\n",
    "X, Y = ml.shuffleData(X,Y)       # reorder randomly rather than by class label"
   ]
  },
  {
   "cell_type": "markdown",
   "id": "3835b1e6",
   "metadata": {},
   "source": [
    "Usually we can rescale to improve numerical stability, speed convergence. But in this context, we have to keep minimal model in order to reserve its physical meaning, i.e., explanable from the first principle."
   ]
  },
  {
   "cell_type": "code",
   "execution_count": 13,
   "id": "a9227ce2",
   "metadata": {},
   "outputs": [],
   "source": [
    "# X,_  = ml.transforms.rescale(X)"
   ]
  },
  {
   "cell_type": "markdown",
   "id": "c9a544ba",
   "metadata": {},
   "source": [
    "We only use batches 1-4 and 6-9 (without 5) for our initial test, and make binary labels."
   ]
  },
  {
   "cell_type": "code",
   "execution_count": 15,
   "id": "2e539b31",
   "metadata": {},
   "outputs": [],
   "source": [
    "XA, YA = X[Y!=5,:], Y[Y!=5]\n",
    "YA = np.heaviside(YA-5,-1)"
   ]
  },
  {
   "cell_type": "code",
   "execution_count": 19,
   "id": "6802f5bb",
   "metadata": {},
   "outputs": [],
   "source": [
    "class logisticClassify(ml.classifier):     # trivial shell class to contain whatever we want\n",
    "    def predict(self,X): pass               # we will replace the shell later as we extend the class\n",
    "    def train(self,X): pass"
   ]
  },
  {
   "cell_type": "code",
   "execution_count": 20,
   "id": "c4cde19b",
   "metadata": {},
   "outputs": [],
   "source": [
    "def myPredict(self,X):\n",
    "    '''Predict model on data X; return nparray of class predictions'''\n",
    "    R = torch.Tensor(X) @ self.theta[1:] + self.theta[0]  # compute linear response\n",
    "    Y01 = 1*(R>0)                   # binary classification threshold; convert to integers\n",
    "    Y = self.classes[Y01]           # use lookup to convert back to class values if given\n",
    "    return Y                        # NOTE: returns as numpy, not torch! (b/c classes is a nparray)\n",
    "                                    # (This is necessary for mltools plot to work)"
   ]
  },
  {
   "cell_type": "code",
   "execution_count": 21,
   "id": "a80fd3a4",
   "metadata": {},
   "outputs": [],
   "source": [
    "# Create a shell classifier\n",
    "class logisticClassify(ml.classifier):\n",
    "    predict = myPredict              #\n",
    "    train = None                     # this function will be implemented later"
   ]
  },
  {
   "cell_type": "code",
   "execution_count": 79,
   "id": "029454e1",
   "metadata": {},
   "outputs": [],
   "source": [
    "from IPython import display\n",
    "\n",
    "def myTrain(self,X,Y, initStep=1.,stopTol=1e-4,stopEpochs=5000,alpha=0,plot=None):\n",
    "    \"\"\" Train the logistic regression using stochastic gradient descent \"\"\"\n",
    "    M,N = X.shape;                     # initialize the model if necessary:\n",
    "    self.classes = np.unique(Y);       # Y may have two classes, any values\n",
    "    X1 = np.hstack((np.ones((M,1)),X)) # X1 is X, but with an extra column of ones\n",
    "    Y01 = ml.toIndex(Y,self.classes);  # Y01 is Y, but with canonical values 0 or 1\n",
    "    \n",
    "    # if the shape of initial theta is wrong, randomly generate a correct one\n",
    "    if len(self.theta)!=N+1: self.theta=torch.randn((N+1,1),requires_grad = True);\n",
    "        \n",
    "    # init loop variables:\n",
    "    epoch=0; done=False; Jnll=[]; J01=[];            # initialize loop variables\n",
    "    myrate = lambda epoch: initStep*2.0/(2.0+epoch)  # step size as a f'n of epoch\n",
    "\n",
    "    opt = torch.optim.SGD([self.theta], initStep)\n",
    "    sched = torch.optim.lr_scheduler.LambdaLR(opt, myrate)\n",
    "    \n",
    "    while not done:\n",
    "        # Do an SGD pass through the entire data set:\n",
    "        Jnll.append(0.)\n",
    "        for i in np.random.permutation(M):\n",
    "            # Compute predictions and loss for *just* data X[i]:\n",
    "            ri = torch.tensor(X1[i],dtype=torch.float32) @ self.theta;\n",
    "            si = 1/(1+torch.exp(-ri)); # logistic (probability) prediction of the class\n",
    "            Ji = -Y01[i]*torch.log(si)-(1-Y01[i])*torch.log(1-si); # torch.Tensor shape [] (scalar)\n",
    "            Jnll[-1] += float(Ji)/M             # find running average of surrogate loss\n",
    "            opt.zero_grad()                     # Ji should be a torch.tensor of shape []\n",
    "            Ji.backward()\n",
    "            opt.step()\n",
    "        sched.step()        \n",
    "\n",
    "        epoch += 1\n",
    "        J01.append( self.err(X,Y) )  # evaluate the current actual error rate \n",
    "\n",
    "        display.clear_output(wait=True); plt.figure(figsize=(15,5));\n",
    "        plt.subplot(1,2,1); \n",
    "        plt.cla(); plt.plot(Jnll,'b-'); plt.xlabel('epoch'); plt.ylabel('surrogate loss');    # plot losses\n",
    "        plt.subplot(1,2,2); \n",
    "        plt.cla(); plt.plot(J01,'r-'); plt.xlabel('epoch'); plt.ylabel('error rate');    # plot error rate\n",
    "        plt.show(); plt.pause(.001);                    # let OS draw the plot\n",
    "\n",
    "        ## For debugging: you may want to print current parameters & losses\n",
    "        # print(self.theta, ' => ', Jnll, ' / ', J01[-1] )\n",
    "        # input()   # pause for keystroke\n",
    "\n",
    "        # check stopping criteria: exit if exceeded # of epochs ( > stopEpochs)\n",
    "        done = epoch > stopEpochs or abs(Jnll[-1]) < stopTol;   # or if Jnll not changing between epochs ( < stopTol )\n"
   ]
  },
  {
   "cell_type": "code",
   "execution_count": 29,
   "id": "f6e47618",
   "metadata": {},
   "outputs": [
    {
     "data": {
      "image/png": "[encoded data removed]",
      "text/plain": [
       "<Figure size 1000x500 with 2 Axes>"
      ]
     },
     "metadata": {},
     "output_type": "display_data"
    }
   ],
   "source": [
    "# Update our shell classifier definition\n",
    "class logisticClassify(ml.classifier):\n",
    "    predict = myPredict              # Now all parts are implemented\n",
    "    train = myTrain\n",
    "\n",
    "learnerA = logisticClassify()\n",
    "learnerA.classes = np.unique(YA)\n",
    "learnerA.theta = torch.tensor([.5]*N,requires_grad = True); # or randomly 0.5+0.2*torch.randn((N+1,1),requires_grad = True)\n",
    "learnerA.train(XA,YA,initStep=1e-1,stopEpochs=100,stopTol=1e-5);"
   ]
  },
  {
   "cell_type": "markdown",
   "id": "e712dd07",
   "metadata": {},
   "source": [
    "Change back into numpy format for visualization and analysis, and save it if necessary."
   ]
  },
  {
   "cell_type": "code",
   "execution_count": 30,
   "id": "ca371c82",
   "metadata": {},
   "outputs": [],
   "source": [
    "theta_np = learnerA.theta.detach().numpy()\n",
    "\n",
    "# pickle_out = open(\"type_your_variable_name_here.pkl\",\"wb\")\n",
    "# pickle.dump(theta_np, pickle_out)\n",
    "# pickle_out.close()"
   ]
  },
  {
   "cell_type": "markdown",
   "id": "94aa3dd4",
   "metadata": {},
   "source": [
    "Reshape it into the form of energy matrix, adjust sign. The sign was reversed because we correlate the higher energy value to the higher fluorescence level, while the highest fluorescence level should actually be from wild-type, which has the lowest binding energy, hence the relation should be reversed back."
   ]
  },
  {
   "cell_type": "code",
   "execution_count": 113,
   "id": "520d0138",
   "metadata": {},
   "outputs": [],
   "source": [
    "n = int((N-1)/4)"
   ]
  },
  {
   "cell_type": "code",
   "execution_count": 114,
   "id": "4c6dc4cf",
   "metadata": {},
   "outputs": [],
   "source": [
    "theta = - np.transpose(np.reshape(theta_np[1:],(n,4)))"
   ]
  },
  {
   "cell_type": "markdown",
   "id": "6617fea4",
   "metadata": {},
   "source": [
    "Energy shift."
   ]
  },
  {
   "cell_type": "code",
   "execution_count": 115,
   "id": "ce28f49f",
   "metadata": {},
   "outputs": [],
   "source": [
    "for i in range(n):\n",
    "    theta[:,i] -= min(theta[:,i])"
   ]
  },
  {
   "cell_type": "markdown",
   "id": "153203dd",
   "metadata": {},
   "source": [
    "For arbitrary unit (non-dimensional)."
   ]
  },
  {
   "cell_type": "code",
   "execution_count": 116,
   "id": "3b57bc51",
   "metadata": {},
   "outputs": [],
   "source": [
    "theta = theta/theta.max()"
   ]
  },
  {
   "cell_type": "markdown",
   "id": "b3fa24c7",
   "metadata": {},
   "source": [
    "Plot the energy matrix:"
   ]
  },
  {
   "cell_type": "code",
   "execution_count": 117,
   "id": "68a99d4f",
   "metadata": {},
   "outputs": [
    {
     "data": {
      "image/png": "[encoded data removed]",
      "text/plain": [
       "<Figure size 1280x196.923 with 2 Axes>"
      ]
     },
     "metadata": {},
     "output_type": "display_data"
    }
   ],
   "source": [
    "plt.matshow(theta)\n",
    "plt.colorbar(label='arbitrary unit')\n",
    "plt.style.use('classic')\n",
    "plt.show()"
   ]
  },
  {
   "cell_type": "markdown",
   "id": "1e6c37c8",
   "metadata": {},
   "source": [
    "Now we turn to RNAP."
   ]
  },
  {
   "cell_type": "code",
   "execution_count": 95,
   "id": "59192107",
   "metadata": {},
   "outputs": [],
   "source": [
    "data1 = gfp2data(gfp,1,9,-41,-1) # RNAP binding sites: [-41:-1]\n",
    "data1 = np.array(data1,np.float32)"
   ]
  },
  {
   "cell_type": "markdown",
   "id": "351acd81",
   "metadata": {},
   "source": [
    "Check the data shape."
   ]
  },
  {
   "cell_type": "code",
   "execution_count": 96,
   "id": "b17c7f3a",
   "metadata": {},
   "outputs": [],
   "source": [
    "M1, N1 = data1.shape"
   ]
  },
  {
   "cell_type": "code",
   "execution_count": 97,
   "id": "b3274b88",
   "metadata": {},
   "outputs": [
    {
     "data": {
      "text/plain": [
       "(46054, 165)"
      ]
     },
     "execution_count": 97,
     "metadata": {},
     "output_type": "execute_result"
    }
   ],
   "source": [
    "M1, N1"
   ]
  },
  {
   "cell_type": "markdown",
   "id": "f54791ba",
   "metadata": {},
   "source": [
    "Now we literally just need to repeat everything analogously."
   ]
  },
  {
   "cell_type": "code",
   "execution_count": 98,
   "id": "c1173f2e",
   "metadata": {},
   "outputs": [],
   "source": [
    "X1, Y1 = data1[:,:-1], data1[:,-1]   # get features & target\n",
    "X1, Y1 = ml.shuffleData(X1,Y1)       # reorder randomly rather than by class label"
   ]
  },
  {
   "cell_type": "code",
   "execution_count": 99,
   "id": "3324ce5d",
   "metadata": {},
   "outputs": [],
   "source": [
    "XB, YB = X1[Y1!=5,:], Y1[Y1!=5]\n",
    "YB = np.heaviside(YB-5,-1)"
   ]
  },
  {
   "cell_type": "code",
   "execution_count": 101,
   "id": "9f6555bb",
   "metadata": {},
   "outputs": [
    {
     "data": {
      "image/png": "[encoded data removed]",
      "text/plain": [
       "<Figure size 1200x400 with 2 Axes>"
      ]
     },
     "metadata": {},
     "output_type": "display_data"
    }
   ],
   "source": [
    "learnerB = logisticClassify()\n",
    "learnerB.classes = np.unique(YB)\n",
    "learnerB.theta = 0.5+0.2*torch.randn((N1+1,1),requires_grad = True) # or deterministic: torch.tensor([.5]*N1,requires_grad = True);\n",
    "learnerB.train(XB,YB,initStep=1e-1,stopEpochs=100,stopTol=1e-5);"
   ]
  },
  {
   "cell_type": "code",
   "execution_count": 102,
   "id": "417f809e",
   "metadata": {},
   "outputs": [],
   "source": [
    "theta1_np = learnerB.theta.detach().numpy()\n",
    "\n",
    "# pickle_out = open(\"type_your_variable_name_here.pkl\",\"wb\")\n",
    "# pickle.dump(theta_np, pickle_out)\n",
    "# pickle_out.close()"
   ]
  },
  {
   "cell_type": "code",
   "execution_count": 103,
   "id": "fb9c7457",
   "metadata": {},
   "outputs": [
    {
     "data": {
      "text/plain": [
       "(165,)"
      ]
     },
     "execution_count": 103,
     "metadata": {},
     "output_type": "execute_result"
    }
   ],
   "source": [
    "theta1_np.shape"
   ]
  },
  {
   "cell_type": "code",
   "execution_count": 104,
   "id": "09f1e131",
   "metadata": {},
   "outputs": [],
   "source": [
    "n1 = int((N1-1)/4)"
   ]
  },
  {
   "cell_type": "code",
   "execution_count": 109,
   "id": "366bd552",
   "metadata": {},
   "outputs": [],
   "source": [
    "theta1 = - np.transpose(np.reshape(theta1_np[1:],(n1,4)))"
   ]
  },
  {
   "cell_type": "code",
   "execution_count": 110,
   "id": "21354747",
   "metadata": {},
   "outputs": [],
   "source": [
    "for i in range(n1):\n",
    "    theta1[:,i] -= min(theta1[:,i])"
   ]
  },
  {
   "cell_type": "code",
   "execution_count": 111,
   "id": "2523ddf9",
   "metadata": {},
   "outputs": [],
   "source": [
    "theta1 = theta1/theta1.max()"
   ]
  },
  {
   "cell_type": "code",
   "execution_count": 112,
   "id": "736694fb",
   "metadata": {},
   "outputs": [
    {
     "data": {
      "image/png": "[encoded data removed]",
      "text/plain": [
       "<Figure size 1280x160 with 2 Axes>"
      ]
     },
     "metadata": {},
     "output_type": "display_data"
    }
   ],
   "source": [
    "plt.matshow(theta1)\n",
    "plt.colorbar(label='arbitrary unit')\n",
    "plt.style.use('classic')\n",
    "plt.show()"
   ]
  },
  {
   "cell_type": "code",
   "execution_count": null,
   "id": "954c5de4",
   "metadata": {},
   "outputs": [],
   "source": []
  }
 ],
 "metadata": {
  "kernelspec": {
   "display_name": "Python 3 (ipykernel)",
   "language": "python",
   "name": "python3"
  },
  "language_info": {
   "codemirror_mode": {
    "name": "ipython",
    "version": 3
   },
   "file_extension": ".py",
   "mimetype": "text/x-python",
   "name": "python",
   "nbconvert_exporter": "python",
   "pygments_lexer": "ipython3",
   "version": "3.10.6"
  }
 },
 "nbformat": 4,
 "nbformat_minor": 5
}
