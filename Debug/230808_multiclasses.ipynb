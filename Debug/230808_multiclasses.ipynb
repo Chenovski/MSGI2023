{
 "cells": [
  {
   "cell_type": "markdown",
   "id": "f04eef39",
   "metadata": {},
   "source": [
    "File created by Jinghao Chen (jinghc2@uci.edu)."
   ]
  },
  {
   "cell_type": "markdown",
   "id": "e4a83f34",
   "metadata": {},
   "source": [
    "Import necessary packages."
   ]
  },
  {
   "cell_type": "code",
   "execution_count": 1,
   "id": "b0c3284f",
   "metadata": {},
   "outputs": [],
   "source": [
    "import pickle\n",
    "import torch\n",
    "import mptools as mp\n",
    "import numpy as np\n",
    "# np.random.seed(114514)"
   ]
  },
  {
   "cell_type": "markdown",
   "id": "b4d67b23",
   "metadata": {},
   "source": [
    "Load combined data from repository \"/data\"."
   ]
  },
  {
   "cell_type": "code",
   "execution_count": 2,
   "id": "fe9b35b8",
   "metadata": {},
   "outputs": [],
   "source": [
    "pickle_in = open(\"data/data_comb.pkl\",\"rb\")\n",
    "data_comb = pickle.load(pickle_in)"
   ]
  },
  {
   "cell_type": "markdown",
   "id": "250a0103",
   "metadata": {},
   "source": [
    "Shuffle and classified data into customized ordinal bins."
   ]
  },
  {
   "cell_type": "code",
   "execution_count": 3,
   "id": "a0a874c7",
   "metadata": {},
   "outputs": [],
   "source": [
    "X, Y = data_comb[:,:-1], data_comb[:,-1]   # get features & target\n",
    "X, Y = mp.shuffleData(X,Y)       # reorder randomly rather than by class label"
   ]
  },
  {
   "cell_type": "code",
   "execution_count": 92,
   "id": "662f4d7d",
   "metadata": {},
   "outputs": [],
   "source": [
    "Xtr = X\n",
    "Y0 = (Y>3)\n",
    "Y1 = (Y>6)\n",
    "Ytr = [1*Y0,1*Y1]"
   ]
  },
  {
   "cell_type": "code",
   "execution_count": 4,
   "id": "25d025ea",
   "metadata": {},
   "outputs": [],
   "source": [
    "Xtr, Ytr = X, Y\n",
    "Ytr[Y<=3] = 0\n",
    "Ytr[(Y>3)&(Y<=6)] = 1\n",
    "Ytr[Y>6] = 2"
   ]
  },
  {
   "cell_type": "code",
   "execution_count": 5,
   "id": "17009139",
   "metadata": {},
   "outputs": [
    {
     "data": {
      "text/plain": [
       "3"
      ]
     },
     "execution_count": 5,
     "metadata": {},
     "output_type": "execute_result"
    }
   ],
   "source": [
    "Nc = len(set(Ytr)) # number of class(es)\n",
    "Nc"
   ]
  },
  {
   "cell_type": "markdown",
   "id": "78393c5d",
   "metadata": {},
   "source": [
    "Calculate necessary values."
   ]
  },
  {
   "cell_type": "code",
   "execution_count": 7,
   "id": "9aa14c96",
   "metadata": {},
   "outputs": [],
   "source": [
    "N_comb = data_comb.shape[1]"
   ]
  },
  {
   "cell_type": "code",
   "execution_count": 8,
   "id": "76fa1224",
   "metadata": {},
   "outputs": [],
   "source": [
    "N_theta = Nc-1+3 + N_comb-1 # the number of unknown parameters"
   ]
  },
  {
   "cell_type": "markdown",
   "id": "38d04218",
   "metadata": {},
   "source": [
    "Initialize $\\theta$."
   ]
  },
  {
   "cell_type": "code",
   "execution_count": 9,
   "id": "d68d60b5",
   "metadata": {},
   "outputs": [],
   "source": [
    "theta_ini = np.array([.3,.6,.06,.5,-3.26]+[0]*(N_comb-1)).reshape(N_theta,1) "
   ]
  },
  {
   "cell_type": "markdown",
   "id": "51e9e84a",
   "metadata": {},
   "source": [
    "Train the classifier to jointly learn $\\theta$."
   ]
  },
  {
   "cell_type": "code",
   "execution_count": 10,
   "id": "15e524bc",
   "metadata": {},
   "outputs": [
    {
     "name": "stdout",
     "output_type": "stream",
     "text": [
      "Warning: bad choice of initial values.\n"
     ]
    }
   ],
   "source": [
    "learner = mp.jointClassifierMC()\n",
    "learner.classes = np.unique(Ytr)\n",
    "learner.theta = torch.tensor(theta_ini,requires_grad = True,dtype=torch.float32) # TODO\n",
    "learner.train(Xtr,Ytr,initStep=1e-1,stopTol=1e-4,stopEpochs=50,alpha=10,plotOpt=True);"
   ]
  },
  {
   "cell_type": "markdown",
   "id": "e712dd07",
   "metadata": {},
   "source": [
    "First 4 values are reference and maximal transcription rates in ratio $\\frac{\\bar{\\tau}}{\\tau_{max}}$, concentration of CRP $C_c$, concentration of RNAP $C_r$ and CRP-RNAP interaction energy $\\varepsilon_i$."
   ]
  },
  {
   "cell_type": "code",
   "execution_count": 9,
   "id": "ca371c82",
   "metadata": {},
   "outputs": [
    {
     "data": {
      "text/plain": [
       "array([[ 0.4633039 ],\n",
       "       [ 0.05099376],\n",
       "       [ 0.0764447 ],\n",
       "       [-4.9386635 ]], dtype=float32)"
      ]
     },
     "execution_count": 9,
     "metadata": {},
     "output_type": "execute_result"
    }
   ],
   "source": [
    "theta_np = learner.theta.detach().numpy()\n",
    "theta_np[:4] # value after 50 epochs"
   ]
  },
  {
   "cell_type": "markdown",
   "id": "d530633c",
   "metadata": {},
   "source": [
    "Save it if needed."
   ]
  },
  {
   "cell_type": "code",
   "execution_count": 16,
   "id": "e9cf6c12",
   "metadata": {},
   "outputs": [],
   "source": [
    "# pickle_out = open(\"data/theta230802joint272param.pkl\",\"wb\")\n",
    "# pickle.dump(theta_np, pickle_out)\n",
    "# pickle_out.close()"
   ]
  },
  {
   "cell_type": "markdown",
   "id": "b3fa24c7",
   "metadata": {},
   "source": [
    "Plot the energy matrix for CRP, display energy shift and unit."
   ]
  },
  {
   "cell_type": "code",
   "execution_count": 15,
   "id": "68a99d4f",
   "metadata": {},
   "outputs": [
    {
     "data": {
      "image/png": "[encoded data removed]",
      "text/plain": [
       "<Figure size 1280x196.923 with 2 Axes>"
      ]
     },
     "metadata": {},
     "output_type": "display_data"
    }
   ],
   "source": [
    "theta_c,_,shift_c,scale_c = mp.energyMatrix(theta_np[4:4+104],plot = True)"
   ]
  },
  {
   "cell_type": "code",
   "execution_count": 12,
   "id": "095b4174",
   "metadata": {},
   "outputs": [
    {
     "data": {
      "text/plain": [
       "(-8.904389147646725, 2.7583778)"
      ]
     },
     "execution_count": 12,
     "metadata": {},
     "output_type": "execute_result"
    }
   ],
   "source": [
    "shift_c, scale_c"
   ]
  },
  {
   "cell_type": "markdown",
   "id": "1e6c37c8",
   "metadata": {},
   "source": [
    "Now we turn to RNAP."
   ]
  },
  {
   "cell_type": "code",
   "execution_count": 13,
   "id": "09f1e131",
   "metadata": {},
   "outputs": [
    {
     "data": {
      "image/png": "[encoded data removed]",
      "text/plain": [
       "<Figure size 1280x160 with 2 Axes>"
      ]
     },
     "metadata": {},
     "output_type": "display_data"
    }
   ],
   "source": [
    "theta_r,_,shift_r,scale_r = mp.energyMatrix(theta_np[4+104:],plot = True)"
   ]
  },
  {
   "cell_type": "code",
   "execution_count": 14,
   "id": "79204a22",
   "metadata": {},
   "outputs": [
    {
     "data": {
      "text/plain": [
       "(-22.413158709183335, 4.7929316)"
      ]
     },
     "execution_count": 14,
     "metadata": {},
     "output_type": "execute_result"
    }
   ],
   "source": [
    "shift_r, scale_r"
   ]
  }
 ],
 "metadata": {
  "kernelspec": {
   "display_name": "Python 3 (ipykernel)",
   "language": "python",
   "name": "python3"
  },
  "language_info": {
   "codemirror_mode": {
    "name": "ipython",
    "version": 3
   },
   "file_extension": ".py",
   "mimetype": "text/x-python",
   "name": "python",
   "nbconvert_exporter": "python",
   "pygments_lexer": "ipython3",
   "version": "3.11.3"
  }
 },
 "nbformat": 4,
 "nbformat_minor": 5
}
