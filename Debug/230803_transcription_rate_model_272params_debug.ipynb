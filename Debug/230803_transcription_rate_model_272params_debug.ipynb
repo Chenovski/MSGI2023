{
 "cells": [
  {
   "cell_type": "markdown",
   "id": "f04eef39",
   "metadata": {},
   "source": [
    "File created by Jinghao Chen (jinghc2@uci.edu)."
   ]
  },
  {
   "cell_type": "markdown",
   "id": "8501ea1d",
   "metadata": {},
   "source": [
    "Make sure file \"gfp.pkl\" is in the directory."
   ]
  },
  {
   "cell_type": "code",
   "execution_count": 1,
   "id": "b0c3284f",
   "metadata": {},
   "outputs": [],
   "source": [
    "import pickle"
   ]
  },
  {
   "cell_type": "code",
   "execution_count": 2,
   "id": "fe9b35b8",
   "metadata": {},
   "outputs": [],
   "source": [
    "pickle_in = open(\"gfp.pkl\",\"rb\")\n",
    "gfp = pickle.load(pickle_in)"
   ]
  },
  {
   "cell_type": "markdown",
   "id": "d6f180ac",
   "metadata": {},
   "source": [
    "Check the first 5 reads from the bin #0."
   ]
  },
  {
   "cell_type": "code",
   "execution_count": 3,
   "id": "0a1ed607",
   "metadata": {},
   "outputs": [
    {
     "data": {
      "text/plain": [
       "['AATTAATGTGAGTTAGCTCACTCATTAGGCCCCCCAGGGTTTACACTTTTTGCTACCGTCTCGTATGTTGTTTGC',\n",
       " 'AATTAAGTAGAGATCGCTCACTCATTAGGCACCCAAGCCGTTACATTTTATGCTTCAGGCCCGTACGCTGTGTGT',\n",
       " 'GCTTAATGGGAGTGAGCTCACTCATTAGGCACCCCAGTCTTTAGACTTTATGCTTCCGGCTCGTATCTTGCGTGG',\n",
       " 'GCCCACTCTGAGTTAGCTCAACCACTATGCACCCCAGGCTCTACGCTATTTGATTCCGGCCTGATTGTTGTGTGA',\n",
       " 'AATTAATGTGAGTTAGCTCACTCATTTGGCAACCCAGTCTTTACCCTTTATGCTTCCGACTCGTATGTTGTTTGG']"
      ]
     },
     "execution_count": 3,
     "metadata": {},
     "output_type": "execute_result"
    }
   ],
   "source": [
    "gfp[0][:5]"
   ]
  },
  {
   "cell_type": "markdown",
   "id": "00757a12",
   "metadata": {},
   "source": [
    "The effective area is [-75,-1] so the length should be 75."
   ]
  },
  {
   "cell_type": "code",
   "execution_count": 4,
   "id": "b658ec7d",
   "metadata": {},
   "outputs": [
    {
     "data": {
      "text/plain": [
       "75"
      ]
     },
     "execution_count": 4,
     "metadata": {},
     "output_type": "execute_result"
    }
   ],
   "source": [
    "len(gfp[0][0])"
   ]
  },
  {
   "cell_type": "markdown",
   "id": "ce3c656b",
   "metadata": {},
   "source": [
    "Define 2 functions for future use."
   ]
  },
  {
   "cell_type": "code",
   "execution_count": 5,
   "id": "2baf5479",
   "metadata": {},
   "outputs": [],
   "source": [
    "def bp2bi(sq):\n",
    "    '''base pairs to binary data'''\n",
    "    l = []\n",
    "    for bp in sq:\n",
    "        if bp == 'A':\n",
    "            l += [1,0,0,0]\n",
    "        elif bp == 'C':\n",
    "            l += [0,1,0,0]\n",
    "        elif bp == 'G':\n",
    "            l += [0,0,1,0]\n",
    "        elif bp == 'T':\n",
    "            l += [0,0,0,1]\n",
    "        else:\n",
    "            print('Error: please ensure only ACGT nucliotides contained.')\n",
    "            return\n",
    "    return l"
   ]
  },
  {
   "cell_type": "code",
   "execution_count": 6,
   "id": "a364865a",
   "metadata": {},
   "outputs": [],
   "source": [
    "def gfp2data(gfp,bin_min,bin_max,pt_min,pt_max):\n",
    "    '''gfp to data in the standard form: feature values + label value'''\n",
    "    data = []\n",
    "    for k in range(bin_min,bin_max+1):\n",
    "        for sq in gfp[k]:\n",
    "            l = bp2bi(sq[pt_min:pt_max+1]) if pt_max != -1 else bp2bi(sq[pt_min:])\n",
    "            l.append(k)\n",
    "            data.append(l)\n",
    "    return data"
   ]
  },
  {
   "cell_type": "markdown",
   "id": "e4a83f34",
   "metadata": {},
   "source": [
    "Import numpy package."
   ]
  },
  {
   "cell_type": "code",
   "execution_count": 7,
   "id": "9a8f38a1",
   "metadata": {},
   "outputs": [],
   "source": [
    "import numpy as np\n",
    "np.random.seed(114514)"
   ]
  },
  {
   "cell_type": "markdown",
   "id": "cb4b8bf7",
   "metadata": {},
   "source": [
    "Generate standard-form data, basically feature values + label (target) value."
   ]
  },
  {
   "cell_type": "code",
   "execution_count": 8,
   "id": "d1b79dbf",
   "metadata": {},
   "outputs": [],
   "source": [
    "data = gfp2data(gfp,1,9,-74,-49) # CRP binding sites: [-74:-49]\n",
    "data = np.array(data,np.float32)"
   ]
  },
  {
   "cell_type": "code",
   "execution_count": 9,
   "id": "a4674754",
   "metadata": {},
   "outputs": [],
   "source": [
    "data1 = gfp2data(gfp,1,9,-41,-1) # RNAP binding sites: [-41:-1]\n",
    "data1 = np.array(data1,np.float32)"
   ]
  },
  {
   "cell_type": "markdown",
   "id": "d50c2e01",
   "metadata": {},
   "source": [
    "Check the data we obtain."
   ]
  },
  {
   "cell_type": "code",
   "execution_count": 10,
   "id": "1ce708cb",
   "metadata": {},
   "outputs": [],
   "source": [
    "M, N = data.shape"
   ]
  },
  {
   "cell_type": "code",
   "execution_count": 11,
   "id": "1c1d0d75",
   "metadata": {},
   "outputs": [
    {
     "data": {
      "text/plain": [
       "(46054, 105)"
      ]
     },
     "execution_count": 11,
     "metadata": {},
     "output_type": "execute_result"
    }
   ],
   "source": [
    "M, N"
   ]
  },
  {
   "cell_type": "code",
   "execution_count": 12,
   "id": "da1c7cc7",
   "metadata": {},
   "outputs": [],
   "source": [
    "M1, N1 = data1.shape"
   ]
  },
  {
   "cell_type": "code",
   "execution_count": 13,
   "id": "235e08f5",
   "metadata": {},
   "outputs": [
    {
     "data": {
      "text/plain": [
       "(46054, 165)"
      ]
     },
     "execution_count": 13,
     "metadata": {},
     "output_type": "execute_result"
    }
   ],
   "source": [
    "M1, N1"
   ]
  },
  {
   "cell_type": "code",
   "execution_count": 14,
   "id": "355cb260",
   "metadata": {},
   "outputs": [],
   "source": [
    "data_comb = np.hstack((data[:,:-1],data1))"
   ]
  },
  {
   "cell_type": "code",
   "execution_count": 15,
   "id": "45c665c3",
   "metadata": {},
   "outputs": [],
   "source": [
    "M_comb, N_comb = data_comb.shape"
   ]
  },
  {
   "cell_type": "code",
   "execution_count": 16,
   "id": "2f58d6ac",
   "metadata": {},
   "outputs": [
    {
     "data": {
      "text/plain": [
       "(46054, 269)"
      ]
     },
     "execution_count": 16,
     "metadata": {},
     "output_type": "execute_result"
    }
   ],
   "source": [
    "M_comb, N_comb"
   ]
  },
  {
   "cell_type": "markdown",
   "id": "2839cdb6",
   "metadata": {},
   "source": [
    "Import packages for machine learning model:"
   ]
  },
  {
   "cell_type": "code",
   "execution_count": 17,
   "id": "384add45",
   "metadata": {},
   "outputs": [],
   "source": [
    "from __future__ import division\n",
    "import torch\n",
    "torch.manual_seed(1919810)\n",
    "import sys\n",
    "sys.path.append('code')\n",
    "import mltools as ml # make sure this is installed or already in the directory\n",
    "import matplotlib.pyplot as plt   # use matplotlib for plotting with inline plots"
   ]
  },
  {
   "cell_type": "code",
   "execution_count": 18,
   "id": "a0a874c7",
   "metadata": {},
   "outputs": [],
   "source": [
    "X, Y = data_comb[:,:-1], data_comb[:,-1]   # get features & target\n",
    "X, Y = ml.shuffleData(X,Y)       # reorder randomly rather than by class label"
   ]
  },
  {
   "cell_type": "markdown",
   "id": "3835b1e6",
   "metadata": {},
   "source": [
    "Usually we can rescale to improve numerical stability, speed convergence. But in this context, we have to keep minimal model in order to reserve its physical meaning, i.e., explanable from the first principle."
   ]
  },
  {
   "cell_type": "code",
   "execution_count": 19,
   "id": "a9227ce2",
   "metadata": {},
   "outputs": [],
   "source": [
    "# X,_  = ml.transforms.rescale(X)"
   ]
  },
  {
   "cell_type": "markdown",
   "id": "c9a544ba",
   "metadata": {},
   "source": [
    "We only use batches 1-4 and 6-9 (without 5) for our initial test, and make binary labels."
   ]
  },
  {
   "cell_type": "code",
   "execution_count": 20,
   "id": "2e539b31",
   "metadata": {},
   "outputs": [],
   "source": [
    "XA, YA = X[Y!=5,:], Y[Y!=5]\n",
    "YA = np.heaviside(YA-5,-1)"
   ]
  },
  {
   "cell_type": "code",
   "execution_count": 21,
   "id": "6802f5bb",
   "metadata": {},
   "outputs": [],
   "source": [
    "class logisticClassify(ml.classifier):     # trivial shell class to contain whatever we want\n",
    "    def predict(self,X): pass               # we will replace the shell later as we extend the class\n",
    "    def train(self,X): pass"
   ]
  },
  {
   "cell_type": "code",
   "execution_count": 22,
   "id": "c4cde19b",
   "metadata": {},
   "outputs": [],
   "source": [
    "def myPredict(self,X):\n",
    "    '''Predict model on data X; return nparray of class predictions'''\n",
    "    \n",
    "    N1 = 104 # length of CRP binding sites\n",
    "    \n",
    "    X1 = X[:,:N1] # X1 is a CRP sequence\n",
    "    X2 = X[:,N1:] # X2 is a RNAP sequence\n",
    "    \n",
    "    R = 1.98e-3 # gas const\n",
    "    T = 310 # temperature at which cells were induced\n",
    "    RT = R*T\n",
    "\n",
    "    eps_c = torch.Tensor(X1) @ self.theta[4:4+N1]; # CRP binding energy\n",
    "    eps_r = torch.Tensor(X2) @ self.theta[4+N1:]; # RNAP binding energy\n",
    "    wi = self.theta[2]*(torch.exp(-eps_r/RT)+self.theta[1]*torch.exp(-(eps_c+eps_r+self.theta[3])/RT))\n",
    "    ri = wi/(1+self.theta[1]*torch.exp(-eps_c/RT)+wi)-self.theta[0]\n",
    "\n",
    "    Y01 = 1*(ri>0)                   # binary classification threshold; convert to integers\n",
    "    Y = self.classes[Y01]           # use lookup to convert back to class values if given\n",
    "    return Y                        # NOTE: returns as numpy, not torch! (b/c classes is a nparray)\n",
    "                                    # (This is necessary for mltools plot to work)"
   ]
  },
  {
   "cell_type": "code",
   "execution_count": 23,
   "id": "a80fd3a4",
   "metadata": {},
   "outputs": [],
   "source": [
    "# Create a shell classifier\n",
    "class logisticClassify(ml.classifier):\n",
    "    predict = myPredict              #\n",
    "    train = None                     # this function will be implemented later"
   ]
  },
  {
   "cell_type": "code",
   "execution_count": 67,
   "id": "029454e1",
   "metadata": {},
   "outputs": [],
   "source": [
    "from IPython import display\n",
    "\n",
    "def myTrain(self,X,Y,initStep=1.,stopTol=1e-4,stopEpochs=5000,alpha=0,plot=None):\n",
    "    \"\"\" Train the logistic regression using stochastic gradient descent \"\"\"\n",
    "    \n",
    "    M,N = X.shape;                     # initialize the model if necessary:\n",
    "    N1 = 104 # length of CRP binding sites\n",
    "    # N2 = N-N1;\n",
    "    X1 = X[:,:N1] # X1 is a CRP sequence\n",
    "    X2 = X[:,N1:] # X2 is a RNAP sequence\n",
    "    self.classes = np.unique(Y);       # Y may have two classes, any values\n",
    "    # Y01 = ml.toIndex(Y,self.classes);  # Y01 is Y, but with canonical values 0 or 1\n",
    "    Y01 = Y\n",
    "    \n",
    "    R = 1.98e-3 # gas const\n",
    "    T = 310 # temperature at which cells were induced\n",
    "    RT = R*T\n",
    "    \n",
    "    N_theta = 4+N # the number of unknown parameters\n",
    "    # if the shape of initial theta is wrong, randomly generate a correct one\n",
    "    if len(self.theta)!=N_theta: self.theta=torch.randn((N_theta,1),requires_grad = True);\n",
    "    \n",
    "        \n",
    "    # init loop variables:\n",
    "    epoch=0; done=False; Jnll=[]; J01=[];            # initialize loop variables\n",
    "    myrate = lambda epoch: initStep*2.0/(2.0+epoch)  # step size as a f'n of epoch\n",
    "    \n",
    "    opt = torch.optim.SGD([self.theta], initStep)\n",
    "    sched = torch.optim.lr_scheduler.LambdaLR(opt, myrate)\n",
    "    \n",
    "    \n",
    "    while not done:\n",
    "        # Do an SGD pass through the entire data set:\n",
    "        Jnll.append(0.)\n",
    "        for i in np.random.permutation(M):\n",
    "            # Compute predictions and loss for *just* data X[i]:\n",
    "            # Note: @ operation requires Python 3.5+\n",
    "            eps_c = torch.tensor(X1[i],dtype=torch.float32) @ self.theta[4:4+N1]; # CRP binding energy\n",
    "            eps_r = torch.tensor(X2[i],dtype=torch.float32) @ self.theta[4+N1:]; # RNAP binding energy\n",
    "            wi = self.theta[2]*(torch.exp(-eps_r/RT)+self.theta[1]*torch.exp(-(eps_c+eps_r+self.theta[3])/RT))\n",
    "            ri = wi/(1+self.theta[1]*torch.exp(-eps_c/RT)+wi)-self.theta[0]\n",
    "            si = 1/(1+torch.exp(-ri)); # logistic (probability) prediction of the class\n",
    "            Ji_pre = -Y01[i]*torch.log(si)-(1-Y01[i])*torch.log(1-si); # torch.Tensor shape [] (scalar)\n",
    "            # Ji_pre = torch.maximum( 1-(2*Y01[i]-1)*ri, 0*ri); # Hinge loss\n",
    "            \n",
    "            # add penalty to constrain the range of parameters\n",
    "            Ji0 = Ji_pre + alpha*torch.maximum( self.theta[0]*(self.theta[0]-1), 0*self.theta[0]); \n",
    "            Ji1 = Ji0 + alpha*torch.maximum( self.theta[1]*(self.theta[1]-1), 0*self.theta[1]);\n",
    "            Ji = Ji1 + alpha*torch.maximum( self.theta[2]*(self.theta[2]-1), 0*self.theta[2]);\n",
    "            \n",
    "            Jnll[-1] += float(Ji)/M             # find running average of surrogate loss\n",
    "            opt.zero_grad()                     # Ji should be a torch.tensor of shape []\n",
    "            Ji.backward()\n",
    "            opt.step()\n",
    "        sched.step()        \n",
    "\n",
    "        epoch += 1\n",
    "\n",
    "        J01.append( self.err(X,Y) )  # evaluate the current actual error rate \n",
    "        \n",
    "        theta1 = self.theta.detach().numpy()\n",
    "        eps_c = X1 @ theta1[4:4+N1]; # CRP binding energy\n",
    "        eps_r = X2 @ theta1[4+N1:]; # RNAP binding energy\n",
    "        wi = theta1[2]*(np.exp(-eps_r/RT)+theta1[1]*np.exp(-(eps_c+eps_r+theta1[3])/RT))\n",
    "        tau = wi/(1+theta1[1]*np.exp(-eps_c/RT)+wi)\n",
    "        \n",
    "        print('at epoch '+ str(epoch) +', big: '+str(sum(tau>theta1[0]))+', small: '+str(sum(tau<theta1[0]))+ ', error rate: '+str(J01[-1]))\n",
    "\n",
    "        ## For debugging: you may want to print current parameters & losses\n",
    "        # print(self.theta, ' => ', Jnll, ' / ', J01[-1] )\n",
    "        # input()   # pause for keystroke\n",
    "\n",
    "        # check stopping criteria: exit if exceeded # of epochs ( > stopEpochs)\n",
    "        done = epoch > stopEpochs or abs(Jnll[-1]) < stopTol;   # or if Jnll not changing between epochs ( < stopTol )\n"
   ]
  },
  {
   "cell_type": "code",
   "execution_count": 68,
   "id": "8d2d6009",
   "metadata": {},
   "outputs": [],
   "source": [
    "N_theta = 4+N_comb-1 # the number of unknown parameters"
   ]
  },
  {
   "cell_type": "code",
   "execution_count": 69,
   "id": "71763004",
   "metadata": {},
   "outputs": [],
   "source": [
    "theta_ini = np.array([0.5,0.06,0.5,-3.26]+[0]*(N_comb-1)).reshape(N_theta,1) # + 0.1*np.random.randn(N_theta,1)"
   ]
  },
  {
   "cell_type": "code",
   "execution_count": 85,
   "id": "f6e47618",
   "metadata": {},
   "outputs": [
    {
     "name": "stdout",
     "output_type": "stream",
     "text": [
      "at epoch 1, big: [22461], small: [18215], error rate: 0.17917199331301012\n",
      "at epoch 2, big: [19769], small: [20907], error rate: 0.14740879142491886\n",
      "at epoch 3, big: [21107], small: [19569], error rate: 0.1554233454616973\n",
      "at epoch 4, big: [21378], small: [19298], error rate: 0.15579211328547546\n",
      "at epoch 5, big: [18576], small: [22100], error rate: 0.13455108663585408\n",
      "at epoch 6, big: [19515], small: [21161], error rate: 0.13786999704985742\n",
      "at epoch 7, big: [19022], small: [21654], error rate: 0.1339118890746386\n",
      "at epoch 8, big: [19226], small: [21450], error rate: 0.13445274854951322\n",
      "at epoch 9, big: [19541], small: [21135], error rate: 0.13580489723669978\n",
      "at epoch 10, big: [19458], small: [21218], error rate: 0.13499360802438784\n",
      "at epoch 11, big: [20416], small: [20260], error rate: 0.14202478119775788\n",
      "at epoch 12, big: [19140], small: [21536], error rate: 0.13268266299537812\n",
      "at epoch 13, big: [18941], small: [21735], error rate: 0.1306913167469761\n",
      "at epoch 14, big: [18642], small: [22034], error rate: 0.13076507031173173\n",
      "at epoch 15, big: [19462], small: [21214], error rate: 0.13396105811780903\n",
      "at epoch 16, big: [19084], small: [21592], error rate: 0.13179762021831054\n",
      "at epoch 17, big: [19745], small: [20931], error rate: 0.13541154489133642\n",
      "at epoch 18, big: [19490], small: [21186], error rate: 0.1339118890746386\n",
      "at epoch 19, big: [20003], small: [20673], error rate: 0.13693578522961944\n",
      "at epoch 20, big: [20098], small: [20578], error rate: 0.13804208870095389\n",
      "at epoch 21, big: [18246], small: [22430], error rate: 0.12948667518930082\n",
      "at epoch 22, big: [19760], small: [20916], error rate: 0.1349444389812174\n",
      "at epoch 23, big: [18496], small: [22180], error rate: 0.12933916805978957\n",
      "at epoch 24, big: [18725], small: [21951], error rate: 0.1292162454518635\n",
      "at epoch 25, big: [19247], small: [21429], error rate: 0.13187137378306618\n",
      "at epoch 26, big: [19893], small: [20783], error rate: 0.13555905202084767\n",
      "at epoch 27, big: [19136], small: [21540], error rate: 0.13076507031173173\n",
      "at epoch 28, big: [19406], small: [21270], error rate: 0.13248598682269644\n",
      "at epoch 29, big: [18703], small: [21973], error rate: 0.12862621693381845\n",
      "at epoch 30, big: [18898], small: [21778], error rate: 0.12928999901661914\n",
      "at epoch 31, big: [18483], small: [22193], error rate: 0.12828203363162552\n",
      "at epoch 32, big: [19706], small: [20970], error rate: 0.13376438194512735\n",
      "at epoch 33, big: [18398], small: [22278], error rate: 0.12855246336906284\n",
      "at epoch 34, big: [18872], small: [21804], error rate: 0.12874913954174452\n",
      "at epoch 35, big: [19161], small: [21515], error rate: 0.1306421477038057\n",
      "at epoch 36, big: [19054], small: [21622], error rate: 0.13032254892319795\n",
      "at epoch 37, big: [18729], small: [21947], error rate: 0.1284295407611368\n",
      "at epoch 38, big: [19349], small: [21327], error rate: 0.13187137378306618\n",
      "at epoch 39, big: [19421], small: [21255], error rate: 0.1321663880420887\n",
      "at epoch 40, big: [17689], small: [22987], error rate: 0.12803618841577344\n",
      "at epoch 41, big: [18521], small: [22155], error rate: 0.12808535745894384\n",
      "at epoch 42, big: [18692], small: [21984], error rate: 0.12801160389418823\n",
      "at epoch 43, big: [18539], small: [22137], error rate: 0.12803618841577344\n",
      "at epoch 44, big: [19107], small: [21569], error rate: 0.1301996263152719\n",
      "at epoch 45, big: [19485], small: [21191], error rate: 0.13201888091257744\n",
      "at epoch 46, big: [18795], small: [21881], error rate: 0.12808535745894384\n",
      "at epoch 47, big: [18276], small: [22400], error rate: 0.12688071590126856\n",
      "at epoch 48, big: [18959], small: [21717], error rate: 0.1291670764086931\n",
      "at epoch 49, big: [19304], small: [21372], error rate: 0.13076507031173173\n",
      "at epoch 50, big: [19278], small: [21398], error rate: 0.13061756318222048\n",
      "at epoch 51, big: [19046], small: [21630], error rate: 0.12973252040515293\n",
      "at epoch 52, big: [19068], small: [21608], error rate: 0.12953584423247125\n",
      "at epoch 53, big: [18821], small: [21855], error rate: 0.12783951224309176\n",
      "at epoch 54, big: [19627], small: [21049], error rate: 0.13246140230111123\n",
      "at epoch 55, big: [18651], small: [22025], error rate: 0.1274461598977284\n",
      "at epoch 56, big: [18711], small: [21965], error rate: 0.12749532894089882\n",
      "at epoch 57, big: [18773], small: [21903], error rate: 0.1281836955452847\n",
      "at epoch 58, big: [19479], small: [21197], error rate: 0.1316746976103845\n",
      "at epoch 59, big: [18118], small: [22558], error rate: 0.12658570164224603\n",
      "at epoch 60, big: [18578], small: [22098], error rate: 0.12727406824663193\n",
      "at epoch 61, big: [18863], small: [21813], error rate: 0.12823286458845512\n",
      "at epoch 62, big: [18556], small: [22120], error rate: 0.12756908250565444\n",
      "at epoch 63, big: [18868], small: [21808], error rate: 0.12835578719638116\n",
      "at epoch 64, big: [20001], small: [20675], error rate: 0.1351165306323139\n",
      "at epoch 65, big: [19036], small: [21640], error rate: 0.12914249188710789\n",
      "at epoch 66, big: [19202], small: [21474], error rate: 0.12992919657783458\n",
      "at epoch 67, big: [19030], small: [21646], error rate: 0.12904415380076703\n",
      "at epoch 68, big: [18531], small: [22145], error rate: 0.12710197659553546\n",
      "at epoch 69, big: [18615], small: [22061], error rate: 0.12739699085455797\n",
      "at epoch 70, big: [18512], small: [22164], error rate: 0.12712656111712067\n",
      "at epoch 71, big: [19323], small: [21353], error rate: 0.1306913167469761\n",
      "at epoch 72, big: [18590], small: [22086], error rate: 0.12712656111712067\n",
      "at epoch 73, big: [19136], small: [21540], error rate: 0.12973252040515293\n",
      "at epoch 74, big: [18729], small: [21947], error rate: 0.1272003146818763\n",
      "at epoch 75, big: [19557], small: [21119], error rate: 0.1316746976103845\n",
      "at epoch 76, big: [18859], small: [21817], error rate: 0.12783951224309176\n",
      "at epoch 77, big: [19043], small: [21633], error rate: 0.12936375258137478\n",
      "at epoch 78, big: [18435], small: [22241], error rate: 0.12690530042285378\n",
      "at epoch 79, big: [19460], small: [21216], error rate: 0.13101091552758384\n",
      "at epoch 80, big: [19083], small: [21593], error rate: 0.12941292162454518\n",
      "at epoch 81, big: [18796], small: [21880], error rate: 0.127519913462484\n",
      "at epoch 82, big: [18720], small: [21956], error rate: 0.12712656111712067\n",
      "at epoch 83, big: [18656], small: [22020], error rate: 0.1269790539876094\n",
      "at epoch 84, big: [19072], small: [21604], error rate: 0.1292408299734487\n",
      "at epoch 85, big: [18705], small: [21971], error rate: 0.12705280755236503\n",
      "at epoch 86, big: [19233], small: [21443], error rate: 0.13005211918576065\n",
      "at epoch 87, big: [19374], small: [21302], error rate: 0.13056839413905005\n",
      "at epoch 88, big: [18976], small: [21700], error rate: 0.12850329432589241\n",
      "at epoch 89, big: [18747], small: [21929], error rate: 0.12729865276821714\n",
      "at epoch 90, big: [18493], small: [22183], error rate: 0.12651194807749042\n",
      "at epoch 91, big: [19244], small: [21431], error rate: 0.13022421083685712\n",
      "at epoch 92, big: [19165], small: [21511], error rate: 0.12936375258137478\n",
      "at epoch 93, big: [18600], small: [22076], error rate: 0.12658570164224603\n",
      "at epoch 94, big: [18561], small: [22115], error rate: 0.12695446946602418\n",
      "at epoch 95, big: [19258], small: [21418], error rate: 0.1304208870095388\n",
      "at epoch 96, big: [18627], small: [22049], error rate: 0.12710197659553546\n",
      "at epoch 97, big: [18805], small: [21871], error rate: 0.12739699085455797\n",
      "at epoch 98, big: [18561], small: [22115], error rate: 0.12680696233651292\n",
      "at epoch 99, big: [18808], small: [21868], error rate: 0.12732323728980233\n",
      "at epoch 100, big: [19176], small: [21500], error rate: 0.12963418231881207\n",
      "at epoch 101, big: [19473], small: [21203], error rate: 0.1311830071786803\n"
     ]
    }
   ],
   "source": [
    "# Update our shell classifier definition\n",
    "class logisticClassify(ml.classifier):\n",
    "    predict = myPredict              # Now all parts are implemented\n",
    "    train = myTrain\n",
    "\n",
    "learnerA = logisticClassify()\n",
    "learnerA.classes = np.unique(YA)\n",
    "learnerA.theta = torch.tensor(theta_ini,requires_grad = True,dtype=torch.float32) # TODO\n",
    "learnerA.train(XA,YA,initStep=1e-1,stopEpochs=100,stopTol=1e-5,alpha=10);"
   ]
  },
  {
   "cell_type": "markdown",
   "id": "e712dd07",
   "metadata": {},
   "source": [
    "Change back into numpy format for visualization and analysis, and save it if necessary."
   ]
  },
  {
   "cell_type": "code",
   "execution_count": 86,
   "id": "ca371c82",
   "metadata": {},
   "outputs": [],
   "source": [
    "theta_np = learnerA.theta.detach().numpy()\n",
    "\n",
    "# pickle_out = open(\"data/theta230803joint.pkl\",\"wb\")\n",
    "# pickle.dump(theta_np, pickle_out)\n",
    "# pickle_out.close()"
   ]
  },
  {
   "cell_type": "code",
   "execution_count": 87,
   "id": "69956504",
   "metadata": {},
   "outputs": [],
   "source": [
    "X, Y = data_comb[:,:-1], data_comb[:,-1]   # get features & target"
   ]
  },
  {
   "cell_type": "code",
   "execution_count": 88,
   "id": "839aef4f",
   "metadata": {},
   "outputs": [],
   "source": [
    "N1 = 104\n",
    "R = 1.98e-3 # gas const\n",
    "T = 310 # temperature at which cells were induced\n",
    "RT = R*T"
   ]
  },
  {
   "cell_type": "code",
   "execution_count": 89,
   "id": "bce5013f",
   "metadata": {},
   "outputs": [],
   "source": [
    "X1 = X[:,:N1] # X1 is a CRP sequence\n",
    "X2 = X[:,N1:] # X2 is a RNAP sequence"
   ]
  },
  {
   "cell_type": "code",
   "execution_count": 90,
   "id": "d30d8a2f",
   "metadata": {},
   "outputs": [],
   "source": [
    "theta = theta_np"
   ]
  },
  {
   "cell_type": "code",
   "execution_count": 91,
   "id": "22d491fa",
   "metadata": {},
   "outputs": [],
   "source": [
    "eps_c = X1 @ theta[4:4+N1]; # CRP binding energy\n",
    "eps_r = X2 @ theta[4+N1:]; # RNAP binding energy\n",
    "wi = theta[2]*(np.exp(-eps_r/RT)+theta[1]*np.exp(-(eps_c+eps_r+theta[3])/RT))\n",
    "tau = wi/(1+theta[1]*np.exp(-eps_c/RT)+wi)"
   ]
  },
  {
   "cell_type": "code",
   "execution_count": 92,
   "id": "df9b82e3",
   "metadata": {},
   "outputs": [
    {
     "data": {
      "text/plain": [
       "array([24665])"
      ]
     },
     "execution_count": 92,
     "metadata": {},
     "output_type": "execute_result"
    }
   ],
   "source": [
    "sum(tau < theta[0])"
   ]
  },
  {
   "cell_type": "code",
   "execution_count": 93,
   "id": "2aa2fb77",
   "metadata": {},
   "outputs": [
    {
     "data": {
      "text/plain": [
       "array([21389])"
      ]
     },
     "execution_count": 93,
     "metadata": {},
     "output_type": "execute_result"
    }
   ],
   "source": [
    "sum(tau > theta[0])"
   ]
  },
  {
   "cell_type": "code",
   "execution_count": null,
   "id": "e0e2b493",
   "metadata": {},
   "outputs": [],
   "source": []
  },
  {
   "cell_type": "code",
   "execution_count": null,
   "id": "dfcb10eb",
   "metadata": {},
   "outputs": [],
   "source": []
  },
  {
   "cell_type": "code",
   "execution_count": null,
   "id": "1a21ec85",
   "metadata": {},
   "outputs": [],
   "source": []
  },
  {
   "cell_type": "code",
   "execution_count": null,
   "id": "4c0160ec",
   "metadata": {},
   "outputs": [],
   "source": []
  },
  {
   "cell_type": "code",
   "execution_count": null,
   "id": "f96e1dab",
   "metadata": {},
   "outputs": [],
   "source": []
  },
  {
   "cell_type": "code",
   "execution_count": null,
   "id": "f67c0b6e",
   "metadata": {},
   "outputs": [],
   "source": [
    "theta_np[:4] # value after 500 epochs"
   ]
  },
  {
   "cell_type": "code",
   "execution_count": null,
   "id": "b0576a8a",
   "metadata": {},
   "outputs": [],
   "source": [
    "theta_np[:4] # value after 100 epochs"
   ]
  },
  {
   "cell_type": "code",
   "execution_count": null,
   "id": "5e71c119",
   "metadata": {},
   "outputs": [],
   "source": [
    "theta_np[:4] # value after 30 epochs"
   ]
  },
  {
   "cell_type": "code",
   "execution_count": null,
   "id": "e9cf6c12",
   "metadata": {},
   "outputs": [],
   "source": [
    "# pickle_out = open(\"data/theta230727joint272param.pkl\",\"wb\")\n",
    "# pickle.dump(theta_np, pickle_out)\n",
    "# pickle_out.close()"
   ]
  },
  {
   "cell_type": "code",
   "execution_count": null,
   "id": "75ca4676",
   "metadata": {},
   "outputs": [],
   "source": [
    "def energy_matrix(theta_raw, plot = False):\n",
    "    '''generate energy matrix, the normalized energy vector and related constants'''\n",
    "    '''input theta_raw has NO intercept term (pure energy vector with no shifting term)'''\n",
    "    n = int((theta_raw.shape[0])/4)\n",
    "    theta_shift = 0 # initialize energy shift\n",
    "    theta = np.transpose(np.reshape(theta_raw,(n,4)))\n",
    "    for i in range(n):\n",
    "        theta_shift += min(theta[:,i]) # cummulate energy shift\n",
    "        theta[:,i] -= min(theta[:,i])       \n",
    "    theta_scale = theta.max() # calculate the unit/scaling factor of energy\n",
    "    theta = theta/theta_scale\n",
    "    theta_long = np.reshape(np.transpose(theta),theta_raw.shape)\n",
    "    if plot:\n",
    "        plt.matshow(theta)\n",
    "        plt.colorbar(label='arbitrary unit')\n",
    "        plt.style.use('classic')\n",
    "        plt.show()\n",
    "    return theta, theta_long, theta_shift, theta_scale"
   ]
  },
  {
   "cell_type": "markdown",
   "id": "b3fa24c7",
   "metadata": {},
   "source": [
    "Plot the energy matrix:"
   ]
  },
  {
   "cell_type": "code",
   "execution_count": null,
   "id": "68a99d4f",
   "metadata": {},
   "outputs": [],
   "source": [
    "theta_c,_,shift_c,scale_c = energy_matrix(theta_np[4:4+104],plot = True)"
   ]
  },
  {
   "cell_type": "code",
   "execution_count": null,
   "id": "688cf4cc",
   "metadata": {},
   "outputs": [],
   "source": [
    "theta_c,_,shift_c,scale_c = energy_matrix(theta_np[4:4+104],plot = True)"
   ]
  },
  {
   "cell_type": "code",
   "execution_count": null,
   "id": "0d06745e",
   "metadata": {},
   "outputs": [],
   "source": [
    "theta_c,_,shift_c,scale_c = energy_matrix(theta_np[4:4+104],plot = True)"
   ]
  },
  {
   "cell_type": "markdown",
   "id": "1e6c37c8",
   "metadata": {},
   "source": [
    "Now we turn to RNAP."
   ]
  },
  {
   "cell_type": "code",
   "execution_count": null,
   "id": "09f1e131",
   "metadata": {},
   "outputs": [],
   "source": [
    "theta_r,_,shift_r,scale_r = energy_matrix(theta_np[4+104:],plot = True)"
   ]
  },
  {
   "cell_type": "code",
   "execution_count": null,
   "id": "7355280d",
   "metadata": {},
   "outputs": [],
   "source": [
    "theta_r,_,shift_r,scale_r = energy_matrix(theta_np[4+104:],plot = True)"
   ]
  },
  {
   "cell_type": "code",
   "execution_count": null,
   "id": "35ea3665",
   "metadata": {},
   "outputs": [],
   "source": [
    "theta_r,_,shift_r,scale_r = energy_matrix(theta_np[4+104:],plot = True)"
   ]
  },
  {
   "cell_type": "code",
   "execution_count": null,
   "id": "095b4174",
   "metadata": {},
   "outputs": [],
   "source": [
    "shift_c, scale_c"
   ]
  },
  {
   "cell_type": "code",
   "execution_count": null,
   "id": "41aa283c",
   "metadata": {},
   "outputs": [],
   "source": [
    "shift_c, scale_c"
   ]
  },
  {
   "cell_type": "code",
   "execution_count": null,
   "id": "eee7e376",
   "metadata": {},
   "outputs": [],
   "source": [
    "shift_c, scale_c"
   ]
  },
  {
   "cell_type": "code",
   "execution_count": null,
   "id": "a8c3982c",
   "metadata": {},
   "outputs": [],
   "source": [
    "shift_r, scale_r"
   ]
  },
  {
   "cell_type": "code",
   "execution_count": null,
   "id": "beba1762",
   "metadata": {},
   "outputs": [],
   "source": [
    "shift_r, scale_r"
   ]
  },
  {
   "cell_type": "code",
   "execution_count": null,
   "id": "79204a22",
   "metadata": {},
   "outputs": [],
   "source": [
    "shift_r, scale_r"
   ]
  }
 ],
 "metadata": {
  "kernelspec": {
   "display_name": "Python 3 (ipykernel)",
   "language": "python",
   "name": "python3"
  },
  "language_info": {
   "codemirror_mode": {
    "name": "ipython",
    "version": 3
   },
   "file_extension": ".py",
   "mimetype": "text/x-python",
   "name": "python",
   "nbconvert_exporter": "python",
   "pygments_lexer": "ipython3",
   "version": "3.11.3"
  }
 },
 "nbformat": 4,
 "nbformat_minor": 5
}
