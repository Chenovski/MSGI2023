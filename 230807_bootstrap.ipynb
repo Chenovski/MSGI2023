{
 "cells": [
  {
   "cell_type": "markdown",
   "id": "f04eef39",
   "metadata": {},
   "source": [
    "File created by Jinghao Chen (jinghc2@uci.edu)."
   ]
  },
  {
   "cell_type": "markdown",
   "id": "e4a83f34",
   "metadata": {},
   "source": [
    "Import necessary packages."
   ]
  },
  {
   "cell_type": "code",
   "execution_count": 1,
   "id": "b0c3284f",
   "metadata": {},
   "outputs": [],
   "source": [
    "import pickle\n",
    "import torch\n",
    "import mptools as mp\n",
    "import numpy as np\n",
    "from tqdm import tqdm\n",
    "# np.random.seed(114514)"
   ]
  },
  {
   "cell_type": "markdown",
   "id": "1f745462",
   "metadata": {},
   "source": [
    "Load combined data from repository \"/data\"."
   ]
  },
  {
   "cell_type": "code",
   "execution_count": 2,
   "id": "fe9b35b8",
   "metadata": {},
   "outputs": [],
   "source": [
    "pickle_in = open(\"data/data_comb.pkl\",\"rb\")\n",
    "data_comb = pickle.load(pickle_in)"
   ]
  },
  {
   "cell_type": "markdown",
   "id": "be01dc6a",
   "metadata": {},
   "source": [
    "Calculate necessary values."
   ]
  },
  {
   "cell_type": "code",
   "execution_count": 3,
   "id": "9aa14c96",
   "metadata": {},
   "outputs": [],
   "source": [
    "N_comb = data_comb.shape[1]\n",
    "N_theta = 4+N_comb-1 # the number of unknown parameters"
   ]
  },
  {
   "cell_type": "markdown",
   "id": "902f6f70",
   "metadata": {},
   "source": [
    "Shuffle and binary classified data."
   ]
  },
  {
   "cell_type": "code",
   "execution_count": 4,
   "id": "a0a874c7",
   "metadata": {},
   "outputs": [],
   "source": [
    "X, Y = data_comb[:,:-1], data_comb[:,-1]   # get features & target\n",
    "X, Y = mp.shuffleData(X,Y)       # reorder randomly rather than by class label"
   ]
  },
  {
   "cell_type": "code",
   "execution_count": 5,
   "id": "2e539b31",
   "metadata": {},
   "outputs": [],
   "source": [
    "Xtr, Ytr = X[Y!=5,:], Y[Y!=5]\n",
    "Ytr = np.heaviside(Ytr-5,-1)"
   ]
  },
  {
   "cell_type": "markdown",
   "id": "2aba9017",
   "metadata": {},
   "source": [
    "Train the classifier to jointly learn $\\theta$."
   ]
  },
  {
   "cell_type": "code",
   "execution_count": null,
   "id": "15e524bc",
   "metadata": {},
   "outputs": [
    {
     "name": "stderr",
     "output_type": "stream",
     "text": [
      "\r",
      "  0%|                                                   | 0/200 [00:00<?, ?it/s]"
     ]
    },
    {
     "name": "stdout",
     "output_type": "stream",
     "text": [
      "Warning: bad choice of initial values.\n",
      "Warning: bad choice of initial values.\n",
      "Warning: bad choice of initial values.\n",
      "Warning: bad choice of initial values.\n"
     ]
    },
    {
     "name": "stderr",
     "output_type": "stream",
     "text": [
      "\r",
      "  0%|▏                                  | 1/200 [1:04:19<213:22:18, 3859.99s/it]"
     ]
    },
    {
     "name": "stdout",
     "output_type": "stream",
     "text": [
      "Warning: bad choice of initial values.\n"
     ]
    },
    {
     "name": "stderr",
     "output_type": "stream",
     "text": [
      "\r",
      "  1%|▎                                  | 2/200 [2:02:01<199:23:46, 3625.39s/it]"
     ]
    },
    {
     "name": "stdout",
     "output_type": "stream",
     "text": [
      "Warning: bad choice of initial values.\n",
      "Warning: bad choice of initial values.\n",
      "Warning: bad choice of initial values.\n",
      "Warning: bad choice of initial values.\n",
      "Warning: bad choice of initial values.\n",
      "Warning: bad choice of initial values.\n",
      "Warning: bad choice of initial values.\n",
      "Warning: bad choice of initial values.\n",
      "Warning: bad choice of initial values.\n",
      "Warning: bad choice of initial values.\n",
      "Warning: bad choice of initial values.\n",
      "Warning: bad choice of initial values.\n",
      "Warning: bad choice of initial values.\n",
      "Warning: bad choice of initial values.\n",
      "Warning: bad choice of initial values.\n",
      "Warning: bad choice of initial values.\n",
      "Warning: bad choice of initial values.\n",
      "Warning: bad choice of initial values.\n",
      "Warning: bad choice of initial values.\n",
      "Warning: bad choice of initial values.\n",
      "Warning: bad choice of initial values.\n",
      "Warning: bad choice of initial values.\n",
      "Warning: bad choice of initial values.\n",
      "Warning: bad choice of initial values.\n",
      "Warning: bad choice of initial values.\n",
      "Warning: bad choice of initial values.\n"
     ]
    },
    {
     "name": "stderr",
     "output_type": "stream",
     "text": [
      "\r",
      "  2%|▌                                  | 3/200 [3:55:02<277:15:18, 5066.59s/it]"
     ]
    },
    {
     "name": "stdout",
     "output_type": "stream",
     "text": [
      "Warning: bad choice of initial values.\n",
      "Warning: bad choice of initial values.\n",
      "Warning: bad choice of initial values.\n",
      "Warning: bad choice of initial values.\n"
     ]
    },
    {
     "name": "stderr",
     "output_type": "stream",
     "text": [
      "  2%|▉                                  | 5/200 [5:54:57<224:03:47, 4136.55s/it]"
     ]
    },
    {
     "name": "stdout",
     "output_type": "stream",
     "text": [
      "Warning: bad choice of initial values.\n",
      "Warning: bad choice of initial values.\n",
      "Warning: bad choice of initial values.\n"
     ]
    },
    {
     "name": "stderr",
     "output_type": "stream",
     "text": [
      "\r",
      "  3%|█                                  | 6/200 [7:18:56<239:26:43, 4443.32s/it]"
     ]
    },
    {
     "name": "stdout",
     "output_type": "stream",
     "text": [
      "Warning: bad choice of initial values.\n",
      "Warning: bad choice of initial values.\n",
      "Warning: bad choice of initial values.\n",
      "Warning: bad choice of initial values.\n",
      "Warning: bad choice of initial values.\n",
      "Warning: bad choice of initial values.\n"
     ]
    },
    {
     "name": "stderr",
     "output_type": "stream",
     "text": [
      "\r",
      "  4%|█▏                                 | 7/200 [9:09:43<276:50:34, 5163.91s/it]"
     ]
    },
    {
     "name": "stdout",
     "output_type": "stream",
     "text": [
      "Warning: bad choice of initial values.\n",
      "Warning: bad choice of initial values.\n",
      "Warning: bad choice of initial values.\n",
      "Warning: bad choice of initial values.\n"
     ]
    },
    {
     "name": "stderr",
     "output_type": "stream",
     "text": [
      "\r",
      "  4%|█▎                                | 8/200 [10:53:02<292:58:19, 5493.23s/it]"
     ]
    },
    {
     "name": "stdout",
     "output_type": "stream",
     "text": [
      "Warning: bad choice of initial values.\n",
      "Warning: bad choice of initial values.\n",
      "Warning: bad choice of initial values.\n",
      "Warning: bad choice of initial values.\n",
      "Warning: bad choice of initial values.\n"
     ]
    },
    {
     "name": "stderr",
     "output_type": "stream",
     "text": [
      "\r",
      "  4%|█▌                                | 9/200 [12:40:11<306:58:41, 5785.98s/it]"
     ]
    },
    {
     "name": "stdout",
     "output_type": "stream",
     "text": [
      "Warning: bad choice of initial values.\n",
      "Warning: bad choice of initial values.\n",
      "Warning: bad choice of initial values.\n",
      "Warning: bad choice of initial values.\n"
     ]
    },
    {
     "name": "stderr",
     "output_type": "stream",
     "text": [
      "\r",
      "  5%|█▋                               | 10/200 [14:24:02<312:36:40, 5923.16s/it]"
     ]
    },
    {
     "name": "stdout",
     "output_type": "stream",
     "text": [
      "Warning: bad choice of initial values.\n",
      "Warning: bad choice of initial values.\n",
      "Warning: bad choice of initial values.\n",
      "Warning: bad choice of initial values.\n",
      "Warning: bad choice of initial values.\n"
     ]
    },
    {
     "name": "stderr",
     "output_type": "stream",
     "text": [
      "\r",
      "  6%|█▊                               | 11/200 [16:11:10<319:04:56, 6077.76s/it]"
     ]
    },
    {
     "name": "stdout",
     "output_type": "stream",
     "text": [
      "Warning: bad choice of initial values.\n",
      "Warning: bad choice of initial values.\n",
      "Warning: bad choice of initial values.\n"
     ]
    },
    {
     "name": "stderr",
     "output_type": "stream",
     "text": [
      "\r",
      "  6%|█▉                               | 12/200 [17:50:33<315:34:42, 6042.99s/it]"
     ]
    },
    {
     "name": "stdout",
     "output_type": "stream",
     "text": [
      "Warning: bad choice of initial values.\n",
      "Warning: bad choice of initial values.\n",
      "Warning: bad choice of initial values.\n",
      "Warning: bad choice of initial values.\n",
      "Warning: bad choice of initial values.\n"
     ]
    },
    {
     "name": "stderr",
     "output_type": "stream",
     "text": [
      "\r",
      "  6%|██▏                              | 13/200 [19:37:08<319:26:19, 6149.62s/it]"
     ]
    },
    {
     "name": "stdout",
     "output_type": "stream",
     "text": [
      "Warning: bad choice of initial values.\n",
      "Warning: bad choice of initial values.\n",
      "Warning: bad choice of initial values.\n"
     ]
    },
    {
     "name": "stderr",
     "output_type": "stream",
     "text": [
      "\r",
      "  7%|██▎                              | 14/200 [21:38:23<335:17:13, 6489.43s/it]"
     ]
    },
    {
     "name": "stdout",
     "output_type": "stream",
     "text": [
      "Warning: bad choice of initial values.\n",
      "Warning: bad choice of initial values.\n",
      "Warning: bad choice of initial values.\n",
      "Warning: bad choice of initial values.\n"
     ]
    },
    {
     "name": "stderr",
     "output_type": "stream",
     "text": [
      "\r",
      "  8%|██▍                              | 15/200 [23:22:19<329:33:05, 6412.89s/it]"
     ]
    },
    {
     "name": "stdout",
     "output_type": "stream",
     "text": [
      "Warning: bad choice of initial values.\n",
      "Warning: bad choice of initial values.\n",
      "Warning: bad choice of initial values.\n",
      "Warning: bad choice of initial values.\n",
      "Warning: bad choice of initial values.\n",
      "Warning: bad choice of initial values.\n",
      "Warning: bad choice of initial values.\n",
      "Warning: bad choice of initial values.\n",
      "Warning: bad choice of initial values.\n",
      "Warning: bad choice of initial values.\n",
      "Warning: bad choice of initial values.\n",
      "Warning: bad choice of initial values.\n",
      "Warning: bad choice of initial values.\n",
      "Warning: bad choice of initial values.\n",
      "Warning: bad choice of initial values.\n",
      "Warning: bad choice of initial values.\n",
      "Warning: bad choice of initial values.\n",
      "Warning: bad choice of initial values.\n",
      "Warning: bad choice of initial values.\n",
      "Warning: bad choice of initial values.\n"
     ]
    },
    {
     "name": "stderr",
     "output_type": "stream",
     "text": [
      "  8%|██▊                              | 17/200 [27:33:30<345:22:16, 6794.19s/it]"
     ]
    },
    {
     "name": "stdout",
     "output_type": "stream",
     "text": [
      "Warning: bad choice of initial values.\n",
      "Warning: bad choice of initial values.\n",
      "Warning: bad choice of initial values.\n",
      "Warning: bad choice of initial values.\n",
      "Warning: bad choice of initial values.\n"
     ]
    },
    {
     "name": "stderr",
     "output_type": "stream",
     "text": [
      "\r",
      "  9%|██▉                              | 18/200 [29:21:30<338:42:48, 6699.83s/it]"
     ]
    },
    {
     "name": "stdout",
     "output_type": "stream",
     "text": [
      "Warning: bad choice of initial values.\n",
      "Warning: bad choice of initial values.\n"
     ]
    },
    {
     "name": "stderr",
     "output_type": "stream",
     "text": [
      " 10%|███▎                             | 20/200 [32:28:59<306:18:07, 6126.04s/it]"
     ]
    },
    {
     "name": "stdout",
     "output_type": "stream",
     "text": [
      "Warning: bad choice of initial values.\n"
     ]
    },
    {
     "name": "stderr",
     "output_type": "stream",
     "text": [
      "\r",
      " 10%|███▍                             | 21/200 [34:02:10<296:37:23, 5965.61s/it]"
     ]
    },
    {
     "name": "stdout",
     "output_type": "stream",
     "text": [
      "Warning: bad choice of initial values.\n",
      "Warning: bad choice of initial values.\n",
      "Warning: bad choice of initial values.\n",
      "Warning: bad choice of initial values.\n",
      "Warning: bad choice of initial values.\n"
     ]
    },
    {
     "name": "stderr",
     "output_type": "stream",
     "text": [
      "\r",
      " 11%|███▋                             | 22/200 [35:49:26<301:56:54, 6106.83s/it]"
     ]
    },
    {
     "name": "stdout",
     "output_type": "stream",
     "text": [
      "Warning: bad choice of initial values.\n",
      "Warning: bad choice of initial values.\n",
      "Warning: bad choice of initial values.\n",
      "Warning: bad choice of initial values.\n",
      "Warning: bad choice of initial values.\n",
      "Warning: bad choice of initial values.\n",
      "Warning: bad choice of initial values.\n",
      "Warning: bad choice of initial values.\n",
      "Warning: bad choice of initial values.\n",
      "Warning: bad choice of initial values.\n",
      "Warning: bad choice of initial values.\n",
      "Warning: bad choice of initial values.\n"
     ]
    },
    {
     "name": "stderr",
     "output_type": "stream",
     "text": [
      "\r",
      " 12%|███▊                             | 23/200 [38:01:55<327:25:31, 6659.50s/it]"
     ]
    },
    {
     "name": "stdout",
     "output_type": "stream",
     "text": [
      "Warning: bad choice of initial values.\n",
      "Warning: bad choice of initial values.\n",
      "Warning: bad choice of initial values.\n",
      "Warning: bad choice of initial values.\n",
      "Warning: bad choice of initial values.\n"
     ]
    },
    {
     "name": "stderr",
     "output_type": "stream",
     "text": [
      "\r",
      " 12%|███▉                             | 24/200 [39:49:15<322:21:55, 6593.84s/it]"
     ]
    },
    {
     "name": "stdout",
     "output_type": "stream",
     "text": [
      "Warning: bad choice of initial values.\n",
      "Warning: bad choice of initial values.\n",
      "Warning: bad choice of initial values.\n",
      "Warning: bad choice of initial values.\n",
      "Warning: bad choice of initial values.\n",
      "Warning: bad choice of initial values.\n"
     ]
    },
    {
     "name": "stderr",
     "output_type": "stream",
     "text": [
      " 14%|████▍                            | 27/200 [44:39:05<287:08:53, 5975.34s/it]"
     ]
    },
    {
     "name": "stdout",
     "output_type": "stream",
     "text": [
      "Warning: bad choice of initial values.\n",
      "Warning: bad choice of initial values.\n",
      "Warning: bad choice of initial values.\n",
      "Warning: bad choice of initial values.\n",
      "Warning: bad choice of initial values.\n",
      "Warning: bad choice of initial values.\n"
     ]
    },
    {
     "name": "stderr",
     "output_type": "stream",
     "text": [
      "\r",
      " 14%|████▌                            | 28/200 [46:30:13<295:24:20, 6182.91s/it]"
     ]
    },
    {
     "name": "stdout",
     "output_type": "stream",
     "text": [
      "Warning: bad choice of initial values.\n"
     ]
    },
    {
     "name": "stderr",
     "output_type": "stream",
     "text": [
      "\r",
      " 14%|████▊                            | 29/200 [48:03:07<285:00:49, 6000.29s/it]"
     ]
    },
    {
     "name": "stdout",
     "output_type": "stream",
     "text": [
      "Warning: bad choice of initial values.\n",
      "Warning: bad choice of initial values.\n",
      "Warning: bad choice of initial values.\n",
      "Warning: bad choice of initial values.\n",
      "Warning: bad choice of initial values.\n",
      "Warning: bad choice of initial values.\n",
      "Warning: bad choice of initial values.\n",
      "Warning: bad choice of initial values.\n",
      "Warning: bad choice of initial values.\n"
     ]
    },
    {
     "name": "stderr",
     "output_type": "stream",
     "text": [
      "\r",
      " 15%|████▉                            | 30/200 [49:55:27<293:50:08, 6222.41s/it]"
     ]
    },
    {
     "name": "stdout",
     "output_type": "stream",
     "text": [
      "Warning: bad choice of initial values.\n"
     ]
    },
    {
     "name": "stderr",
     "output_type": "stream",
     "text": [
      "\r",
      " 16%|█████                            | 31/200 [50:58:00<257:19:03, 5481.33s/it]"
     ]
    },
    {
     "name": "stdout",
     "output_type": "stream",
     "text": [
      "Warning: bad choice of initial values.\n",
      "Warning: bad choice of initial values.\n"
     ]
    },
    {
     "name": "stderr",
     "output_type": "stream",
     "text": [
      " 16%|█████▍                           | 33/200 [52:54:16<206:24:41, 4449.59s/it]"
     ]
    },
    {
     "name": "stdout",
     "output_type": "stream",
     "text": [
      "Warning: bad choice of initial values.\n",
      "Warning: bad choice of initial values.\n",
      "Warning: bad choice of initial values.\n",
      "Warning: bad choice of initial values.\n",
      "Warning: bad choice of initial values.\n",
      "Warning: bad choice of initial values.\n"
     ]
    },
    {
     "name": "stderr",
     "output_type": "stream",
     "text": [
      "\r",
      " 17%|█████▌                           | 34/200 [54:02:58<200:38:58, 4351.44s/it]"
     ]
    },
    {
     "name": "stdout",
     "output_type": "stream",
     "text": [
      "Warning: bad choice of initial values.\n",
      "Warning: bad choice of initial values.\n",
      "Warning: bad choice of initial values.\n",
      "Warning: bad choice of initial values.\n"
     ]
    },
    {
     "name": "stderr",
     "output_type": "stream",
     "text": [
      "\r",
      " 18%|█████▊                           | 35/200 [55:08:25<193:36:13, 4224.08s/it]"
     ]
    },
    {
     "name": "stdout",
     "output_type": "stream",
     "text": [
      "Warning: bad choice of initial values.\n",
      "Warning: bad choice of initial values.\n",
      "Warning: bad choice of initial values.\n"
     ]
    },
    {
     "name": "stderr",
     "output_type": "stream",
     "text": [
      "\r",
      " 18%|█████▉                           | 36/200 [56:17:22<191:14:54, 4198.14s/it]"
     ]
    },
    {
     "name": "stdout",
     "output_type": "stream",
     "text": [
      "Warning: bad choice of initial values.\n",
      "Warning: bad choice of initial values.\n"
     ]
    },
    {
     "name": "stderr",
     "output_type": "stream",
     "text": [
      "\r",
      " 18%|██████                           | 37/200 [57:19:59<184:05:07, 4065.69s/it]"
     ]
    },
    {
     "name": "stdout",
     "output_type": "stream",
     "text": [
      "Warning: bad choice of initial values.\n",
      "Warning: bad choice of initial values.\n",
      "Warning: bad choice of initial values.\n",
      "Warning: bad choice of initial values.\n",
      "Warning: bad choice of initial values.\n",
      "Warning: bad choice of initial values.\n",
      "Warning: bad choice of initial values.\n"
     ]
    },
    {
     "name": "stderr",
     "output_type": "stream",
     "text": [
      "\r",
      " 19%|██████▎                          | 38/200 [58:30:50<185:27:29, 4121.29s/it]"
     ]
    },
    {
     "name": "stdout",
     "output_type": "stream",
     "text": [
      "Warning: bad choice of initial values.\n"
     ]
    },
    {
     "name": "stderr",
     "output_type": "stream",
     "text": [
      "\r",
      " 20%|██████▍                          | 39/200 [59:28:33<175:28:27, 3923.65s/it]"
     ]
    },
    {
     "name": "stdout",
     "output_type": "stream",
     "text": [
      "Warning: bad choice of initial values.\n",
      "Warning: bad choice of initial values.\n"
     ]
    },
    {
     "name": "stderr",
     "output_type": "stream",
     "text": [
      "\r",
      " 20%|██████▌                          | 40/200 [60:28:27<169:59:39, 3824.87s/it]"
     ]
    },
    {
     "name": "stdout",
     "output_type": "stream",
     "text": [
      "Warning: bad choice of initial values.\n"
     ]
    },
    {
     "name": "stderr",
     "output_type": "stream",
     "text": [
      "\r",
      " 20%|██████▊                          | 41/200 [61:26:01<164:00:46, 3713.50s/it]"
     ]
    },
    {
     "name": "stdout",
     "output_type": "stream",
     "text": [
      "Warning: bad choice of initial values.\n",
      "Warning: bad choice of initial values.\n",
      "Warning: bad choice of initial values.\n"
     ]
    },
    {
     "name": "stderr",
     "output_type": "stream",
     "text": [
      "\r",
      " 21%|██████▉                          | 42/200 [62:27:55<162:59:22, 3713.69s/it]"
     ]
    },
    {
     "name": "stdout",
     "output_type": "stream",
     "text": [
      "Warning: bad choice of initial values.\n"
     ]
    },
    {
     "name": "stderr",
     "output_type": "stream",
     "text": [
      "\r",
      " 22%|███████                          | 43/200 [63:25:33<158:36:46, 3636.98s/it]"
     ]
    },
    {
     "name": "stdout",
     "output_type": "stream",
     "text": [
      "Warning: bad choice of initial values.\n",
      "Warning: bad choice of initial values.\n",
      "Warning: bad choice of initial values.\n",
      "Warning: bad choice of initial values.\n"
     ]
    },
    {
     "name": "stderr",
     "output_type": "stream",
     "text": [
      "\r",
      " 22%|███████▎                         | 44/200 [64:29:39<160:19:01, 3699.62s/it]"
     ]
    },
    {
     "name": "stdout",
     "output_type": "stream",
     "text": [
      "Warning: bad choice of initial values.\n"
     ]
    },
    {
     "name": "stderr",
     "output_type": "stream",
     "text": [
      "\r",
      " 22%|███████▍                         | 45/200 [65:27:11<156:06:09, 3625.61s/it]"
     ]
    },
    {
     "name": "stdout",
     "output_type": "stream",
     "text": [
      "Warning: bad choice of initial values.\n",
      "Warning: bad choice of initial values.\n"
     ]
    },
    {
     "name": "stderr",
     "output_type": "stream",
     "text": [
      "\r",
      " 23%|███████▌                         | 46/200 [66:26:59<154:36:22, 3614.17s/it]"
     ]
    },
    {
     "name": "stdout",
     "output_type": "stream",
     "text": [
      "Warning: bad choice of initial values.\n"
     ]
    },
    {
     "name": "stderr",
     "output_type": "stream",
     "text": [
      " 24%|████████                         | 49/200 [69:15:35<144:31:38, 3445.69s/it]"
     ]
    },
    {
     "name": "stdout",
     "output_type": "stream",
     "text": [
      "Warning: bad choice of initial values.\n"
     ]
    },
    {
     "name": "stderr",
     "output_type": "stream",
     "text": [
      "\r",
      " 25%|████████▎                        | 50/200 [70:13:17<143:46:34, 3450.63s/it]"
     ]
    },
    {
     "name": "stdout",
     "output_type": "stream",
     "text": [
      "Warning: bad choice of initial values.\n",
      "Warning: bad choice of initial values.\n",
      "Warning: bad choice of initial values.\n",
      "Warning: bad choice of initial values.\n",
      "Warning: bad choice of initial values.\n",
      "Warning: bad choice of initial values.\n"
     ]
    },
    {
     "name": "stderr",
     "output_type": "stream",
     "text": [
      "\r",
      " 26%|████████▍                        | 51/200 [71:22:47<151:44:54, 3666.41s/it]"
     ]
    },
    {
     "name": "stdout",
     "output_type": "stream",
     "text": [
      "Warning: bad choice of initial values.\n",
      "Warning: bad choice of initial values.\n",
      "Warning: bad choice of initial values.\n"
     ]
    },
    {
     "name": "stderr",
     "output_type": "stream",
     "text": [
      "\r",
      " 26%|████████▌                        | 52/200 [72:25:20<151:48:16, 3692.55s/it]"
     ]
    },
    {
     "name": "stdout",
     "output_type": "stream",
     "text": [
      "Warning: bad choice of initial values.\n",
      "Warning: bad choice of initial values.\n",
      "Warning: bad choice of initial values.\n",
      "Warning: bad choice of initial values.\n",
      "Warning: bad choice of initial values.\n",
      "Warning: bad choice of initial values.\n",
      "Warning: bad choice of initial values.\n",
      "Warning: bad choice of initial values.\n"
     ]
    },
    {
     "name": "stderr",
     "output_type": "stream",
     "text": [
      " 27%|████████▉                        | 54/200 [74:33:58<151:15:41, 3729.73s/it]"
     ]
    },
    {
     "name": "stdout",
     "output_type": "stream",
     "text": [
      "Warning: bad choice of initial values.\n",
      "Warning: bad choice of initial values.\n",
      "Warning: bad choice of initial values.\n",
      "Warning: bad choice of initial values.\n",
      "Warning: bad choice of initial values.\n",
      "Warning: bad choice of initial values.\n",
      "Warning: bad choice of initial values.\n",
      "Warning: bad choice of initial values.\n",
      "Warning: bad choice of initial values.\n",
      "Warning: bad choice of initial values.\n"
     ]
    },
    {
     "name": "stderr",
     "output_type": "stream",
     "text": [
      "\r",
      " 28%|█████████                        | 55/200 [75:51:34<161:24:30, 4007.39s/it]"
     ]
    },
    {
     "name": "stdout",
     "output_type": "stream",
     "text": [
      "Warning: bad choice of initial values.\n",
      "Warning: bad choice of initial values.\n"
     ]
    },
    {
     "name": "stderr",
     "output_type": "stream",
     "text": [
      "\r",
      " 28%|█████████▏                       | 56/200 [76:51:31<155:22:33, 3884.40s/it]"
     ]
    },
    {
     "name": "stdout",
     "output_type": "stream",
     "text": [
      "Warning: bad choice of initial values.\n",
      "Warning: bad choice of initial values.\n"
     ]
    },
    {
     "name": "stderr",
     "output_type": "stream",
     "text": [
      "\r",
      " 28%|█████████▍                       | 57/200 [77:51:19<150:46:09, 3795.59s/it]"
     ]
    },
    {
     "name": "stdout",
     "output_type": "stream",
     "text": [
      "Warning: bad choice of initial values.\n",
      "Warning: bad choice of initial values.\n",
      "Warning: bad choice of initial values.\n",
      "Warning: bad choice of initial values.\n"
     ]
    },
    {
     "name": "stderr",
     "output_type": "stream",
     "text": [
      "\r",
      " 29%|█████████▌                       | 58/200 [78:55:42<150:30:46, 3815.82s/it]"
     ]
    },
    {
     "name": "stdout",
     "output_type": "stream",
     "text": [
      "Warning: bad choice of initial values.\n",
      "Warning: bad choice of initial values.\n",
      "Warning: bad choice of initial values.\n"
     ]
    },
    {
     "name": "stderr",
     "output_type": "stream",
     "text": [
      " 30%|█████████▉                       | 60/200 [80:53:06<141:52:49, 3648.35s/it]"
     ]
    },
    {
     "name": "stdout",
     "output_type": "stream",
     "text": [
      "Warning: bad choice of initial values.\n"
     ]
    },
    {
     "name": "stderr",
     "output_type": "stream",
     "text": [
      "\r",
      " 30%|██████████                       | 61/200 [81:50:40<138:36:41, 3589.94s/it]"
     ]
    },
    {
     "name": "stdout",
     "output_type": "stream",
     "text": [
      "Warning: bad choice of initial values.\n"
     ]
    },
    {
     "name": "stderr",
     "output_type": "stream",
     "text": [
      "\r",
      " 31%|██████████▏                      | 62/200 [82:48:11<136:01:05, 3548.30s/it]"
     ]
    },
    {
     "name": "stdout",
     "output_type": "stream",
     "text": [
      "Warning: bad choice of initial values.\n",
      "Warning: bad choice of initial values.\n",
      "Warning: bad choice of initial values.\n",
      "Warning: bad choice of initial values.\n"
     ]
    },
    {
     "name": "stderr",
     "output_type": "stream",
     "text": [
      "\r",
      " 32%|██████████▍                      | 63/200 [83:52:31<138:35:36, 3641.88s/it]"
     ]
    },
    {
     "name": "stdout",
     "output_type": "stream",
     "text": [
      "Warning: bad choice of initial values.\n"
     ]
    },
    {
     "name": "stderr",
     "output_type": "stream",
     "text": [
      "\r",
      " 32%|██████████▌                      | 64/200 [84:50:05<135:27:03, 3585.47s/it]"
     ]
    },
    {
     "name": "stdout",
     "output_type": "stream",
     "text": [
      "Warning: bad choice of initial values.\n",
      "Warning: bad choice of initial values.\n"
     ]
    },
    {
     "name": "stderr",
     "output_type": "stream",
     "text": [
      "\r",
      " 32%|██████████▋                      | 65/200 [85:49:59<134:33:10, 3588.08s/it]"
     ]
    },
    {
     "name": "stdout",
     "output_type": "stream",
     "text": [
      "Warning: bad choice of initial values.\n",
      "Warning: bad choice of initial values.\n",
      "Warning: bad choice of initial values.\n",
      "Warning: bad choice of initial values.\n",
      "Warning: bad choice of initial values.\n",
      "Warning: bad choice of initial values.\n"
     ]
    },
    {
     "name": "stderr",
     "output_type": "stream",
     "text": [
      "\r",
      " 33%|██████████▉                      | 66/200 [86:58:41<139:30:43, 3748.09s/it]"
     ]
    },
    {
     "name": "stdout",
     "output_type": "stream",
     "text": [
      "Warning: bad choice of initial values.\n",
      "Warning: bad choice of initial values.\n",
      "Warning: bad choice of initial values.\n",
      "Warning: bad choice of initial values.\n",
      "Warning: bad choice of initial values.\n"
     ]
    },
    {
     "name": "stderr",
     "output_type": "stream",
     "text": [
      "\r",
      " 34%|███████████                      | 67/200 [88:18:50<150:13:47, 4066.37s/it]"
     ]
    },
    {
     "name": "stdout",
     "output_type": "stream",
     "text": [
      "Warning: bad choice of initial values.\n",
      "Warning: bad choice of initial values.\n",
      "Warning: bad choice of initial values.\n",
      "Warning: bad choice of initial values.\n",
      "Warning: bad choice of initial values.\n",
      "Warning: bad choice of initial values.\n",
      "Warning: bad choice of initial values.\n",
      "Warning: bad choice of initial values.\n"
     ]
    },
    {
     "name": "stderr",
     "output_type": "stream",
     "text": [
      "\r",
      " 34%|███████████▏                     | 68/200 [89:41:05<158:39:33, 4327.07s/it]"
     ]
    },
    {
     "name": "stdout",
     "output_type": "stream",
     "text": [
      "Warning: bad choice of initial values.\n",
      "Warning: bad choice of initial values.\n",
      "Warning: bad choice of initial values.\n",
      "Warning: bad choice of initial values.\n"
     ]
    },
    {
     "name": "stderr",
     "output_type": "stream",
     "text": [
      "\r",
      " 34%|███████████▍                     | 69/200 [90:45:06<152:09:17, 4181.35s/it]"
     ]
    },
    {
     "name": "stdout",
     "output_type": "stream",
     "text": [
      "Warning: bad choice of initial values.\n",
      "Warning: bad choice of initial values.\n",
      "Warning: bad choice of initial values.\n",
      "Warning: bad choice of initial values.\n",
      "Warning: bad choice of initial values.\n",
      "Warning: bad choice of initial values.\n"
     ]
    },
    {
     "name": "stderr",
     "output_type": "stream",
     "text": [
      "\r",
      " 35%|███████████▌                     | 70/200 [91:53:50<150:21:51, 4163.94s/it]"
     ]
    },
    {
     "name": "stdout",
     "output_type": "stream",
     "text": [
      "Warning: bad choice of initial values.\n",
      "Warning: bad choice of initial values.\n"
     ]
    },
    {
     "name": "stderr",
     "output_type": "stream",
     "text": [
      "\r",
      " 36%|███████████▋                     | 71/200 [92:53:34<142:58:36, 3990.05s/it]"
     ]
    },
    {
     "name": "stdout",
     "output_type": "stream",
     "text": [
      "Warning: bad choice of initial values.\n"
     ]
    },
    {
     "name": "stderr",
     "output_type": "stream",
     "text": [
      "\r",
      " 36%|███████████▉                     | 72/200 [93:51:06<136:07:44, 3828.63s/it]"
     ]
    },
    {
     "name": "stdout",
     "output_type": "stream",
     "text": [
      "Warning: bad choice of initial values.\n",
      "Warning: bad choice of initial values.\n",
      "Warning: bad choice of initial values.\n"
     ]
    },
    {
     "name": "stderr",
     "output_type": "stream",
     "text": [
      "\r",
      " 36%|████████████                     | 73/200 [94:53:04<133:53:58, 3795.58s/it]"
     ]
    },
    {
     "name": "stdout",
     "output_type": "stream",
     "text": [
      "Warning: bad choice of initial values.\n",
      "Warning: bad choice of initial values.\n",
      "Warning: bad choice of initial values.\n",
      "Warning: bad choice of initial values.\n"
     ]
    },
    {
     "name": "stderr",
     "output_type": "stream",
     "text": [
      "\r",
      " 37%|████████████▏                    | 74/200 [95:57:16<133:26:05, 3812.42s/it]"
     ]
    },
    {
     "name": "stdout",
     "output_type": "stream",
     "text": [
      "Warning: bad choice of initial values.\n",
      "Warning: bad choice of initial values.\n"
     ]
    },
    {
     "name": "stderr",
     "output_type": "stream",
     "text": [
      " 38%|████████████▌                    | 76/200 [97:52:29<124:39:09, 3618.95s/it]"
     ]
    },
    {
     "name": "stdout",
     "output_type": "stream",
     "text": [
      "Warning: bad choice of initial values.\n",
      "Warning: bad choice of initial values.\n",
      "Warning: bad choice of initial values.\n",
      "Warning: bad choice of initial values.\n",
      "Warning: bad choice of initial values.\n"
     ]
    },
    {
     "name": "stderr",
     "output_type": "stream",
     "text": [
      "\r",
      " 38%|████████████▋                    | 77/200 [98:58:56<127:25:21, 3729.44s/it]"
     ]
    },
    {
     "name": "stdout",
     "output_type": "stream",
     "text": [
      "Warning: bad choice of initial values.\n",
      "Warning: bad choice of initial values.\n",
      "Warning: bad choice of initial values.\n",
      "Warning: bad choice of initial values.\n",
      "Warning: bad choice of initial values.\n",
      "Warning: bad choice of initial values.\n",
      "Warning: bad choice of initial values.\n",
      "Warning: bad choice of initial values.\n",
      "Warning: bad choice of initial values.\n",
      "Warning: bad choice of initial values.\n",
      "Warning: bad choice of initial values.\n"
     ]
    },
    {
     "name": "stderr",
     "output_type": "stream",
     "text": [
      "\r",
      " 39%|████████████▍                   | 78/200 [100:20:43<138:21:11, 4082.56s/it]"
     ]
    },
    {
     "name": "stdout",
     "output_type": "stream",
     "text": [
      "Warning: bad choice of initial values.\n",
      "Warning: bad choice of initial values.\n",
      "Warning: bad choice of initial values.\n",
      "Warning: bad choice of initial values.\n",
      "Warning: bad choice of initial values.\n"
     ]
    },
    {
     "name": "stderr",
     "output_type": "stream",
     "text": [
      "\r",
      " 40%|████████████▋                   | 79/200 [101:27:08<136:14:09, 4053.30s/it]"
     ]
    },
    {
     "name": "stdout",
     "output_type": "stream",
     "text": [
      "Warning: bad choice of initial values.\n",
      "Warning: bad choice of initial values.\n"
     ]
    },
    {
     "name": "stderr",
     "output_type": "stream",
     "text": [
      "\r",
      " 40%|████████████▊                   | 80/200 [102:27:02<130:30:58, 3915.49s/it]"
     ]
    },
    {
     "name": "stdout",
     "output_type": "stream",
     "text": [
      "Warning: bad choice of initial values.\n",
      "Warning: bad choice of initial values.\n",
      "Warning: bad choice of initial values.\n"
     ]
    },
    {
     "name": "stderr",
     "output_type": "stream",
     "text": [
      "\r",
      " 40%|████████████▉                   | 81/200 [103:28:54<127:24:41, 3854.46s/it]"
     ]
    },
    {
     "name": "stdout",
     "output_type": "stream",
     "text": [
      "Warning: bad choice of initial values.\n",
      "Warning: bad choice of initial values.\n",
      "Warning: bad choice of initial values.\n",
      "Warning: bad choice of initial values.\n",
      "Warning: bad choice of initial values.\n",
      "Warning: bad choice of initial values.\n",
      "Warning: bad choice of initial values.\n"
     ]
    },
    {
     "name": "stderr",
     "output_type": "stream",
     "text": [
      "\r",
      " 41%|█████████████                   | 82/200 [104:39:50<130:17:40, 3975.09s/it]"
     ]
    },
    {
     "name": "stdout",
     "output_type": "stream",
     "text": [
      "Warning: bad choice of initial values.\n"
     ]
    },
    {
     "name": "stderr",
     "output_type": "stream",
     "text": [
      "\r",
      " 42%|█████████████▎                  | 83/200 [105:37:23<124:06:01, 3818.47s/it]"
     ]
    },
    {
     "name": "stdout",
     "output_type": "stream",
     "text": [
      "Warning: bad choice of initial values.\n",
      "Warning: bad choice of initial values.\n",
      "Warning: bad choice of initial values.\n",
      "Warning: bad choice of initial values.\n",
      "Warning: bad choice of initial values.\n",
      "Warning: bad choice of initial values.\n",
      "Warning: bad choice of initial values.\n",
      "Warning: bad choice of initial values.\n",
      "Warning: bad choice of initial values.\n",
      "Warning: bad choice of initial values.\n",
      "Warning: bad choice of initial values.\n",
      "Warning: bad choice of initial values.\n",
      "Warning: bad choice of initial values.\n",
      "Warning: bad choice of initial values.\n",
      "Warning: bad choice of initial values.\n"
     ]
    },
    {
     "name": "stderr",
     "output_type": "stream",
     "text": [
      "\r",
      " 42%|█████████████▍                  | 84/200 [107:05:51<137:26:08, 4265.24s/it]"
     ]
    },
    {
     "name": "stdout",
     "output_type": "stream",
     "text": [
      "Warning: bad choice of initial values.\n",
      "Warning: bad choice of initial values.\n",
      "Warning: bad choice of initial values.\n",
      "Warning: bad choice of initial values.\n",
      "Warning: bad choice of initial values.\n",
      "Warning: bad choice of initial values.\n",
      "Warning: bad choice of initial values.\n",
      "Warning: bad choice of initial values.\n",
      "Warning: bad choice of initial values.\n"
     ]
    },
    {
     "name": "stderr",
     "output_type": "stream",
     "text": [
      "\r",
      " 42%|█████████████▌                  | 85/200 [108:21:02<138:36:18, 4338.94s/it]"
     ]
    },
    {
     "name": "stdout",
     "output_type": "stream",
     "text": [
      "Warning: bad choice of initial values.\n",
      "Warning: bad choice of initial values.\n"
     ]
    },
    {
     "name": "stderr",
     "output_type": "stream",
     "text": [
      "\r",
      " 43%|█████████████▊                  | 86/200 [109:20:52<130:17:13, 4114.33s/it]"
     ]
    },
    {
     "name": "stdout",
     "output_type": "stream",
     "text": [
      "Warning: bad choice of initial values.\n",
      "Warning: bad choice of initial values.\n",
      "Warning: bad choice of initial values.\n",
      "Warning: bad choice of initial values.\n"
     ]
    },
    {
     "name": "stderr",
     "output_type": "stream",
     "text": [
      " 44%|██████████████                  | 88/200 [111:20:23<118:51:23, 3820.39s/it]"
     ]
    },
    {
     "name": "stdout",
     "output_type": "stream",
     "text": [
      "Warning: bad choice of initial values.\n",
      "Warning: bad choice of initial values.\n",
      "Warning: bad choice of initial values.\n",
      "Warning: bad choice of initial values.\n",
      "Warning: bad choice of initial values.\n",
      "Warning: bad choice of initial values.\n",
      "Warning: bad choice of initial values.\n",
      "Warning: bad choice of initial values.\n",
      "Warning: bad choice of initial values.\n",
      "Warning: bad choice of initial values.\n",
      "Warning: bad choice of initial values.\n",
      "Warning: bad choice of initial values.\n",
      "Warning: bad choice of initial values.\n",
      "Warning: bad choice of initial values.\n",
      "Warning: bad choice of initial values.\n"
     ]
    },
    {
     "name": "stderr",
     "output_type": "stream",
     "text": [
      " 45%|██████████████▍                 | 90/200 [113:44:17<121:45:21, 3984.74s/it]"
     ]
    },
    {
     "name": "stdout",
     "output_type": "stream",
     "text": [
      "Warning: bad choice of initial values.\n",
      "Warning: bad choice of initial values.\n",
      "Warning: bad choice of initial values.\n",
      "Warning: bad choice of initial values.\n",
      "Warning: bad choice of initial values.\n",
      "Warning: bad choice of initial values.\n",
      "Warning: bad choice of initial values.\n",
      "Warning: bad choice of initial values.\n",
      "Warning: bad choice of initial values.\n",
      "Warning: bad choice of initial values.\n",
      "Warning: bad choice of initial values.\n"
     ]
    },
    {
     "name": "stderr",
     "output_type": "stream",
     "text": [
      "\r",
      " 46%|██████████████▌                 | 91/200 [115:03:40<127:43:02, 4218.18s/it]"
     ]
    },
    {
     "name": "stdout",
     "output_type": "stream",
     "text": [
      "Warning: bad choice of initial values.\n",
      "Warning: bad choice of initial values.\n",
      "Warning: bad choice of initial values.\n",
      "Warning: bad choice of initial values.\n",
      "Warning: bad choice of initial values.\n",
      "Warning: bad choice of initial values.\n"
     ]
    },
    {
     "name": "stderr",
     "output_type": "stream",
     "text": [
      "\r",
      " 46%|██████████████▋                 | 92/200 [116:12:25<125:42:11, 4190.10s/it]"
     ]
    },
    {
     "name": "stdout",
     "output_type": "stream",
     "text": [
      "Warning: bad choice of initial values.\n",
      "Warning: bad choice of initial values.\n",
      "Warning: bad choice of initial values.\n",
      "Warning: bad choice of initial values.\n",
      "Warning: bad choice of initial values.\n",
      "Warning: bad choice of initial values.\n",
      "Warning: bad choice of initial values.\n",
      "Warning: bad choice of initial values.\n",
      "Warning: bad choice of initial values.\n"
     ]
    },
    {
     "name": "stderr",
     "output_type": "stream",
     "text": [
      "\r",
      " 46%|██████████████▉                 | 93/200 [117:27:31<127:21:28, 4284.94s/it]"
     ]
    },
    {
     "name": "stdout",
     "output_type": "stream",
     "text": [
      "Warning: bad choice of initial values.\n",
      "Warning: bad choice of initial values.\n",
      "Warning: bad choice of initial values.\n",
      "Warning: bad choice of initial values.\n",
      "Warning: bad choice of initial values.\n"
     ]
    },
    {
     "name": "stderr",
     "output_type": "stream",
     "text": [
      " 48%|███████████████▏                | 95/200 [119:29:20<114:43:45, 3933.58s/it]"
     ]
    },
    {
     "name": "stdout",
     "output_type": "stream",
     "text": [
      "Warning: bad choice of initial values.\n",
      "Warning: bad choice of initial values.\n"
     ]
    },
    {
     "name": "stderr",
     "output_type": "stream",
     "text": [
      "\r",
      " 48%|███████████████▎                | 96/200 [120:29:05<110:36:44, 3828.89s/it]"
     ]
    },
    {
     "name": "stdout",
     "output_type": "stream",
     "text": [
      "Warning: bad choice of initial values.\n",
      "Warning: bad choice of initial values.\n",
      "Warning: bad choice of initial values.\n",
      "Warning: bad choice of initial values.\n",
      "Warning: bad choice of initial values.\n",
      "Warning: bad choice of initial values.\n",
      "Warning: bad choice of initial values.\n",
      "Warning: bad choice of initial values.\n",
      "Warning: bad choice of initial values.\n",
      "Warning: bad choice of initial values.\n",
      "Warning: bad choice of initial values.\n",
      "Warning: bad choice of initial values.\n",
      "Warning: bad choice of initial values.\n",
      "Warning: bad choice of initial values.\n",
      "Warning: bad choice of initial values.\n"
     ]
    },
    {
     "name": "stderr",
     "output_type": "stream",
     "text": [
      "\r",
      " 48%|███████████████▌                | 97/200 [121:57:34<122:15:05, 4272.87s/it]"
     ]
    },
    {
     "name": "stdout",
     "output_type": "stream",
     "text": [
      "Warning: bad choice of initial values.\n",
      "Warning: bad choice of initial values.\n",
      "Warning: bad choice of initial values.\n",
      "Warning: bad choice of initial values.\n",
      "Warning: bad choice of initial values.\n",
      "Warning: bad choice of initial values.\n",
      "Warning: bad choice of initial values.\n",
      "Warning: bad choice of initial values.\n",
      "Warning: bad choice of initial values.\n",
      "Warning: bad choice of initial values.\n",
      "Warning: bad choice of initial values.\n",
      "Warning: bad choice of initial values.\n",
      "Warning: bad choice of initial values.\n",
      "Warning: bad choice of initial values.\n",
      "Warning: bad choice of initial values.\n",
      "Warning: bad choice of initial values.\n",
      "Warning: bad choice of initial values.\n",
      "Warning: bad choice of initial values.\n",
      "Warning: bad choice of initial values.\n",
      "Warning: bad choice of initial values.\n",
      "Warning: bad choice of initial values.\n",
      "Warning: bad choice of initial values.\n",
      "Warning: bad choice of initial values.\n",
      "Warning: bad choice of initial values.\n",
      "Warning: bad choice of initial values.\n",
      "Warning: bad choice of initial values.\n",
      "Warning: bad choice of initial values.\n",
      "Warning: bad choice of initial values.\n",
      "Warning: bad choice of initial values.\n",
      "Warning: bad choice of initial values.\n"
     ]
    },
    {
     "name": "stderr",
     "output_type": "stream",
     "text": [
      " 50%|███████████████▊                | 99/200 [125:10:25<135:17:48, 4822.46s/it]"
     ]
    },
    {
     "name": "stdout",
     "output_type": "stream",
     "text": [
      "Warning: bad choice of initial values.\n",
      "Warning: bad choice of initial values.\n",
      "Warning: bad choice of initial values.\n",
      "Warning: bad choice of initial values.\n"
     ]
    },
    {
     "name": "stderr",
     "output_type": "stream",
     "text": [
      "\r",
      " 50%|███████████████▌               | 100/200 [127:04:43<150:55:00, 5433.01s/it]"
     ]
    },
    {
     "name": "stdout",
     "output_type": "stream",
     "text": [
      "Warning: bad choice of initial values.\n",
      "Warning: bad choice of initial values.\n",
      "Warning: bad choice of initial values.\n",
      "Warning: bad choice of initial values.\n",
      "Warning: bad choice of initial values.\n",
      "Warning: bad choice of initial values.\n"
     ]
    },
    {
     "name": "stderr",
     "output_type": "stream",
     "text": [
      " 51%|███████████████▊               | 102/200 [129:08:43<123:07:47, 4523.14s/it]"
     ]
    },
    {
     "name": "stdout",
     "output_type": "stream",
     "text": [
      "Warning: bad choice of initial values.\n",
      "Warning: bad choice of initial values.\n",
      "Warning: bad choice of initial values.\n"
     ]
    },
    {
     "name": "stderr",
     "output_type": "stream",
     "text": [
      " 52%|████████████████               | 104/200 [131:05:55<106:27:43, 3992.33s/it]"
     ]
    },
    {
     "name": "stdout",
     "output_type": "stream",
     "text": [
      "Warning: bad choice of initial values.\n",
      "Warning: bad choice of initial values.\n"
     ]
    },
    {
     "name": "stderr",
     "output_type": "stream",
     "text": [
      "\r",
      " 52%|████████████████▎              | 105/200 [132:08:52<103:38:49, 3927.68s/it]"
     ]
    },
    {
     "name": "stdout",
     "output_type": "stream",
     "text": [
      "Warning: bad choice of initial values.\n"
     ]
    },
    {
     "name": "stderr",
     "output_type": "stream",
     "text": [
      "\r",
      " 53%|████████████████▉               | 106/200 [133:06:58<99:05:37, 3795.08s/it]"
     ]
    },
    {
     "name": "stdout",
     "output_type": "stream",
     "text": [
      "Warning: bad choice of initial values.\n",
      "Warning: bad choice of initial values.\n"
     ]
    },
    {
     "name": "stderr",
     "output_type": "stream",
     "text": [
      "\r",
      " 54%|█████████████████               | 107/200 [134:06:37<96:21:58, 3730.31s/it]"
     ]
    },
    {
     "name": "stdout",
     "output_type": "stream",
     "text": [
      "Warning: bad choice of initial values.\n",
      "Warning: bad choice of initial values.\n",
      "Warning: bad choice of initial values.\n",
      "Warning: bad choice of initial values.\n",
      "Warning: bad choice of initial values.\n",
      "Warning: bad choice of initial values.\n",
      "Warning: bad choice of initial values.\n",
      "Warning: bad choice of initial values.\n",
      "Warning: bad choice of initial values.\n",
      "Warning: bad choice of initial values.\n",
      "Warning: bad choice of initial values.\n",
      "Warning: bad choice of initial values.\n",
      "Warning: bad choice of initial values.\n",
      "Warning: bad choice of initial values.\n",
      "Warning: bad choice of initial values.\n",
      "Warning: bad choice of initial values.\n",
      "Warning: bad choice of initial values.\n",
      "Warning: bad choice of initial values.\n",
      "Warning: bad choice of initial values.\n",
      "Warning: bad choice of initial values.\n",
      "Warning: bad choice of initial values.\n"
     ]
    },
    {
     "name": "stderr",
     "output_type": "stream",
     "text": [
      "\r",
      " 54%|████████████████▋              | 108/200 [135:48:07<113:25:25, 4438.32s/it]"
     ]
    },
    {
     "name": "stdout",
     "output_type": "stream",
     "text": [
      "Warning: bad choice of initial values.\n",
      "Warning: bad choice of initial values.\n",
      "Warning: bad choice of initial values.\n",
      "Warning: bad choice of initial values.\n",
      "Warning: bad choice of initial values.\n"
     ]
    },
    {
     "name": "stderr",
     "output_type": "stream",
     "text": [
      "\r",
      " 55%|████████████████▉              | 109/200 [136:54:29<108:43:31, 4301.23s/it]"
     ]
    },
    {
     "name": "stdout",
     "output_type": "stream",
     "text": [
      "Warning: bad choice of initial values.\n",
      "Warning: bad choice of initial values.\n"
     ]
    },
    {
     "name": "stderr",
     "output_type": "stream",
     "text": [
      "\r",
      " 55%|█████████████████              | 110/200 [137:54:09<102:07:40, 4085.12s/it]"
     ]
    },
    {
     "name": "stdout",
     "output_type": "stream",
     "text": [
      "Warning: bad choice of initial values.\n",
      "Warning: bad choice of initial values.\n",
      "Warning: bad choice of initial values.\n"
     ]
    },
    {
     "name": "stderr",
     "output_type": "stream",
     "text": [
      "\r",
      " 56%|█████████████████▊              | 111/200 [138:56:09<98:16:50, 3975.39s/it]"
     ]
    },
    {
     "name": "stdout",
     "output_type": "stream",
     "text": [
      "Warning: bad choice of initial values.\n",
      "Warning: bad choice of initial values.\n",
      "Warning: bad choice of initial values.\n",
      "Warning: bad choice of initial values.\n",
      "Warning: bad choice of initial values.\n",
      "Warning: bad choice of initial values.\n",
      "Warning: bad choice of initial values.\n"
     ]
    },
    {
     "name": "stderr",
     "output_type": "stream",
     "text": [
      " 56%|██████████████████              | 113/200 [141:02:12<92:40:42, 3834.97s/it]"
     ]
    },
    {
     "name": "stdout",
     "output_type": "stream",
     "text": [
      "Warning: bad choice of initial values.\n",
      "Warning: bad choice of initial values.\n"
     ]
    },
    {
     "name": "stderr",
     "output_type": "stream",
     "text": [
      " 57%|██████████████████▍             | 115/200 [142:57:17<85:39:58, 3628.22s/it]"
     ]
    },
    {
     "name": "stdout",
     "output_type": "stream",
     "text": [
      "Warning: bad choice of initial values.\n",
      "Warning: bad choice of initial values.\n",
      "Warning: bad choice of initial values.\n",
      "Warning: bad choice of initial values.\n"
     ]
    },
    {
     "name": "stderr",
     "output_type": "stream",
     "text": [
      "\r",
      " 58%|██████████████████▌             | 116/200 [144:01:18<86:09:03, 3692.18s/it]"
     ]
    },
    {
     "name": "stdout",
     "output_type": "stream",
     "text": [
      "Warning: bad choice of initial values.\n"
     ]
    },
    {
     "name": "stderr",
     "output_type": "stream",
     "text": [
      "\r",
      " 58%|██████████████████▋             | 117/200 [144:58:56<83:30:08, 3621.79s/it]"
     ]
    },
    {
     "name": "stdout",
     "output_type": "stream",
     "text": [
      "Warning: bad choice of initial values.\n"
     ]
    },
    {
     "name": "stderr",
     "output_type": "stream",
     "text": [
      "\r",
      " 59%|██████████████████▉             | 118/200 [145:56:37<81:24:09, 3573.78s/it]"
     ]
    },
    {
     "name": "stdout",
     "output_type": "stream",
     "text": [
      "Warning: bad choice of initial values.\n",
      "Warning: bad choice of initial values.\n",
      "Warning: bad choice of initial values.\n",
      "Warning: bad choice of initial values.\n"
     ]
    },
    {
     "name": "stderr",
     "output_type": "stream",
     "text": [
      "\r",
      " 60%|███████████████████             | 119/200 [147:00:54<82:18:58, 3658.50s/it]"
     ]
    },
    {
     "name": "stdout",
     "output_type": "stream",
     "text": [
      "Warning: bad choice of initial values.\n",
      "Warning: bad choice of initial values.\n",
      "Warning: bad choice of initial values.\n"
     ]
    },
    {
     "name": "stderr",
     "output_type": "stream",
     "text": [
      "\r",
      " 60%|███████████████████▏            | 120/200 [148:05:07<82:35:46, 3716.83s/it]"
     ]
    },
    {
     "name": "stdout",
     "output_type": "stream",
     "text": [
      "Warning: bad choice of initial values.\n",
      "Warning: bad choice of initial values.\n",
      "Warning: bad choice of initial values.\n",
      "Warning: bad choice of initial values.\n",
      "Warning: bad choice of initial values.\n",
      "Warning: bad choice of initial values.\n",
      "Warning: bad choice of initial values.\n",
      "Warning: bad choice of initial values.\n",
      "Warning: bad choice of initial values.\n",
      "Warning: bad choice of initial values.\n",
      "Warning: bad choice of initial values.\n"
     ]
    },
    {
     "name": "stderr",
     "output_type": "stream",
     "text": [
      "\r",
      " 60%|███████████████████▎            | 121/200 [149:24:47<88:33:44, 4035.76s/it]"
     ]
    },
    {
     "name": "stdout",
     "output_type": "stream",
     "text": [
      "Warning: bad choice of initial values.\n",
      "Warning: bad choice of initial values.\n",
      "Warning: bad choice of initial values.\n",
      "Warning: bad choice of initial values.\n",
      "Warning: bad choice of initial values.\n",
      "Warning: bad choice of initial values.\n",
      "Warning: bad choice of initial values.\n"
     ]
    },
    {
     "name": "stderr",
     "output_type": "stream",
     "text": [
      "\r",
      " 61%|███████████████████▌            | 122/200 [150:35:29<88:47:16, 4097.91s/it]"
     ]
    },
    {
     "name": "stdout",
     "output_type": "stream",
     "text": [
      "Warning: bad choice of initial values.\n"
     ]
    },
    {
     "name": "stderr",
     "output_type": "stream",
     "text": [
      "\r",
      " 62%|███████████████████▋            | 123/200 [151:33:14<83:35:18, 3908.03s/it]"
     ]
    },
    {
     "name": "stdout",
     "output_type": "stream",
     "text": [
      "Warning: bad choice of initial values.\n",
      "Warning: bad choice of initial values.\n",
      "Warning: bad choice of initial values.\n",
      "Warning: bad choice of initial values.\n",
      "Warning: bad choice of initial values.\n",
      "Warning: bad choice of initial values.\n",
      "Warning: bad choice of initial values.\n",
      "Warning: bad choice of initial values.\n"
     ]
    },
    {
     "name": "stderr",
     "output_type": "stream",
     "text": [
      "\r",
      " 62%|███████████████████▊            | 124/200 [152:46:13<85:28:57, 4049.18s/it]"
     ]
    },
    {
     "name": "stdout",
     "output_type": "stream",
     "text": [
      "Warning: bad choice of initial values.\n",
      "Warning: bad choice of initial values.\n"
     ]
    },
    {
     "name": "stderr",
     "output_type": "stream",
     "text": [
      " 63%|████████████████████▏           | 126/200 [154:41:18<76:44:16, 3733.20s/it]"
     ]
    },
    {
     "name": "stdout",
     "output_type": "stream",
     "text": [
      "Warning: bad choice of initial values.\n"
     ]
    },
    {
     "name": "stderr",
     "output_type": "stream",
     "text": [
      "\r",
      " 64%|████████████████████▎           | 127/200 [155:38:49<73:59:09, 3648.63s/it]"
     ]
    },
    {
     "name": "stdout",
     "output_type": "stream",
     "text": [
      "Warning: bad choice of initial values.\n"
     ]
    },
    {
     "name": "stderr",
     "output_type": "stream",
     "text": [
      "\r",
      " 64%|████████████████████▍           | 128/200 [156:36:20<71:46:57, 3589.14s/it]"
     ]
    },
    {
     "name": "stdout",
     "output_type": "stream",
     "text": [
      "Warning: bad choice of initial values.\n",
      "Warning: bad choice of initial values.\n",
      "Warning: bad choice of initial values.\n",
      "Warning: bad choice of initial values.\n",
      "Warning: bad choice of initial values.\n",
      "Warning: bad choice of initial values.\n",
      "Warning: bad choice of initial values.\n",
      "Warning: bad choice of initial values.\n",
      "Warning: bad choice of initial values.\n"
     ]
    },
    {
     "name": "stderr",
     "output_type": "stream",
     "text": [
      "\r",
      " 64%|████████████████████▋           | 129/200 [157:51:23<76:11:40, 3863.38s/it]"
     ]
    },
    {
     "name": "stdout",
     "output_type": "stream",
     "text": [
      "Warning: bad choice of initial values.\n",
      "Warning: bad choice of initial values.\n"
     ]
    },
    {
     "name": "stderr",
     "output_type": "stream",
     "text": [
      "\r",
      " 65%|████████████████████▊           | 130/200 [158:51:09<73:30:23, 3780.34s/it]"
     ]
    },
    {
     "name": "stdout",
     "output_type": "stream",
     "text": [
      "Warning: bad choice of initial values.\n",
      "Warning: bad choice of initial values.\n",
      "Warning: bad choice of initial values.\n",
      "Warning: bad choice of initial values.\n",
      "Warning: bad choice of initial values.\n",
      "Warning: bad choice of initial values.\n",
      "Warning: bad choice of initial values.\n"
     ]
    },
    {
     "name": "stderr",
     "output_type": "stream",
     "text": [
      " 66%|█████████████████████▎          | 133/200 [161:52:31<67:13:52, 3612.43s/it]"
     ]
    },
    {
     "name": "stdout",
     "output_type": "stream",
     "text": [
      "Warning: bad choice of initial values.\n",
      "Warning: bad choice of initial values.\n",
      "Warning: bad choice of initial values.\n",
      "Warning: bad choice of initial values.\n",
      "Warning: bad choice of initial values.\n",
      "Warning: bad choice of initial values.\n"
     ]
    },
    {
     "name": "stderr",
     "output_type": "stream",
     "text": [
      "\r",
      " 67%|█████████████████████▍          | 134/200 [163:01:03<68:58:32, 3762.31s/it]"
     ]
    },
    {
     "name": "stdout",
     "output_type": "stream",
     "text": [
      "Warning: bad choice of initial values.\n"
     ]
    },
    {
     "name": "stderr",
     "output_type": "stream",
     "text": [
      "\r",
      " 68%|█████████████████████▌          | 135/200 [163:58:41<66:16:57, 3671.04s/it]"
     ]
    },
    {
     "name": "stdout",
     "output_type": "stream",
     "text": [
      "Warning: bad choice of initial values.\n"
     ]
    },
    {
     "name": "stderr",
     "output_type": "stream",
     "text": [
      "\r",
      " 68%|█████████████████████▊          | 136/200 [164:56:13<64:05:27, 3605.12s/it]"
     ]
    },
    {
     "name": "stdout",
     "output_type": "stream",
     "text": [
      "Warning: bad choice of initial values.\n"
     ]
    },
    {
     "name": "stderr",
     "output_type": "stream",
     "text": [
      "\r",
      " 68%|█████████████████████▉          | 137/200 [165:54:00<62:21:56, 3563.76s/it]"
     ]
    },
    {
     "name": "stdout",
     "output_type": "stream",
     "text": [
      "Warning: bad choice of initial values.\n",
      "Warning: bad choice of initial values.\n",
      "Warning: bad choice of initial values.\n"
     ]
    },
    {
     "name": "stderr",
     "output_type": "stream",
     "text": [
      "\r",
      " 69%|██████████████████████          | 138/200 [166:56:11<62:14:23, 3613.93s/it]"
     ]
    },
    {
     "name": "stdout",
     "output_type": "stream",
     "text": [
      "Warning: bad choice of initial values.\n",
      "Warning: bad choice of initial values.\n",
      "Warning: bad choice of initial values.\n",
      "Warning: bad choice of initial values.\n"
     ]
    },
    {
     "name": "stderr",
     "output_type": "stream",
     "text": [
      "\r",
      " 70%|██████████████████████▏         | 139/200 [168:00:43<62:32:51, 3691.34s/it]"
     ]
    },
    {
     "name": "stdout",
     "output_type": "stream",
     "text": [
      "Warning: bad choice of initial values.\n",
      "Warning: bad choice of initial values.\n",
      "Warning: bad choice of initial values.\n",
      "Warning: bad choice of initial values.\n",
      "Warning: bad choice of initial values.\n",
      "Warning: bad choice of initial values.\n",
      "Warning: bad choice of initial values.\n"
     ]
    },
    {
     "name": "stderr",
     "output_type": "stream",
     "text": [
      " 70%|██████████████████████▌         | 141/200 [170:07:28<60:45:05, 3706.88s/it]"
     ]
    },
    {
     "name": "stdout",
     "output_type": "stream",
     "text": [
      "Warning: bad choice of initial values.\n",
      "Warning: bad choice of initial values.\n"
     ]
    },
    {
     "name": "stderr",
     "output_type": "stream",
     "text": [
      "\r",
      " 71%|██████████████████████▋         | 142/200 [171:07:18<59:09:22, 3671.77s/it]"
     ]
    },
    {
     "name": "stdout",
     "output_type": "stream",
     "text": [
      "Warning: bad choice of initial values.\n",
      "Warning: bad choice of initial values.\n"
     ]
    },
    {
     "name": "stderr",
     "output_type": "stream",
     "text": [
      "\r",
      " 72%|██████████████████████▉         | 143/200 [172:07:15<57:46:48, 3649.27s/it]"
     ]
    },
    {
     "name": "stdout",
     "output_type": "stream",
     "text": [
      "Warning: bad choice of initial values.\n",
      "Warning: bad choice of initial values.\n",
      "Warning: bad choice of initial values.\n",
      "Warning: bad choice of initial values.\n",
      "Warning: bad choice of initial values.\n",
      "Warning: bad choice of initial values.\n",
      "Warning: bad choice of initial values.\n",
      "Warning: bad choice of initial values.\n",
      "Warning: bad choice of initial values.\n",
      "Warning: bad choice of initial values.\n",
      "Warning: bad choice of initial values.\n",
      "Warning: bad choice of initial values.\n",
      "Warning: bad choice of initial values.\n",
      "Warning: bad choice of initial values.\n",
      "Warning: bad choice of initial values.\n",
      "Warning: bad choice of initial values.\n",
      "Warning: bad choice of initial values.\n",
      "Warning: bad choice of initial values.\n",
      "Warning: bad choice of initial values.\n",
      "Warning: bad choice of initial values.\n",
      "Warning: bad choice of initial values.\n",
      "Warning: bad choice of initial values.\n",
      "Warning: bad choice of initial values.\n",
      "Warning: bad choice of initial values.\n",
      "Warning: bad choice of initial values.\n"
     ]
    }
   ],
   "source": [
    "n_set = 200\n",
    "multi_startup = 1\n",
    "Theta = np.empty([n_set,N_theta])\n",
    "\n",
    "for i in tqdm(range(n_set)):\n",
    "    err = 1\n",
    "    while err > .2:\n",
    "        Xb, Yb = mp.bootstrapData(Xtr, Ytr)\n",
    "    #    theta_ini = np.array([0.5,0.06,0.5,-3.26]+[0]*(N_comb-1)).reshape(N_theta,1) + multi_startup*np.random.randn(N_theta,1)\n",
    "        theta_ini = np.hstack((np.random.uniform(size=(3)),4*np.random.uniform(size=(1))-4,2*np.random.uniform(size=(N_comb-1))-1)).reshape(N_theta,1)\n",
    "        learner = mp.jointClassifier()\n",
    "        learner.classes = np.unique(Yb)\n",
    "        learner.theta = torch.tensor(theta_ini,requires_grad = True,dtype=torch.float32)\n",
    "        learner.train(Xb,Yb,initStep=1e-1,stopTol=1e-4,stopEpochs=100,alpha=10,plotOpt=False)\n",
    "        err = learner.err(Xb,Yb)\n",
    "    Theta[i] = learner.theta.detach().numpy().reshape(1,N_theta)"
   ]
  },
  {
   "cell_type": "markdown",
   "id": "9caf0464",
   "metadata": {},
   "source": [
    "Save it if needed."
   ]
  },
  {
   "cell_type": "code",
   "execution_count": null,
   "id": "e9cf6c12",
   "metadata": {},
   "outputs": [],
   "source": [
    "# pickle_out = open(\"data/theta230808bootstrap1.pkl\",\"wb\")\n",
    "# pickle.dump(Theta, pickle_out)\n",
    "# pickle_out.close()"
   ]
  }
 ],
 "metadata": {
  "kernelspec": {
   "display_name": "Python 3 (ipykernel)",
   "language": "python",
   "name": "python3"
  },
  "language_info": {
   "codemirror_mode": {
    "name": "ipython",
    "version": 3
   },
   "file_extension": ".py",
   "mimetype": "text/x-python",
   "name": "python",
   "nbconvert_exporter": "python",
   "pygments_lexer": "ipython3",
   "version": "3.11.3"
  }
 },
 "nbformat": 4,
 "nbformat_minor": 5
}
