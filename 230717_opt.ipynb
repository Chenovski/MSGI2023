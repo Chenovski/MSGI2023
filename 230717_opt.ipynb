{
 "cells": [
  {
   "cell_type": "markdown",
   "id": "f04eef39",
   "metadata": {},
   "source": [
    "File created by Jinghao Chen (jinghc2@uci.edu)."
   ]
  },
  {
   "cell_type": "markdown",
   "id": "8501ea1d",
   "metadata": {},
   "source": [
    "Make sure file \"gfp.pkl\" is in the directory."
   ]
  },
  {
   "cell_type": "code",
   "execution_count": 11,
   "id": "b0c3284f",
   "metadata": {},
   "outputs": [],
   "source": [
    "import pickle"
   ]
  },
  {
   "cell_type": "code",
   "execution_count": 12,
   "id": "fe9b35b8",
   "metadata": {},
   "outputs": [],
   "source": [
    "pickle_in = open(\"gfp.pkl\",\"rb\")\n",
    "gfp = pickle.load(pickle_in)"
   ]
  },
  {
   "cell_type": "markdown",
   "id": "d6f180ac",
   "metadata": {},
   "source": [
    "Check the first 5 reads from the bin #0."
   ]
  },
  {
   "cell_type": "code",
   "execution_count": 13,
   "id": "0a1ed607",
   "metadata": {},
   "outputs": [
    {
     "data": {
      "text/plain": [
       "['AATTAATGTGAGTTAGCTCACTCATTAGGCCCCCCAGGGTTTACACTTTTTGCTACCGTCTCGTATGTTGTTTGC',\n",
       " 'AATTAAGTAGAGATCGCTCACTCATTAGGCACCCAAGCCGTTACATTTTATGCTTCAGGCCCGTACGCTGTGTGT',\n",
       " 'GCTTAATGGGAGTGAGCTCACTCATTAGGCACCCCAGTCTTTAGACTTTATGCTTCCGGCTCGTATCTTGCGTGG',\n",
       " 'GCCCACTCTGAGTTAGCTCAACCACTATGCACCCCAGGCTCTACGCTATTTGATTCCGGCCTGATTGTTGTGTGA',\n",
       " 'AATTAATGTGAGTTAGCTCACTCATTTGGCAACCCAGTCTTTACCCTTTATGCTTCCGACTCGTATGTTGTTTGG']"
      ]
     },
     "execution_count": 13,
     "metadata": {},
     "output_type": "execute_result"
    }
   ],
   "source": [
    "gfp[0][:5]"
   ]
  },
  {
   "cell_type": "code",
   "execution_count": 16,
   "id": "613cdd44",
   "metadata": {},
   "outputs": [
    {
     "data": {
      "text/plain": [
       "75"
      ]
     },
     "execution_count": 16,
     "metadata": {},
     "output_type": "execute_result"
    }
   ],
   "source": [
    "len(gfp[0][0])"
   ]
  },
  {
   "cell_type": "code",
   "execution_count": null,
   "id": "af10713e",
   "metadata": {},
   "outputs": [],
   "source": [
    "import numpy as np\n",
    "np.random.seed(0)"
   ]
  },
  {
   "cell_type": "code",
   "execution_count": 26,
   "id": "73e7c9f5",
   "metadata": {},
   "outputs": [
    {
     "data": {
      "text/plain": [
       "46054"
      ]
     },
     "execution_count": 26,
     "metadata": {},
     "output_type": "execute_result"
    }
   ],
   "source": [
    "sum([len(gfp[i]) for i in range(1,10)])"
   ]
  },
  {
   "cell_type": "code",
   "execution_count": 27,
   "id": "fb23de2d",
   "metadata": {},
   "outputs": [
    {
     "data": {
      "text/plain": [
       "46054"
      ]
     },
     "execution_count": 27,
     "metadata": {},
     "output_type": "execute_result"
    }
   ],
   "source": [
    "51853-len(gfp[0])"
   ]
  },
  {
   "cell_type": "code",
   "execution_count": 25,
   "id": "6dd3b982",
   "metadata": {},
   "outputs": [],
   "source": []
  },
  {
   "cell_type": "code",
   "execution_count": null,
   "id": "f50b0867",
   "metadata": {},
   "outputs": [],
   "source": []
  },
  {
   "cell_type": "code",
   "execution_count": null,
   "id": "083a7fcf",
   "metadata": {},
   "outputs": [],
   "source": []
  },
  {
   "cell_type": "code",
   "execution_count": 58,
   "id": "9cb258b8",
   "metadata": {},
   "outputs": [],
   "source": [
    "data = []\n",
    "\n",
    "for k in range(1,10):\n",
    "    for sq in gfp[k]:\n",
    "        l = []\n",
    "        for bp in sq[-74:-48]:\n",
    "            if bp == 'A':\n",
    "                l += [1,0,0,0]\n",
    "            elif bp == 'C':\n",
    "                l += [0,1,0,0]\n",
    "            elif bp == 'G':\n",
    "                l += [0,0,1,0]\n",
    "            elif bp == 'T':\n",
    "                l += [0,0,0,1]\n",
    "            else:\n",
    "                print('error')\n",
    "                break\n",
    "        l.append(k)\n",
    "        l.append(np.heaviside(k-5,-1))\n",
    "        data.append(l)\n",
    "        \n",
    "data = np.array(data)\n",
    "data = data.astype(np.float64)"
   ]
  },
  {
   "cell_type": "code",
   "execution_count": 59,
   "id": "afbcb151",
   "metadata": {},
   "outputs": [
    {
     "data": {
      "text/plain": [
       "(46054, 106)"
      ]
     },
     "execution_count": 59,
     "metadata": {},
     "output_type": "execute_result"
    }
   ],
   "source": [
    "data.shape"
   ]
  },
  {
   "cell_type": "code",
   "execution_count": 65,
   "id": "10f45aba",
   "metadata": {},
   "outputs": [
    {
     "data": {
      "text/plain": [
       "array([False,  True,  True])"
      ]
     },
     "execution_count": 65,
     "metadata": {},
     "output_type": "execute_result"
    }
   ],
   "source": [
    "np.unique(data[:,-1])>-1"
   ]
  },
  {
   "cell_type": "code",
   "execution_count": 61,
   "id": "98800b0a",
   "metadata": {},
   "outputs": [
    {
     "data": {
      "text/plain": [
       "True"
      ]
     },
     "execution_count": 61,
     "metadata": {},
     "output_type": "execute_result"
    }
   ],
   "source": [
    "1!=2"
   ]
  },
  {
   "cell_type": "markdown",
   "id": "b0e3ef42",
   "metadata": {},
   "source": [
    "Import packages for ml model:"
   ]
  },
  {
   "cell_type": "code",
   "execution_count": 14,
   "id": "8fbc73ab",
   "metadata": {},
   "outputs": [],
   "source": [
    "from __future__ import division\n",
    "\n",
    "import torch\n",
    "\n",
    "import sys\n",
    "sys.path.append('code')\n",
    "\n",
    "import mltools as ml # make sure this is installed\n",
    "\n",
    "import matplotlib.pyplot as plt   # use matplotlib for plotting with inline plots"
   ]
  },
  {
   "cell_type": "code",
   "execution_count": 62,
   "id": "f4daf7eb",
   "metadata": {},
   "outputs": [],
   "source": [
    "X, Y = data[:,:-2], data[:,-1]   # get features & target\n",
    "X,Y  = ml.shuffleData(X,Y)       # reorder randomly rather than by class label\n",
    "X,_  = ml.transforms.rescale(X)  # rescale to improve numerical stability, speed convergence\n",
    "\n",
    "XA, YA = X[Y>-1,:], Y[Y>-1]        # Dataset A: class 0 vs class 1\n",
    "# XB, YB = X[Y>0,:], Y[Y>0]        # Dataset B: class 1 vs class 2"
   ]
  },
  {
   "cell_type": "code",
   "execution_count": 63,
   "id": "f9f4d10c",
   "metadata": {},
   "outputs": [
    {
     "data": {
      "text/plain": [
       "array([[-2.64726247, -0.19343166,  5.19907993, ..., -0.1892859 ,\n",
       "        -0.19886364, -0.22048179],\n",
       "       [ 0.37774872, -0.19343166, -0.19234172, ..., -0.1892859 ,\n",
       "        -0.19886364, -0.22048179],\n",
       "       [ 0.37774872, -0.19343166, -0.19234172, ..., -0.1892859 ,\n",
       "        -0.19886364, -0.22048179],\n",
       "       ...,\n",
       "       [ 0.37774872, -0.19343166, -0.19234172, ..., -0.1892859 ,\n",
       "        -0.19886364, -0.22048179],\n",
       "       [-2.64726247, -0.19343166, -0.19234172, ..., -0.1892859 ,\n",
       "        -0.19886364, -0.22048179],\n",
       "       [ 0.37774872, -0.19343166, -0.19234172, ..., -0.1892859 ,\n",
       "        -0.19886364, -0.22048179]])"
      ]
     },
     "execution_count": 63,
     "metadata": {},
     "output_type": "execute_result"
    }
   ],
   "source": [
    "X"
   ]
  },
  {
   "cell_type": "code",
   "execution_count": 66,
   "id": "e92fad4d",
   "metadata": {},
   "outputs": [
    {
     "data": {
      "text/plain": [
       "(40676, 104)"
      ]
     },
     "execution_count": 66,
     "metadata": {},
     "output_type": "execute_result"
    }
   ],
   "source": [
    "XA.shape"
   ]
  },
  {
   "cell_type": "code",
   "execution_count": 53,
   "id": "ab5807be",
   "metadata": {},
   "outputs": [
    {
     "data": {
      "text/plain": [
       "array([9., 7., 3., ..., 8., 7., 1.])"
      ]
     },
     "execution_count": 53,
     "metadata": {},
     "output_type": "execute_result"
    }
   ],
   "source": [
    "Y"
   ]
  },
  {
   "cell_type": "code",
   "execution_count": 52,
   "id": "b3526f1f",
   "metadata": {},
   "outputs": [
    {
     "data": {
      "text/plain": [
       "(46054,)"
      ]
     },
     "execution_count": 52,
     "metadata": {},
     "output_type": "execute_result"
    }
   ],
   "source": [
    "Y.shape"
   ]
  },
  {
   "cell_type": "code",
   "execution_count": 68,
   "id": "afe4fd99",
   "metadata": {},
   "outputs": [],
   "source": [
    "class logisticClassify2(ml.classifier):     # trivial shell class to contain whatever we want\n",
    "    def predict(self,X): pass       # we will replace the shell later as we extend the class\n",
    "    def train(self,X): pass"
   ]
  },
  {
   "cell_type": "code",
   "execution_count": 55,
   "id": "23803cfa",
   "metadata": {},
   "outputs": [],
   "source": [
    "def myPredict(self,X):\n",
    "    '''Predict model on data X; return nparray of class predictions'''\n",
    "    R = torch.Tensor(X) @ self.theta[1:] + self.theta[0]  # compute linear response\n",
    "    Y01 = 1*(R>0)                   # binary classification threshold; convert to integers\n",
    "    Y = self.classes[Y01]           # use lookup to convert back to class values if given\n",
    "    return Y                        # NOTE: returns as numpy, not torch! (b/c classes is a nparray)\n",
    "                                    # (This is necessary for mltools plot to work)"
   ]
  },
  {
   "cell_type": "code",
   "execution_count": 69,
   "id": "659b64bc",
   "metadata": {},
   "outputs": [],
   "source": [
    "# Create a shell classifier\n",
    "class logisticClassify2(ml.classifier):\n",
    "    predict = myPredict              #\n",
    "    train = None                     # this function will be implemented later"
   ]
  },
  {
   "cell_type": "code",
   "execution_count": 57,
   "id": "54751f81",
   "metadata": {},
   "outputs": [],
   "source": [
    "from IPython import display\n",
    "\n",
    "def myTrain(self,X,Y, initStep=1.,stopTol=1e-4,stopEpochs=5000,alpha=0,plot=None):\n",
    "    \"\"\" Train the logistic regression using stochastic gradient descent \"\"\"\n",
    "    M,N = X.shape;                     # initialize the model if necessary:\n",
    "    self.classes = np.unique(Y);       # Y may have two classes, any values\n",
    "    X1 = np.hstack((np.ones((M,1)),X)) # X1 is X, but with an extra column of ones\n",
    "    Y01 = ml.toIndex(Y,self.classes);  # Y01 is Y, but with canonical values 0 or 1\n",
    "    \n",
    "    # if the shape of initial theta is wrong, randomly generate a correct one\n",
    "    if len(self.theta)!=N+1: self.theta=torch.randn((N+1,));\n",
    "        \n",
    "    # init loop variables:\n",
    "    epoch=0; done=False; Jnll=[]; J01=[];            # initialize loop variables\n",
    "    myrate = lambda epoch: initStep*2.0/(2.0+epoch)  # step size as a f'n of epoch\n",
    "\n",
    "    opt = torch.optim.SGD([self.theta], initStep)\n",
    "    sched = torch.optim.lr_scheduler.LambdaLR(opt, myrate)\n",
    "    \n",
    "    while not done:\n",
    "        # Do an SGD pass through the entire data set:\n",
    "        Jnll.append(0.)\n",
    "        for i in np.random.permutation(M):\n",
    "            # Compute predictions and loss for *just* data X[i]:\n",
    "            ri = torch.tensor(X1[i],dtype=torch.float32) @ self.theta;\n",
    "            si = 1/(1+torch.exp(-ri)); # TODO: logistic (probability) prediction of the class\n",
    "            Ji = -Y01[i]*torch.log(si)-(1-Y01[i])*torch.log(1-si); # TODO: torch.Tensor shape [] (scalar)\n",
    "            Jnll[-1] += float(Ji)/M             # find running average of surrogate loss\n",
    "            opt.zero_grad()                     # Ji should be a torch.tensor of shape []\n",
    "            Ji.backward()\n",
    "            opt.step()\n",
    "        sched.step()\n",
    "        \n",
    "\n",
    "        epoch += 1\n",
    "        J01.append( self.err(X,Y) )  # evaluate the current actual error rate \n",
    "\n",
    "        display.clear_output(wait=True); plt.figure(figsize=(10,5));\n",
    "        # plt.subplot(1,2,1); \n",
    "        plt.cla(); plt.plot(Jnll,'b-',J01,'r-');    # plot losses\n",
    "        # if N==2: plt.subplot(1,2,2); plt.cla(); self.plotBoundary(X,Y); # & predictor if 2D\n",
    "        plt.show(); plt.pause(.01);                    # let OS draw the plot\n",
    "\n",
    "        ## For debugging: you may want to print current parameters & losses\n",
    "        # print(self.theta, ' => ', Jnll, ' / ', J01[-1] )\n",
    "        # input()   # pause for keystroke\n",
    "\n",
    "        # TODO check stopping criteria: exit if exceeded # of epochs ( > stopEpochs)\n",
    "        done = epoch > stopEpochs or abs(Jnll[-1]) < stopTol;   # or if Jnll not changing between epochs ( < stopTol )\n"
   ]
  },
  {
   "cell_type": "code",
   "execution_count": 71,
   "id": "49f00359",
   "metadata": {},
   "outputs": [
    {
     "data": {
      "image/png": "[encoded data removed]",
      "text/plain": [
       "<Figure size 1000x500 with 1 Axes>"
      ]
     },
     "metadata": {},
     "output_type": "display_data"
    }
   ],
   "source": [
    "# Update our shell classifier definition\n",
    "class logisticClassify2(ml.classifier):\n",
    "    predict = myPredict              # Now all parts are implemented\n",
    "    train = myTrain\n",
    "\n",
    "learnerA = logisticClassify2()\n",
    "learnerA.classes = np.unique(YA)\n",
    "learnerA.theta = torch.tensor([1.]*105,requires_grad = True);\n",
    "learnerA.train(XA,YA,initStep=1e-1,stopEpochs=500,stopTol=1e-5);"
   ]
  },
  {
   "cell_type": "code",
   "execution_count": null,
   "id": "80c31c78",
   "metadata": {},
   "outputs": [],
   "source": []
  }
 ],
 "metadata": {
  "kernelspec": {
   "display_name": "Python 3 (ipykernel)",
   "language": "python",
   "name": "python3"
  },
  "language_info": {
   "codemirror_mode": {
    "name": "ipython",
    "version": 3
   },
   "file_extension": ".py",
   "mimetype": "text/x-python",
   "name": "python",
   "nbconvert_exporter": "python",
   "pygments_lexer": "ipython3",
   "version": "3.11.3"
  }
 },
 "nbformat": 4,
 "nbformat_minor": 5
}
