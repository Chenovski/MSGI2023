{
 "cells": [
  {
   "cell_type": "markdown",
   "id": "f04eef39",
   "metadata": {},
   "source": [
    "File created by Jinghao Chen (jinghc2@uci.edu)."
   ]
  },
  {
   "cell_type": "markdown",
   "id": "8501ea1d",
   "metadata": {},
   "source": [
    "Make sure file \"gfp.pkl\" is in the directory."
   ]
  },
  {
   "cell_type": "code",
   "execution_count": 1,
   "id": "b0c3284f",
   "metadata": {},
   "outputs": [],
   "source": [
    "import pickle"
   ]
  },
  {
   "cell_type": "code",
   "execution_count": 2,
   "id": "fe9b35b8",
   "metadata": {},
   "outputs": [],
   "source": [
    "pickle_in = open(\"gfp.pkl\",\"rb\")\n",
    "gfp = pickle.load(pickle_in)"
   ]
  },
  {
   "cell_type": "markdown",
   "id": "d6f180ac",
   "metadata": {},
   "source": [
    "Check the first 5 reads from the bin #0."
   ]
  },
  {
   "cell_type": "code",
   "execution_count": 3,
   "id": "0a1ed607",
   "metadata": {},
   "outputs": [
    {
     "data": {
      "text/plain": [
       "['AATTAATGTGAGTTAGCTCACTCATTAGGCCCCCCAGGGTTTACACTTTTTGCTACCGTCTCGTATGTTGTTTGC',\n",
       " 'AATTAAGTAGAGATCGCTCACTCATTAGGCACCCAAGCCGTTACATTTTATGCTTCAGGCCCGTACGCTGTGTGT',\n",
       " 'GCTTAATGGGAGTGAGCTCACTCATTAGGCACCCCAGTCTTTAGACTTTATGCTTCCGGCTCGTATCTTGCGTGG',\n",
       " 'GCCCACTCTGAGTTAGCTCAACCACTATGCACCCCAGGCTCTACGCTATTTGATTCCGGCCTGATTGTTGTGTGA',\n",
       " 'AATTAATGTGAGTTAGCTCACTCATTTGGCAACCCAGTCTTTACCCTTTATGCTTCCGACTCGTATGTTGTTTGG']"
      ]
     },
     "execution_count": 3,
     "metadata": {},
     "output_type": "execute_result"
    }
   ],
   "source": [
    "gfp[0][:5]"
   ]
  },
  {
   "cell_type": "markdown",
   "id": "00757a12",
   "metadata": {},
   "source": [
    "The effective area is [-75,-1] so the length should be 75."
   ]
  },
  {
   "cell_type": "code",
   "execution_count": 4,
   "id": "b658ec7d",
   "metadata": {},
   "outputs": [
    {
     "data": {
      "text/plain": [
       "75"
      ]
     },
     "execution_count": 4,
     "metadata": {},
     "output_type": "execute_result"
    }
   ],
   "source": [
    "len(gfp[0][0])"
   ]
  },
  {
   "cell_type": "markdown",
   "id": "ce3c656b",
   "metadata": {},
   "source": [
    "Define 2 functions for future use."
   ]
  },
  {
   "cell_type": "code",
   "execution_count": 5,
   "id": "2baf5479",
   "metadata": {},
   "outputs": [],
   "source": [
    "def bp2bi(sq):\n",
    "    '''base pairs to binary data'''\n",
    "    l = []\n",
    "    for bp in sq:\n",
    "        if bp == 'A':\n",
    "            l += [1,0,0,0]\n",
    "        elif bp == 'C':\n",
    "            l += [0,1,0,0]\n",
    "        elif bp == 'G':\n",
    "            l += [0,0,1,0]\n",
    "        elif bp == 'T':\n",
    "            l += [0,0,0,1]\n",
    "        else:\n",
    "            print('Error: please ensure only ACGT nucliotides contained.')\n",
    "            return\n",
    "    return l"
   ]
  },
  {
   "cell_type": "code",
   "execution_count": 6,
   "id": "a364865a",
   "metadata": {},
   "outputs": [],
   "source": [
    "def gfp2data(gfp,bin_min,bin_max,pt_min,pt_max):\n",
    "    '''gfp to data in the standard form: feature values + label value'''\n",
    "    data = []\n",
    "    for k in range(bin_min,bin_max+1):\n",
    "        for sq in gfp[k]:\n",
    "            l = bp2bi(sq[pt_min:pt_max+1]) if pt_max != -1 else bp2bi(sq[pt_min:])\n",
    "            l.append(k)\n",
    "            data.append(l)\n",
    "    return data"
   ]
  },
  {
   "cell_type": "markdown",
   "id": "e4a83f34",
   "metadata": {},
   "source": [
    "Import numpy package."
   ]
  },
  {
   "cell_type": "code",
   "execution_count": 7,
   "id": "9a8f38a1",
   "metadata": {},
   "outputs": [],
   "source": [
    "import numpy as np\n",
    "np.random.seed(114514)"
   ]
  },
  {
   "cell_type": "markdown",
   "id": "cb4b8bf7",
   "metadata": {},
   "source": [
    "Generate standard-form data, basically feature values + label (target) value."
   ]
  },
  {
   "cell_type": "code",
   "execution_count": 8,
   "id": "d1b79dbf",
   "metadata": {},
   "outputs": [],
   "source": [
    "data = gfp2data(gfp,1,9,-74,-49) # CRP binding sites: [-74:-49]\n",
    "data = np.array(data,np.float32)"
   ]
  },
  {
   "cell_type": "code",
   "execution_count": 9,
   "id": "a4674754",
   "metadata": {},
   "outputs": [],
   "source": [
    "data1 = gfp2data(gfp,1,9,-41,-1) # RNAP binding sites: [-41:-1]\n",
    "data1 = np.array(data1,np.float32)"
   ]
  },
  {
   "cell_type": "markdown",
   "id": "d50c2e01",
   "metadata": {},
   "source": [
    "Check the data we obtain."
   ]
  },
  {
   "cell_type": "code",
   "execution_count": 10,
   "id": "1ce708cb",
   "metadata": {},
   "outputs": [],
   "source": [
    "M, N = data.shape"
   ]
  },
  {
   "cell_type": "code",
   "execution_count": 11,
   "id": "1c1d0d75",
   "metadata": {},
   "outputs": [
    {
     "data": {
      "text/plain": [
       "(46054, 105)"
      ]
     },
     "execution_count": 11,
     "metadata": {},
     "output_type": "execute_result"
    }
   ],
   "source": [
    "M, N"
   ]
  },
  {
   "cell_type": "code",
   "execution_count": 12,
   "id": "da1c7cc7",
   "metadata": {},
   "outputs": [],
   "source": [
    "M1, N1 = data1.shape"
   ]
  },
  {
   "cell_type": "code",
   "execution_count": 13,
   "id": "235e08f5",
   "metadata": {},
   "outputs": [
    {
     "data": {
      "text/plain": [
       "(46054, 165)"
      ]
     },
     "execution_count": 13,
     "metadata": {},
     "output_type": "execute_result"
    }
   ],
   "source": [
    "M1, N1"
   ]
  },
  {
   "cell_type": "code",
   "execution_count": 14,
   "id": "355cb260",
   "metadata": {},
   "outputs": [],
   "source": [
    "data_comb = np.hstack((data[:,:-1],data1))"
   ]
  },
  {
   "cell_type": "code",
   "execution_count": 15,
   "id": "45c665c3",
   "metadata": {},
   "outputs": [],
   "source": [
    "M_comb, N_comb = data_comb.shape"
   ]
  },
  {
   "cell_type": "code",
   "execution_count": 16,
   "id": "2f58d6ac",
   "metadata": {},
   "outputs": [
    {
     "data": {
      "text/plain": [
       "(46054, 269)"
      ]
     },
     "execution_count": 16,
     "metadata": {},
     "output_type": "execute_result"
    }
   ],
   "source": [
    "M_comb, N_comb"
   ]
  },
  {
   "cell_type": "markdown",
   "id": "2839cdb6",
   "metadata": {},
   "source": [
    "Import packages for machine learning model:"
   ]
  },
  {
   "cell_type": "code",
   "execution_count": 17,
   "id": "384add45",
   "metadata": {},
   "outputs": [],
   "source": [
    "from __future__ import division\n",
    "import torch\n",
    "torch.manual_seed(1919810)\n",
    "import sys\n",
    "sys.path.append('code')\n",
    "import mltools as ml # make sure this is installed or already in the directory\n",
    "import matplotlib.pyplot as plt   # use matplotlib for plotting with inline plots"
   ]
  },
  {
   "cell_type": "code",
   "execution_count": 18,
   "id": "a0a874c7",
   "metadata": {},
   "outputs": [],
   "source": [
    "X, Y = data_comb[:,:-1], data_comb[:,-1]   # get features & target\n",
    "X, Y = ml.shuffleData(X,Y)       # reorder randomly rather than by class label"
   ]
  },
  {
   "cell_type": "markdown",
   "id": "3835b1e6",
   "metadata": {},
   "source": [
    "Usually we can rescale to improve numerical stability, speed convergence. But in this context, we have to keep minimal model in order to reserve its physical meaning, i.e., explanable from the first principle."
   ]
  },
  {
   "cell_type": "code",
   "execution_count": 19,
   "id": "a9227ce2",
   "metadata": {},
   "outputs": [],
   "source": [
    "# X,_  = ml.transforms.rescale(X)"
   ]
  },
  {
   "cell_type": "markdown",
   "id": "c9a544ba",
   "metadata": {},
   "source": [
    "We only use batches 1-4 and 6-9 (without 5) for our initial test, and make binary labels."
   ]
  },
  {
   "cell_type": "code",
   "execution_count": 20,
   "id": "2e539b31",
   "metadata": {},
   "outputs": [],
   "source": [
    "XA, YA = X[Y!=5,:], Y[Y!=5]\n",
    "YA = np.heaviside(YA-5,-1)"
   ]
  },
  {
   "cell_type": "code",
   "execution_count": 21,
   "id": "6802f5bb",
   "metadata": {},
   "outputs": [],
   "source": [
    "class logisticClassify(ml.classifier):     # trivial shell class to contain whatever we want\n",
    "    def predict(self,X): pass               # we will replace the shell later as we extend the class\n",
    "    def train(self,X): pass"
   ]
  },
  {
   "cell_type": "code",
   "execution_count": 22,
   "id": "c4cde19b",
   "metadata": {},
   "outputs": [],
   "source": [
    "def myPredict(self,X):\n",
    "    '''Predict model on data X; return nparray of class predictions'''\n",
    "    \n",
    "    N1 = 104 # length of CRP binding sites\n",
    "    \n",
    "    X1 = X[:,:N1] # X1 is a CRP sequence\n",
    "    X2 = X[:,N1:] # X2 is a RNAP sequence\n",
    "    \n",
    "    R = 1.98e-3 # gas const\n",
    "    T = 310 # temperature at which cells were induced\n",
    "    RT = R*T\n",
    "    \n",
    "    # import given energy matrix info\n",
    "    pickle_in = open(\"data/theta230719crp.pkl\",\"rb\")\n",
    "    theta_crp = pickle.load(pickle_in)\n",
    "    pickle_in = open(\"data/theta230719rnap.pkl\",\"rb\")\n",
    "    theta_rnap = pickle.load(pickle_in)\n",
    "    _,theta_crp = energy_matrix(theta_crp[1:])\n",
    "    _,theta_rnap = energy_matrix(theta_rnap[1:])\n",
    "\n",
    "    eps_c = self.theta[4]*torch.from_numpy(X1 @ theta_crp) + self.theta[5]; # CRP binding energy\n",
    "    eps_r = self.theta[6]*torch.from_numpy(X2 @ theta_rnap) + self.theta[7]; # RNAP binding energy\n",
    "    wi = self.theta[2]*(torch.exp(-eps_r/RT)+self.theta[1]*torch.exp(-(eps_c+eps_r+self.theta[3])/RT))\n",
    "    ri = wi/(1+self.theta[1]*torch.exp(-eps_c/RT)+wi)-self.theta[0]\n",
    "\n",
    "    Y01 = 1*(ri>0)                   # binary classification threshold; convert to integers\n",
    "    Y = self.classes[Y01]           # use lookup to convert back to class values if given\n",
    "    return Y                        # NOTE: returns as numpy, not torch! (b/c classes is a nparray)\n",
    "                                    # (This is necessary for mltools plot to work)"
   ]
  },
  {
   "cell_type": "code",
   "execution_count": 23,
   "id": "a80fd3a4",
   "metadata": {},
   "outputs": [],
   "source": [
    "# Create a shell classifier\n",
    "class logisticClassify(ml.classifier):\n",
    "    predict = myPredict              #\n",
    "    train = None                     # this function will be implemented later"
   ]
  },
  {
   "cell_type": "code",
   "execution_count": 24,
   "id": "75ca4676",
   "metadata": {},
   "outputs": [],
   "source": [
    "def energy_matrix(theta_raw):\n",
    "    '''generate energy matrix and the normalized energy vector'''\n",
    "    '''input theta_raw has NO intercept term (pure energy vector with no shifting term)'''\n",
    "    n = int((theta_raw.shape[0])/4)\n",
    "    theta = - np.transpose(np.reshape(theta_raw,(n,4)))\n",
    "    for i in range(n):\n",
    "        theta[:,i] -= min(theta[:,i])\n",
    "    theta = theta/theta.max()\n",
    "    theta_long = np.reshape(np.transpose(theta),theta_raw.shape)\n",
    "    return theta, theta_long"
   ]
  },
  {
   "cell_type": "code",
   "execution_count": 29,
   "id": "029454e1",
   "metadata": {},
   "outputs": [],
   "source": [
    "from IPython import display\n",
    "\n",
    "def myTrain(self,X,Y,initStep=1.,stopTol=1e-4,stopEpochs=5000,alpha=0,plot=None):\n",
    "    \"\"\" Train the logistic regression using stochastic gradient descent \"\"\"\n",
    "    \n",
    "    M,N = X.shape;                     # initialize the model if necessary:\n",
    "    N1 = 104 # length of CRP binding sites\n",
    "    # N2 = N-N1;\n",
    "    X1 = X[:,:N1] # X1 is a CRP sequence\n",
    "    X2 = X[:,N1:] # X2 is a RNAP sequence\n",
    "    self.classes = np.unique(Y);       # Y may have two classes, any values\n",
    "    Y01 = ml.toIndex(Y,self.classes);  # Y01 is Y, but with canonical values 0 or 1\n",
    "    \n",
    "    R = 1.98e-3 # gas const\n",
    "    T = 310 # temperature at which cells were induced\n",
    "    RT = R*T\n",
    "    \n",
    "    N_theta = 8 # the number of unknown parameters\n",
    "    # if the shape of initial theta is wrong, randomly generate a correct one\n",
    "    if len(self.theta)!=N_theta: self.theta=torch.randn((N_theta,1),requires_grad = True);\n",
    "        \n",
    "    # import given energy matrix info\n",
    "    pickle_in = open(\"data/theta230719crp.pkl\",\"rb\")\n",
    "    theta_crp = pickle.load(pickle_in)\n",
    "    pickle_in = open(\"data/theta230719rnap.pkl\",\"rb\")\n",
    "    theta_rnap = pickle.load(pickle_in)\n",
    "    _,theta_crp = energy_matrix(theta_crp[1:])\n",
    "    _,theta_rnap = energy_matrix(theta_rnap[1:])\n",
    "    \n",
    "        \n",
    "    # init loop variables:\n",
    "    epoch=0; done=False; Jnll=[]; J01=[];            # initialize loop variables\n",
    "    myrate = lambda epoch: initStep*2.0/(2.0+epoch)  # step size as a f'n of epoch\n",
    "    \n",
    "    opt = torch.optim.SGD([self.theta], initStep)\n",
    "    sched = torch.optim.lr_scheduler.LambdaLR(opt, myrate)\n",
    "    \n",
    "    \n",
    "    while not done:\n",
    "        # Do an SGD pass through the entire data set:\n",
    "        Jnll.append(0.)\n",
    "        for i in np.random.permutation(M):\n",
    "            # Compute predictions and loss for *just* data X[i]:\n",
    "            # Note: @ operation requires Python 3.5+\n",
    "            eps_c = self.theta[4]*float(X1[i] @ theta_crp) + self.theta[5]; # CRP binding energy\n",
    "            eps_r = self.theta[6]*float(X2[i] @ theta_rnap) + self.theta[7]; # RNAP binding energy\n",
    "            wi = self.theta[2]*(torch.exp(-eps_r/RT)+self.theta[1]*torch.exp(-(eps_c+eps_r+self.theta[3])/RT))\n",
    "            ri = wi/(1+self.theta[1]*torch.exp(-eps_c/RT)+wi)-self.theta[0]\n",
    "            si = 1/(1+torch.exp(-ri)); # logistic (probability) prediction of the class\n",
    "            Ji_pre = -Y01[i]*torch.log(si)-(1-Y01[i])*torch.log(1-si); # torch.Tensor shape [] (scalar)\n",
    "            \n",
    "            # add penalty to constrain the range of parameters\n",
    "            Ji0 = Ji_pre + torch.maximum( self.theta[0]*(self.theta[0]-1), 0*self.theta[0]); \n",
    "            Ji1 = Ji0 + torch.maximum( self.theta[1]*(self.theta[1]-1), 0*self.theta[1]);\n",
    "            Ji = Ji1 + torch.maximum( self.theta[2]*(self.theta[2]-1), 0*self.theta[2]);\n",
    "            \n",
    "            Jnll[-1] += float(Ji)/M             # find running average of surrogate loss\n",
    "            opt.zero_grad()                     # Ji should be a torch.tensor of shape []\n",
    "            Ji.backward()\n",
    "            opt.step()\n",
    "        sched.step()        \n",
    "\n",
    "        epoch += 1\n",
    "\n",
    "        J01.append( self.err(X,Y) )  # evaluate the current actual error rate \n",
    "\n",
    "        display.clear_output(wait=True); plt.figure(figsize=(15,5));\n",
    "        plt.subplot(1,2,1); \n",
    "        plt.cla(); plt.plot(Jnll,'b-'); plt.xlabel('epoch'); plt.ylabel('surrogate loss');    # plot losses\n",
    "        plt.subplot(1,2,2); \n",
    "        plt.cla(); plt.plot(J01,'r-'); plt.xlabel('epoch'); plt.ylabel('error rate');    # plot error rate\n",
    "        plt.show(); plt.pause(.001);                    # let OS draw the plot\n",
    "\n",
    "        ## For debugging: you may want to print current parameters & losses\n",
    "        # print(self.theta, ' => ', Jnll, ' / ', J01[-1] )\n",
    "        # input()   # pause for keystroke\n",
    "\n",
    "        # check stopping criteria: exit if exceeded # of epochs ( > stopEpochs)\n",
    "        done = epoch > stopEpochs or abs(Jnll[-1]) < stopTol;   # or if Jnll not changing between epochs ( < stopTol )\n"
   ]
  },
  {
   "cell_type": "code",
   "execution_count": 30,
   "id": "8d2d6009",
   "metadata": {},
   "outputs": [],
   "source": [
    "N_theta = 8 # the number of unknown parameters"
   ]
  },
  {
   "cell_type": "code",
   "execution_count": 31,
   "id": "ef90bc88",
   "metadata": {},
   "outputs": [],
   "source": [
    "theta_ini = np.array([0.5,0.1,0.5,-3,2.5,-7,2.5,-8]).reshape(N_theta,1) + 0.1*np.random.randn(N_theta,1)"
   ]
  },
  {
   "cell_type": "code",
   "execution_count": 32,
   "id": "f6e47618",
   "metadata": {},
   "outputs": [
    {
     "data": {
      "image/png": "[encoded data removed]",
      "text/plain": [
       "<Figure size 1500x500 with 2 Axes>"
      ]
     },
     "metadata": {},
     "output_type": "display_data"
    },
    {
     "ename": "KeyboardInterrupt",
     "evalue": "",
     "output_type": "error",
     "traceback": [
      "\u001b[0;31m---------------------------------------------------------------------------\u001b[0m",
      "\u001b[0;31mKeyboardInterrupt\u001b[0m                         Traceback (most recent call last)",
      "Cell \u001b[0;32mIn[32], line 9\u001b[0m\n\u001b[1;32m      7\u001b[0m learnerA\u001b[38;5;241m.\u001b[39mclasses \u001b[38;5;241m=\u001b[39m np\u001b[38;5;241m.\u001b[39munique(YA)\n\u001b[1;32m      8\u001b[0m learnerA\u001b[38;5;241m.\u001b[39mtheta \u001b[38;5;241m=\u001b[39m torch\u001b[38;5;241m.\u001b[39mtensor(theta_ini,requires_grad \u001b[38;5;241m=\u001b[39m \u001b[38;5;28;01mTrue\u001b[39;00m,dtype\u001b[38;5;241m=\u001b[39mtorch\u001b[38;5;241m.\u001b[39mfloat32) \u001b[38;5;66;03m# TODO\u001b[39;00m\n\u001b[0;32m----> 9\u001b[0m learnerA\u001b[38;5;241m.\u001b[39mtrain(XA,YA,initStep\u001b[38;5;241m=\u001b[39m\u001b[38;5;241m1e-1\u001b[39m,stopEpochs\u001b[38;5;241m=\u001b[39m\u001b[38;5;241m500\u001b[39m,stopTol\u001b[38;5;241m=\u001b[39m\u001b[38;5;241m1e-5\u001b[39m)\n",
      "Cell \u001b[0;32mIn[29], line 59\u001b[0m, in \u001b[0;36mmyTrain\u001b[0;34m(self, X, Y, initStep, stopTol, stopEpochs, alpha, plot)\u001b[0m\n\u001b[1;32m     57\u001b[0m     Jnll[\u001b[38;5;241m-\u001b[39m\u001b[38;5;241m1\u001b[39m] \u001b[38;5;241m+\u001b[39m\u001b[38;5;241m=\u001b[39m \u001b[38;5;28mfloat\u001b[39m(Ji)\u001b[38;5;241m/\u001b[39mM             \u001b[38;5;66;03m# find running average of surrogate loss\u001b[39;00m\n\u001b[1;32m     58\u001b[0m     opt\u001b[38;5;241m.\u001b[39mzero_grad()                     \u001b[38;5;66;03m# Ji should be a torch.tensor of shape []\u001b[39;00m\n\u001b[0;32m---> 59\u001b[0m     Ji\u001b[38;5;241m.\u001b[39mbackward()\n\u001b[1;32m     60\u001b[0m     opt\u001b[38;5;241m.\u001b[39mstep()\n\u001b[1;32m     61\u001b[0m sched\u001b[38;5;241m.\u001b[39mstep()        \n",
      "File \u001b[0;32m~/anaconda3/lib/python3.11/site-packages/torch/_tensor.py:487\u001b[0m, in \u001b[0;36mTensor.backward\u001b[0;34m(self, gradient, retain_graph, create_graph, inputs)\u001b[0m\n\u001b[1;32m    477\u001b[0m \u001b[38;5;28;01mif\u001b[39;00m has_torch_function_unary(\u001b[38;5;28mself\u001b[39m):\n\u001b[1;32m    478\u001b[0m     \u001b[38;5;28;01mreturn\u001b[39;00m handle_torch_function(\n\u001b[1;32m    479\u001b[0m         Tensor\u001b[38;5;241m.\u001b[39mbackward,\n\u001b[1;32m    480\u001b[0m         (\u001b[38;5;28mself\u001b[39m,),\n\u001b[0;32m   (...)\u001b[0m\n\u001b[1;32m    485\u001b[0m         inputs\u001b[38;5;241m=\u001b[39minputs,\n\u001b[1;32m    486\u001b[0m     )\n\u001b[0;32m--> 487\u001b[0m torch\u001b[38;5;241m.\u001b[39mautograd\u001b[38;5;241m.\u001b[39mbackward(\n\u001b[1;32m    488\u001b[0m     \u001b[38;5;28mself\u001b[39m, gradient, retain_graph, create_graph, inputs\u001b[38;5;241m=\u001b[39minputs\n\u001b[1;32m    489\u001b[0m )\n",
      "File \u001b[0;32m~/anaconda3/lib/python3.11/site-packages/torch/autograd/__init__.py:200\u001b[0m, in \u001b[0;36mbackward\u001b[0;34m(tensors, grad_tensors, retain_graph, create_graph, grad_variables, inputs)\u001b[0m\n\u001b[1;32m    195\u001b[0m     retain_graph \u001b[38;5;241m=\u001b[39m create_graph\n\u001b[1;32m    197\u001b[0m \u001b[38;5;66;03m# The reason we repeat same the comment below is that\u001b[39;00m\n\u001b[1;32m    198\u001b[0m \u001b[38;5;66;03m# some Python versions print out the first line of a multi-line function\u001b[39;00m\n\u001b[1;32m    199\u001b[0m \u001b[38;5;66;03m# calls in the traceback and some print out the last line\u001b[39;00m\n\u001b[0;32m--> 200\u001b[0m Variable\u001b[38;5;241m.\u001b[39m_execution_engine\u001b[38;5;241m.\u001b[39mrun_backward(  \u001b[38;5;66;03m# Calls into the C++ engine to run the backward pass\u001b[39;00m\n\u001b[1;32m    201\u001b[0m     tensors, grad_tensors_, retain_graph, create_graph, inputs,\n\u001b[1;32m    202\u001b[0m     allow_unreachable\u001b[38;5;241m=\u001b[39m\u001b[38;5;28;01mTrue\u001b[39;00m, accumulate_grad\u001b[38;5;241m=\u001b[39m\u001b[38;5;28;01mTrue\u001b[39;00m)\n",
      "\u001b[0;31mKeyboardInterrupt\u001b[0m: "
     ]
    }
   ],
   "source": [
    "# Update our shell classifier definition\n",
    "class logisticClassify(ml.classifier):\n",
    "    predict = myPredict              # Now all parts are implemented\n",
    "    train = myTrain\n",
    "\n",
    "learnerA = logisticClassify()\n",
    "learnerA.classes = np.unique(YA)\n",
    "learnerA.theta = torch.tensor(theta_ini,requires_grad = True,dtype=torch.float32) # TODO\n",
    "learnerA.train(XA,YA,initStep=1e-1,stopEpochs=500,stopTol=1e-5);"
   ]
  },
  {
   "cell_type": "markdown",
   "id": "e712dd07",
   "metadata": {},
   "source": [
    "Change back into numpy format for visualization and analysis, and save it if necessary."
   ]
  },
  {
   "cell_type": "code",
   "execution_count": 33,
   "id": "ca371c82",
   "metadata": {},
   "outputs": [],
   "source": [
    "theta_np = learnerA.theta.detach().numpy()\n",
    "\n",
    "# pickle_out = open(\"type_your_variable_name_here.pkl\",\"wb\")\n",
    "# pickle.dump(theta_np, pickle_out)\n",
    "# pickle_out.close()"
   ]
  },
  {
   "cell_type": "code",
   "execution_count": 34,
   "id": "612e6645",
   "metadata": {},
   "outputs": [
    {
     "data": {
      "text/plain": [
       "array([[  0.47107774],\n",
       "       [  0.5595263 ],\n",
       "       [  0.9991689 ],\n",
       "       [ -7.3622475 ],\n",
       "       [  2.2728112 ],\n",
       "       [ -7.037901  ],\n",
       "       [  3.9003634 ],\n",
       "       [-14.127289  ]], dtype=float32)"
      ]
     },
     "execution_count": 34,
     "metadata": {},
     "output_type": "execute_result"
    }
   ],
   "source": [
    "theta_np"
   ]
  },
  {
   "cell_type": "code",
   "execution_count": 230,
   "id": "46adb740",
   "metadata": {},
   "outputs": [],
   "source": [
    "pickle_out = open(\"theta230723.pkl\",\"wb\")\n",
    "pickle.dump(theta_np, pickle_out)\n",
    "pickle_out.close()"
   ]
  },
  {
   "cell_type": "markdown",
   "id": "94aa3dd4",
   "metadata": {},
   "source": [
    "Reshape it into the form of energy matrix, adjust sign. The sign was reversed because we correlate the higher energy value to the higher fluorescence level, while the highest fluorescence level should actually be from wild-type, which has the lowest binding energy, hence the relation should be reversed back."
   ]
  },
  {
   "cell_type": "code",
   "execution_count": 21,
   "id": "520d0138",
   "metadata": {},
   "outputs": [],
   "source": [
    "n = int((N-1)/4)"
   ]
  },
  {
   "cell_type": "code",
   "execution_count": 22,
   "id": "4c6dc4cf",
   "metadata": {},
   "outputs": [],
   "source": [
    "theta = - np.transpose(np.reshape(theta_np[1:],(n,4)))"
   ]
  },
  {
   "cell_type": "markdown",
   "id": "6617fea4",
   "metadata": {},
   "source": [
    "Energy shift."
   ]
  },
  {
   "cell_type": "code",
   "execution_count": 23,
   "id": "ce28f49f",
   "metadata": {},
   "outputs": [],
   "source": [
    "for i in range(n):\n",
    "    theta[:,i] -= min(theta[:,i])"
   ]
  },
  {
   "cell_type": "markdown",
   "id": "153203dd",
   "metadata": {},
   "source": [
    "For arbitrary unit (non-dimensional)."
   ]
  },
  {
   "cell_type": "code",
   "execution_count": 24,
   "id": "3b57bc51",
   "metadata": {},
   "outputs": [],
   "source": [
    "theta = theta/theta.max()"
   ]
  },
  {
   "cell_type": "markdown",
   "id": "b3fa24c7",
   "metadata": {},
   "source": [
    "Plot the energy matrix:"
   ]
  },
  {
   "cell_type": "code",
   "execution_count": 27,
   "id": "68a99d4f",
   "metadata": {},
   "outputs": [
    {
     "data": {
      "image/png": "[encoded data removed]",
      "text/plain": [
       "<Figure size 1280x196.923 with 2 Axes>"
      ]
     },
     "metadata": {},
     "output_type": "display_data"
    }
   ],
   "source": [
    "plt.matshow(theta)\n",
    "plt.colorbar(label='arbitrary unit')\n",
    "plt.style.use('classic')\n",
    "plt.show()"
   ]
  },
  {
   "cell_type": "markdown",
   "id": "1e6c37c8",
   "metadata": {},
   "source": [
    "Now we turn to RNAP."
   ]
  },
  {
   "cell_type": "code",
   "execution_count": 28,
   "id": "59192107",
   "metadata": {},
   "outputs": [],
   "source": [
    "data1 = gfp2data(gfp,1,9,-41,-1) # RNAP binding sites: [-41:-1]\n",
    "data1 = np.array(data1,np.float32)"
   ]
  },
  {
   "cell_type": "markdown",
   "id": "351acd81",
   "metadata": {},
   "source": [
    "Check the data shape."
   ]
  },
  {
   "cell_type": "code",
   "execution_count": 29,
   "id": "b17c7f3a",
   "metadata": {},
   "outputs": [],
   "source": [
    "M1, N1 = data1.shape"
   ]
  },
  {
   "cell_type": "code",
   "execution_count": 30,
   "id": "b3274b88",
   "metadata": {},
   "outputs": [
    {
     "data": {
      "text/plain": [
       "(46054, 165)"
      ]
     },
     "execution_count": 30,
     "metadata": {},
     "output_type": "execute_result"
    }
   ],
   "source": [
    "M1, N1"
   ]
  },
  {
   "cell_type": "markdown",
   "id": "f54791ba",
   "metadata": {},
   "source": [
    "Now we literally just need to repeat everything analogously."
   ]
  },
  {
   "cell_type": "code",
   "execution_count": 31,
   "id": "c1173f2e",
   "metadata": {},
   "outputs": [],
   "source": [
    "X1, Y1 = data1[:,:-1], data1[:,-1]   # get features & target\n",
    "X1, Y1 = ml.shuffleData(X1,Y1)       # reorder randomly rather than by class label"
   ]
  },
  {
   "cell_type": "code",
   "execution_count": 32,
   "id": "3324ce5d",
   "metadata": {},
   "outputs": [],
   "source": [
    "XB, YB = X1[Y1!=5,:], Y1[Y1!=5]\n",
    "YB = np.heaviside(YB-5,-1)"
   ]
  },
  {
   "cell_type": "code",
   "execution_count": 33,
   "id": "9f6555bb",
   "metadata": {},
   "outputs": [
    {
     "data": {
      "image/png": "[encoded data removed]",
      "text/plain": [
       "<Figure size 1200x400 with 2 Axes>"
      ]
     },
     "metadata": {},
     "output_type": "display_data"
    }
   ],
   "source": [
    "learnerB = logisticClassify()\n",
    "learnerB.classes = np.unique(YB)\n",
    "learnerB.theta = 0.5+0.2*torch.randn((N1+1,1),requires_grad = True) # or deterministic: torch.tensor([.5]*N1,requires_grad = True);\n",
    "learnerB.train(XB,YB,initStep=1e-1,stopEpochs=500,stopTol=1e-5);"
   ]
  },
  {
   "cell_type": "code",
   "execution_count": 34,
   "id": "417f809e",
   "metadata": {},
   "outputs": [],
   "source": [
    "theta1_np = learnerB.theta.detach().numpy()\n",
    "\n",
    "# pickle_out = open(\"type_your_variable_name_here.pkl\",\"wb\")\n",
    "# pickle.dump(theta1_np, pickle_out)\n",
    "# pickle_out.close()"
   ]
  },
  {
   "cell_type": "code",
   "execution_count": 35,
   "id": "fb9c7457",
   "metadata": {},
   "outputs": [
    {
     "data": {
      "text/plain": [
       "(165, 1)"
      ]
     },
     "execution_count": 35,
     "metadata": {},
     "output_type": "execute_result"
    }
   ],
   "source": [
    "theta1_np.shape"
   ]
  },
  {
   "cell_type": "code",
   "execution_count": 36,
   "id": "09f1e131",
   "metadata": {},
   "outputs": [],
   "source": [
    "n1 = int((N1-1)/4)"
   ]
  },
  {
   "cell_type": "code",
   "execution_count": 37,
   "id": "366bd552",
   "metadata": {},
   "outputs": [],
   "source": [
    "theta1 = - np.transpose(np.reshape(theta1_np[1:],(n1,4)))"
   ]
  },
  {
   "cell_type": "code",
   "execution_count": 38,
   "id": "21354747",
   "metadata": {},
   "outputs": [],
   "source": [
    "for i in range(n1):\n",
    "    theta1[:,i] -= min(theta1[:,i])"
   ]
  },
  {
   "cell_type": "code",
   "execution_count": 39,
   "id": "2523ddf9",
   "metadata": {},
   "outputs": [],
   "source": [
    "theta1 = theta1/theta1.max()"
   ]
  },
  {
   "cell_type": "code",
   "execution_count": 40,
   "id": "736694fb",
   "metadata": {},
   "outputs": [
    {
     "data": {
      "image/png": "[encoded data removed]",
      "text/plain": [
       "<Figure size 1280x160 with 2 Axes>"
      ]
     },
     "metadata": {},
     "output_type": "display_data"
    }
   ],
   "source": [
    "plt.matshow(theta1)\n",
    "plt.colorbar(label='arbitrary unit')\n",
    "plt.style.use('classic')\n",
    "plt.show()"
   ]
  },
  {
   "cell_type": "code",
   "execution_count": null,
   "id": "095b4174",
   "metadata": {},
   "outputs": [],
   "source": []
  },
  {
   "cell_type": "code",
   "execution_count": null,
   "id": "b9cc3e51",
   "metadata": {},
   "outputs": [],
   "source": []
  },
  {
   "cell_type": "code",
   "execution_count": 105,
   "id": "ccf991e6",
   "metadata": {},
   "outputs": [],
   "source": [
    "def energy_matrix(theta_raw):\n",
    "    '''generate energy matrix and the normalized energy vector'''\n",
    "    '''input theta_raw has NO intercept term (pure energy vector with no shifting term)'''\n",
    "    n = int((theta_raw.shape[0])/4)\n",
    "    theta = - np.transpose(np.reshape(theta_raw,(n,4)))\n",
    "    for i in range(n):\n",
    "        theta[:,i] -= min(theta[:,i])\n",
    "    theta = theta/theta.max()\n",
    "    theta_long = np.reshape(np.transpose(theta),theta_raw.shape)\n",
    "    return theta, theta_long"
   ]
  },
  {
   "cell_type": "code",
   "execution_count": null,
   "id": "bc755cee",
   "metadata": {},
   "outputs": [],
   "source": []
  },
  {
   "cell_type": "code",
   "execution_count": null,
   "id": "384d2d3a",
   "metadata": {},
   "outputs": [],
   "source": []
  },
  {
   "cell_type": "code",
   "execution_count": 68,
   "id": "cb3fe6d2",
   "metadata": {},
   "outputs": [],
   "source": [
    "pickle_in = open(\"data/theta230719crp.pkl\",\"rb\")\n",
    "theta_crp = pickle.load(pickle_in)"
   ]
  },
  {
   "cell_type": "code",
   "execution_count": 69,
   "id": "422f25b1",
   "metadata": {},
   "outputs": [],
   "source": [
    "pickle_in = open(\"data/theta230719rnap.pkl\",\"rb\")\n",
    "theta_rnap = pickle.load(pickle_in)"
   ]
  },
  {
   "cell_type": "code",
   "execution_count": 97,
   "id": "81d7d792",
   "metadata": {},
   "outputs": [
    {
     "data": {
      "text/plain": [
       "105"
      ]
     },
     "execution_count": 97,
     "metadata": {},
     "output_type": "execute_result"
    }
   ],
   "source": [
    "theta_crp.shape[0]"
   ]
  },
  {
   "cell_type": "code",
   "execution_count": 71,
   "id": "765f2f42",
   "metadata": {},
   "outputs": [
    {
     "data": {
      "text/plain": [
       "(165, 1)"
      ]
     },
     "execution_count": 71,
     "metadata": {},
     "output_type": "execute_result"
    }
   ],
   "source": [
    "theta_rnap.shape"
   ]
  },
  {
   "cell_type": "code",
   "execution_count": 73,
   "id": "5867f6d5",
   "metadata": {},
   "outputs": [
    {
     "data": {
      "text/plain": [
       "array([1.7333566], dtype=float32)"
      ]
     },
     "execution_count": 73,
     "metadata": {},
     "output_type": "execute_result"
    }
   ],
   "source": [
    "theta_crp[0]"
   ]
  },
  {
   "cell_type": "code",
   "execution_count": 74,
   "id": "3889142e",
   "metadata": {},
   "outputs": [
    {
     "data": {
      "text/plain": [
       "array([-0.51824063], dtype=float32)"
      ]
     },
     "execution_count": 74,
     "metadata": {},
     "output_type": "execute_result"
    }
   ],
   "source": [
    "theta_rnap[0]"
   ]
  },
  {
   "cell_type": "code",
   "execution_count": 93,
   "id": "0bb9eb24",
   "metadata": {},
   "outputs": [],
   "source": [
    "theta = -np.transpose(np.reshape(theta_rnap[1:],(41,4)))"
   ]
  },
  {
   "cell_type": "code",
   "execution_count": 106,
   "id": "6d0a56b7",
   "metadata": {},
   "outputs": [],
   "source": [
    "theta, theta_test = energy_matrix(theta_rnap[1:])"
   ]
  },
  {
   "cell_type": "code",
   "execution_count": 102,
   "id": "3203ce92",
   "metadata": {},
   "outputs": [
    {
     "data": {
      "text/plain": [
       "array([[-5.1824063e-01],\n",
       "       [ 1.2297483e-01],\n",
       "       [ 0.0000000e+00],\n",
       "       [ 2.9170918e-01],\n",
       "       [ 1.2523459e-01],\n",
       "       [ 6.0826188e-01],\n",
       "       [ 1.1674762e-01],\n",
       "       [ 7.1606702e-01],\n",
       "       [ 0.0000000e+00],\n",
       "       [ 1.1748642e-02],\n",
       "       [ 2.5105208e-02],\n",
       "       [ 0.0000000e+00],\n",
       "       [ 4.4474176e-01],\n",
       "       [ 3.1414264e-01],\n",
       "       [ 4.3677866e-02],\n",
       "       [ 3.0635828e-01],\n",
       "       [ 0.0000000e+00],\n",
       "       [ 6.1434799e-01],\n",
       "       [ 1.3473666e+00],\n",
       "       [ 1.6559201e+00],\n",
       "       [ 0.0000000e+00],\n",
       "       [ 7.0926487e-02],\n",
       "       [ 0.0000000e+00],\n",
       "       [ 1.7844631e-01],\n",
       "       [ 1.9225303e+00],\n",
       "       [ 1.3039360e+00],\n",
       "       [ 0.0000000e+00],\n",
       "       [ 1.2536875e+00],\n",
       "       [ 2.1101794e+00],\n",
       "       [ 0.0000000e+00],\n",
       "       [ 3.0122447e-01],\n",
       "       [ 3.4547641e+00],\n",
       "       [ 2.2049437e+00],\n",
       "       [ 1.5889730e+00],\n",
       "       [ 0.0000000e+00],\n",
       "       [ 9.2317486e-01],\n",
       "       [ 1.6389108e-01],\n",
       "       [ 5.9852040e-01],\n",
       "       [ 2.2850537e+00],\n",
       "       [ 0.0000000e+00],\n",
       "       [ 1.8457105e+00],\n",
       "       [ 9.8106188e-01],\n",
       "       [ 0.0000000e+00],\n",
       "       [ 1.3048473e-01],\n",
       "       [ 3.5963145e-01],\n",
       "       [ 6.5583265e-01],\n",
       "       [ 0.0000000e+00],\n",
       "       [ 1.9263953e-01],\n",
       "       [ 4.6708286e-01],\n",
       "       [ 1.4352828e-01],\n",
       "       [ 0.0000000e+00],\n",
       "       [ 5.6999695e-01],\n",
       "       [ 2.8784028e-01],\n",
       "       [ 3.6054888e-01],\n",
       "       [ 7.4483335e-02],\n",
       "       [ 3.3424419e-01],\n",
       "       [ 0.0000000e+00],\n",
       "       [ 0.0000000e+00],\n",
       "       [ 1.3497916e-01],\n",
       "       [ 1.7008114e-01],\n",
       "       [ 3.9568236e-01],\n",
       "       [ 6.7324781e-01],\n",
       "       [ 0.0000000e+00],\n",
       "       [ 3.9947426e-01],\n",
       "       [ 2.9906327e-01],\n",
       "       [ 2.4104089e-02],\n",
       "       [ 0.0000000e+00],\n",
       "       [ 1.3171622e-01],\n",
       "       [ 3.0297402e-01],\n",
       "       [ 1.1871493e+00],\n",
       "       [ 4.1123503e-01],\n",
       "       [ 4.8744923e-01],\n",
       "       [ 0.0000000e+00],\n",
       "       [ 3.1199735e-01],\n",
       "       [ 3.4625947e-01],\n",
       "       [ 3.9243835e-01],\n",
       "       [ 0.0000000e+00],\n",
       "       [ 0.0000000e+00],\n",
       "       [ 2.4521649e-02],\n",
       "       [ 5.0403416e-02],\n",
       "       [ 1.6333652e-01],\n",
       "       [ 1.6533631e-01],\n",
       "       [ 0.0000000e+00],\n",
       "       [ 1.1932850e-03],\n",
       "       [ 1.8391097e-01],\n",
       "       [ 3.2441062e-01],\n",
       "       [ 0.0000000e+00],\n",
       "       [ 1.0426694e-01],\n",
       "       [ 2.9991651e-01],\n",
       "       [ 1.6682062e-01],\n",
       "       [ 0.0000000e+00],\n",
       "       [ 1.3293630e-01],\n",
       "       [ 2.5349647e-01],\n",
       "       [ 2.7664831e-01],\n",
       "       [ 1.6626555e-01],\n",
       "       [ 0.0000000e+00],\n",
       "       [ 4.3905696e-01],\n",
       "       [ 2.2345126e-02],\n",
       "       [ 0.0000000e+00],\n",
       "       [ 7.8745365e-02],\n",
       "       [ 7.9642624e-01],\n",
       "       [ 1.3029388e+00],\n",
       "       [ 3.3345711e-01],\n",
       "       [ 8.9977163e-01],\n",
       "       [ 0.0000000e+00],\n",
       "       [ 2.1246809e-01],\n",
       "       [ 0.0000000e+00],\n",
       "       [ 7.2551250e-01],\n",
       "       [ 1.2145042e-02],\n",
       "       [ 1.0200932e+00],\n",
       "       [ 0.0000000e+00],\n",
       "       [ 1.9124663e+00],\n",
       "       [ 9.9598694e-01],\n",
       "       [ 4.8157968e-02],\n",
       "       [ 0.0000000e+00],\n",
       "       [ 4.9507174e-01],\n",
       "       [ 3.7873268e-01],\n",
       "       [ 1.3743646e+00],\n",
       "       [ 5.2223158e-01],\n",
       "       [ 0.0000000e+00],\n",
       "       [ 2.2804713e+00],\n",
       "       [ 2.7754612e+00],\n",
       "       [ 0.0000000e+00],\n",
       "       [ 7.8142762e-02],\n",
       "       [ 2.9135931e-01],\n",
       "       [ 5.3072333e-01],\n",
       "       [ 8.0375209e-02],\n",
       "       [ 0.0000000e+00],\n",
       "       [ 9.9772358e-01],\n",
       "       [ 1.5843705e+00],\n",
       "       [ 2.8150600e-01],\n",
       "       [ 0.0000000e+00],\n",
       "       [ 1.2095246e-01],\n",
       "       [ 1.4560125e+00],\n",
       "       [ 8.1318426e-01],\n",
       "       [ 1.3270909e-01],\n",
       "       [ 0.0000000e+00],\n",
       "       [ 9.5134544e-01],\n",
       "       [ 0.0000000e+00],\n",
       "       [ 2.0178354e-01],\n",
       "       [ 2.4302154e+00],\n",
       "       [ 1.0906146e+00],\n",
       "       [ 0.0000000e+00],\n",
       "       [ 5.1660192e-01],\n",
       "       [ 4.2957914e-01],\n",
       "       [ 9.1650832e-01],\n",
       "       [ 0.0000000e+00],\n",
       "       [ 6.0044134e-01],\n",
       "       [ 8.9401877e-01],\n",
       "       [ 4.6292123e-01],\n",
       "       [ 0.0000000e+00],\n",
       "       [ 7.4352622e-03],\n",
       "       [ 6.1435550e-02],\n",
       "       [ 1.4929751e-01],\n",
       "       [ 0.0000000e+00],\n",
       "       [ 2.4937934e-01],\n",
       "       [ 1.8978655e-01],\n",
       "       [ 2.1011629e+00],\n",
       "       [ 0.0000000e+00],\n",
       "       [ 4.8216760e-02],\n",
       "       [ 3.7506723e-01],\n",
       "       [ 2.2954440e-01],\n",
       "       [ 1.6544592e-01],\n",
       "       [ 0.0000000e+00],\n",
       "       [ 4.0418601e-01]], dtype=float32)"
      ]
     },
     "execution_count": 102,
     "metadata": {},
     "output_type": "execute_result"
    }
   ],
   "source": [
    "theta_rnap"
   ]
  },
  {
   "cell_type": "code",
   "execution_count": 107,
   "id": "be3d5a7d",
   "metadata": {},
   "outputs": [
    {
     "data": {
      "text/plain": [
       "array([[0.04884106],\n",
       "       [0.08443679],\n",
       "       [0.        ],\n",
       "       [0.04818697],\n",
       "       [0.03120477],\n",
       "       [0.17347622],\n",
       "       [0.        ],\n",
       "       [0.20726943],\n",
       "       [0.12533218],\n",
       "       [0.12146605],\n",
       "       [0.12873289],\n",
       "       [0.        ],\n",
       "       [0.        ],\n",
       "       [0.07828748],\n",
       "       [0.00225323],\n",
       "       [0.09093028],\n",
       "       [0.30148864],\n",
       "       [0.08931249],\n",
       "       [0.        ],\n",
       "       [0.47931495],\n",
       "       [0.5359566 ],\n",
       "       [0.5564867 ],\n",
       "       [0.5048345 ],\n",
       "       [0.        ],\n",
       "       [0.23337148],\n",
       "       [0.61080277],\n",
       "       [0.24791618],\n",
       "       [0.        ],\n",
       "       [1.        ],\n",
       "       [0.91280895],\n",
       "       [0.        ],\n",
       "       [0.36176723],\n",
       "       [0.        ],\n",
       "       [0.45993677],\n",
       "       [0.19271885],\n",
       "       [0.4124976 ],\n",
       "       [0.4881761 ],\n",
       "       [0.        ],\n",
       "       [0.66142106],\n",
       "       [0.12717025],\n",
       "       [0.        ],\n",
       "       [0.28397363],\n",
       "       [0.24620411],\n",
       "       [0.17987636],\n",
       "       [0.        ],\n",
       "       [0.18983428],\n",
       "       [0.13407373],\n",
       "       [0.05463464],\n",
       "       [0.12344364],\n",
       "       [0.16498867],\n",
       "       [0.        ],\n",
       "       [0.08167176],\n",
       "       [0.        ],\n",
       "       [0.0828032 ],\n",
       "       [0.00761403],\n",
       "       [0.10436281],\n",
       "       [0.11453238],\n",
       "       [0.07546194],\n",
       "       [0.06530149],\n",
       "       [0.        ],\n",
       "       [0.        ],\n",
       "       [0.1948752 ],\n",
       "       [0.07924522],\n",
       "       [0.10830972],\n",
       "       [0.08072039],\n",
       "       [0.08769745],\n",
       "       [0.04957149],\n",
       "       [0.        ],\n",
       "       [0.        ],\n",
       "       [0.22459254],\n",
       "       [0.20253193],\n",
       "       [0.34362674],\n",
       "       [0.02328408],\n",
       "       [0.01336672],\n",
       "       [0.        ],\n",
       "       [0.11359338],\n",
       "       [0.04727863],\n",
       "       [0.04018071],\n",
       "       [0.03268909],\n",
       "       [0.        ],\n",
       "       [0.00537653],\n",
       "       [0.05323401],\n",
       "       [0.05288861],\n",
       "       [0.        ],\n",
       "       [0.        ],\n",
       "       [0.09390239],\n",
       "       [0.06372177],\n",
       "       [0.00708995],\n",
       "       [0.02508879],\n",
       "       [0.07337591],\n",
       "       [0.03489679],\n",
       "       [0.        ],\n",
       "       [0.04701005],\n",
       "       [0.07896094],\n",
       "       [0.1270874 ],\n",
       "       [0.        ],\n",
       "       [0.22406192],\n",
       "       [0.23052984],\n",
       "       [0.20773658],\n",
       "       [0.        ],\n",
       "       [0.        ],\n",
       "       [0.28062168],\n",
       "       [0.11669891],\n",
       "       [0.37714264],\n",
       "       [0.14850345],\n",
       "       [0.21000348],\n",
       "       [0.        ],\n",
       "       [0.20648804],\n",
       "       [0.25830218],\n",
       "       [0.5535736 ],\n",
       "       [0.        ],\n",
       "       [0.26527986],\n",
       "       [0.12936158],\n",
       "       [0.14330117],\n",
       "       [0.        ],\n",
       "       [0.03367496],\n",
       "       [0.26227745],\n",
       "       [0.50893193],\n",
       "       [0.6600947 ],\n",
       "       [0.        ],\n",
       "       [0.        ],\n",
       "       [0.80337214],\n",
       "       [0.7807533 ],\n",
       "       [0.7190366 ],\n",
       "       [0.13517572],\n",
       "       [0.26553142],\n",
       "       [0.28879642],\n",
       "       [0.        ],\n",
       "       [0.        ],\n",
       "       [0.37712112],\n",
       "       [0.45860454],\n",
       "       [0.42359418],\n",
       "       [0.        ],\n",
       "       [0.18607007],\n",
       "       [0.38303727],\n",
       "       [0.42145061],\n",
       "       [0.42806682],\n",
       "       [0.7034389 ],\n",
       "       [0.6450315 ],\n",
       "       [0.        ],\n",
       "       [0.        ],\n",
       "       [0.31568423],\n",
       "       [0.16615103],\n",
       "       [0.19134025],\n",
       "       [0.        ],\n",
       "       [0.26528823],\n",
       "       [0.09148728],\n",
       "       [0.00650972],\n",
       "       [0.        ],\n",
       "       [0.13399503],\n",
       "       [0.13184285],\n",
       "       [0.11621218],\n",
       "       [0.02896922],\n",
       "       [0.07218418],\n",
       "       [0.        ],\n",
       "       [0.01724945],\n",
       "       [0.        ],\n",
       "       [0.60819286],\n",
       "       [0.59423625],\n",
       "       [0.49962765],\n",
       "       [0.05055095],\n",
       "       [0.0691046 ],\n",
       "       [0.11699381],\n",
       "       [0.        ]], dtype=float32)"
      ]
     },
     "execution_count": 107,
     "metadata": {},
     "output_type": "execute_result"
    }
   ],
   "source": [
    "theta_test"
   ]
  },
  {
   "cell_type": "code",
   "execution_count": null,
   "id": "d4d79061",
   "metadata": {},
   "outputs": [],
   "source": []
  },
  {
   "cell_type": "code",
   "execution_count": 94,
   "id": "165c62a5",
   "metadata": {},
   "outputs": [],
   "source": [
    "for i in range(41):\n",
    "    theta[:,i] -= min(theta[:,i])"
   ]
  },
  {
   "cell_type": "code",
   "execution_count": 95,
   "id": "9a7fa18d",
   "metadata": {},
   "outputs": [],
   "source": [
    "theta = theta/theta.max()"
   ]
  },
  {
   "cell_type": "code",
   "execution_count": 109,
   "id": "644ddea0",
   "metadata": {},
   "outputs": [
    {
     "data": {
      "image/png": "[encoded data removed]",
      "text/plain": [
       "<Figure size 1280x160 with 2 Axes>"
      ]
     },
     "metadata": {},
     "output_type": "display_data"
    }
   ],
   "source": [
    "plt.matshow(theta)\n",
    "plt.colorbar(label='arbitrary unit')\n",
    "plt.style.use('classic')\n",
    "plt.show()"
   ]
  },
  {
   "cell_type": "code",
   "execution_count": null,
   "id": "7c7bcd0c",
   "metadata": {},
   "outputs": [],
   "source": []
  },
  {
   "cell_type": "code",
   "execution_count": null,
   "id": "f576f0ea",
   "metadata": {},
   "outputs": [],
   "source": []
  }
 ],
 "metadata": {
  "kernelspec": {
   "display_name": "Python 3 (ipykernel)",
   "language": "python",
   "name": "python3"
  },
  "language_info": {
   "codemirror_mode": {
    "name": "ipython",
    "version": 3
   },
   "file_extension": ".py",
   "mimetype": "text/x-python",
   "name": "python",
   "nbconvert_exporter": "python",
   "pygments_lexer": "ipython3",
   "version": "3.11.3"
  }
 },
 "nbformat": 4,
 "nbformat_minor": 5
}
