{
 "cells": [
  {
   "cell_type": "markdown",
   "id": "f04eef39",
   "metadata": {},
   "source": [
    "File created by Jinghao Chen (jinghc2@uci.edu)."
   ]
  },
  {
   "cell_type": "markdown",
   "id": "8501ea1d",
   "metadata": {},
   "source": [
    "Make sure file \"gfp.pkl\" is in the directory."
   ]
  },
  {
   "cell_type": "code",
   "execution_count": 1,
   "id": "b0c3284f",
   "metadata": {},
   "outputs": [],
   "source": [
    "import pickle"
   ]
  },
  {
   "cell_type": "code",
   "execution_count": 2,
   "id": "fe9b35b8",
   "metadata": {},
   "outputs": [],
   "source": [
    "pickle_in = open(\"gfp.pkl\",\"rb\")\n",
    "gfp = pickle.load(pickle_in)"
   ]
  },
  {
   "cell_type": "markdown",
   "id": "d6f180ac",
   "metadata": {},
   "source": [
    "Check the first 5 reads from the bin #0."
   ]
  },
  {
   "cell_type": "code",
   "execution_count": 3,
   "id": "0a1ed607",
   "metadata": {},
   "outputs": [
    {
     "data": {
      "text/plain": [
       "['AATTAATGTGAGTTAGCTCACTCATTAGGCCCCCCAGGGTTTACACTTTTTGCTACCGTCTCGTATGTTGTTTGC',\n",
       " 'AATTAAGTAGAGATCGCTCACTCATTAGGCACCCAAGCCGTTACATTTTATGCTTCAGGCCCGTACGCTGTGTGT',\n",
       " 'GCTTAATGGGAGTGAGCTCACTCATTAGGCACCCCAGTCTTTAGACTTTATGCTTCCGGCTCGTATCTTGCGTGG',\n",
       " 'GCCCACTCTGAGTTAGCTCAACCACTATGCACCCCAGGCTCTACGCTATTTGATTCCGGCCTGATTGTTGTGTGA',\n",
       " 'AATTAATGTGAGTTAGCTCACTCATTTGGCAACCCAGTCTTTACCCTTTATGCTTCCGACTCGTATGTTGTTTGG']"
      ]
     },
     "execution_count": 3,
     "metadata": {},
     "output_type": "execute_result"
    }
   ],
   "source": [
    "gfp[0][:5]"
   ]
  },
  {
   "cell_type": "markdown",
   "id": "00757a12",
   "metadata": {},
   "source": [
    "The effective area is [-75,-1] so the length should be 75."
   ]
  },
  {
   "cell_type": "code",
   "execution_count": 4,
   "id": "b658ec7d",
   "metadata": {},
   "outputs": [
    {
     "data": {
      "text/plain": [
       "75"
      ]
     },
     "execution_count": 4,
     "metadata": {},
     "output_type": "execute_result"
    }
   ],
   "source": [
    "len(gfp[0][0])"
   ]
  },
  {
   "cell_type": "markdown",
   "id": "ce3c656b",
   "metadata": {},
   "source": [
    "Define 2 functions for future use."
   ]
  },
  {
   "cell_type": "code",
   "execution_count": 5,
   "id": "2baf5479",
   "metadata": {},
   "outputs": [],
   "source": [
    "def bp2bi(sq):\n",
    "    '''base pairs to binary data'''\n",
    "    l = []\n",
    "    for bp in sq:\n",
    "        if bp == 'A':\n",
    "            l += [1,0,0,0]\n",
    "        elif bp == 'C':\n",
    "            l += [0,1,0,0]\n",
    "        elif bp == 'G':\n",
    "            l += [0,0,1,0]\n",
    "        elif bp == 'T':\n",
    "            l += [0,0,0,1]\n",
    "        else:\n",
    "            print('Error: please ensure only ACGT nucliotides contained.')\n",
    "            return\n",
    "    return l"
   ]
  },
  {
   "cell_type": "code",
   "execution_count": 6,
   "id": "a364865a",
   "metadata": {},
   "outputs": [],
   "source": [
    "def gfp2data(gfp,bin_min,bin_max,pt_min,pt_max):\n",
    "    '''gfp to data in the standard form: feature values + label value'''\n",
    "    data = []\n",
    "    for k in range(bin_min,bin_max+1):\n",
    "        for sq in gfp[k]:\n",
    "            l = bp2bi(sq[pt_min:pt_max+1]) if pt_max != -1 else bp2bi(sq[pt_min:])\n",
    "            l.append(k)\n",
    "            data.append(l)\n",
    "    return data"
   ]
  },
  {
   "cell_type": "markdown",
   "id": "e4a83f34",
   "metadata": {},
   "source": [
    "Import numpy package."
   ]
  },
  {
   "cell_type": "code",
   "execution_count": 7,
   "id": "9a8f38a1",
   "metadata": {},
   "outputs": [],
   "source": [
    "import numpy as np\n",
    "np.random.seed(114514)"
   ]
  },
  {
   "cell_type": "markdown",
   "id": "cb4b8bf7",
   "metadata": {},
   "source": [
    "Generate standard-form data, basically feature values + label (target) value."
   ]
  },
  {
   "cell_type": "code",
   "execution_count": 8,
   "id": "d1b79dbf",
   "metadata": {},
   "outputs": [],
   "source": [
    "data = gfp2data(gfp,1,9,-74,-49) # CRP binding sites: [-74:-49]\n",
    "data = np.array(data,np.float32)"
   ]
  },
  {
   "cell_type": "code",
   "execution_count": 9,
   "id": "a4674754",
   "metadata": {},
   "outputs": [],
   "source": [
    "data1 = gfp2data(gfp,1,9,-41,-1) # RNAP binding sites: [-41:-1]\n",
    "data1 = np.array(data1,np.float32)"
   ]
  },
  {
   "cell_type": "markdown",
   "id": "d50c2e01",
   "metadata": {},
   "source": [
    "Check the data we obtain."
   ]
  },
  {
   "cell_type": "code",
   "execution_count": 10,
   "id": "1ce708cb",
   "metadata": {},
   "outputs": [],
   "source": [
    "M, N = data.shape"
   ]
  },
  {
   "cell_type": "code",
   "execution_count": 11,
   "id": "1c1d0d75",
   "metadata": {},
   "outputs": [
    {
     "data": {
      "text/plain": [
       "(46054, 105)"
      ]
     },
     "execution_count": 11,
     "metadata": {},
     "output_type": "execute_result"
    }
   ],
   "source": [
    "M, N"
   ]
  },
  {
   "cell_type": "code",
   "execution_count": 12,
   "id": "da1c7cc7",
   "metadata": {},
   "outputs": [],
   "source": [
    "M1, N1 = data1.shape"
   ]
  },
  {
   "cell_type": "code",
   "execution_count": 13,
   "id": "235e08f5",
   "metadata": {},
   "outputs": [
    {
     "data": {
      "text/plain": [
       "(46054, 165)"
      ]
     },
     "execution_count": 13,
     "metadata": {},
     "output_type": "execute_result"
    }
   ],
   "source": [
    "M1, N1"
   ]
  },
  {
   "cell_type": "code",
   "execution_count": 14,
   "id": "355cb260",
   "metadata": {},
   "outputs": [],
   "source": [
    "data_comb = np.hstack((data[:,:-1],data1))"
   ]
  },
  {
   "cell_type": "code",
   "execution_count": 15,
   "id": "45c665c3",
   "metadata": {},
   "outputs": [],
   "source": [
    "M_comb, N_comb = data_comb.shape"
   ]
  },
  {
   "cell_type": "code",
   "execution_count": 16,
   "id": "2f58d6ac",
   "metadata": {},
   "outputs": [
    {
     "data": {
      "text/plain": [
       "(46054, 269)"
      ]
     },
     "execution_count": 16,
     "metadata": {},
     "output_type": "execute_result"
    }
   ],
   "source": [
    "M_comb, N_comb"
   ]
  },
  {
   "cell_type": "markdown",
   "id": "2839cdb6",
   "metadata": {},
   "source": [
    "Import packages for machine learning model:"
   ]
  },
  {
   "cell_type": "code",
   "execution_count": 17,
   "id": "384add45",
   "metadata": {},
   "outputs": [],
   "source": [
    "from __future__ import division\n",
    "import torch\n",
    "torch.manual_seed(1919810)\n",
    "import sys\n",
    "sys.path.append('code')\n",
    "import mltools as ml # make sure this is installed or already in the directory\n",
    "import matplotlib.pyplot as plt   # use matplotlib for plotting with inline plots"
   ]
  },
  {
   "cell_type": "code",
   "execution_count": 18,
   "id": "a0a874c7",
   "metadata": {},
   "outputs": [],
   "source": [
    "X, Y = data_comb[:,:-1], data_comb[:,-1]   # get features & target\n",
    "X, Y = ml.shuffleData(X,Y)       # reorder randomly rather than by class label"
   ]
  },
  {
   "cell_type": "markdown",
   "id": "3835b1e6",
   "metadata": {},
   "source": [
    "Usually we can rescale to improve numerical stability, speed convergence. But in this context, we have to keep minimal model in order to reserve its physical meaning, i.e., explanable from the first principle."
   ]
  },
  {
   "cell_type": "code",
   "execution_count": 19,
   "id": "a9227ce2",
   "metadata": {},
   "outputs": [],
   "source": [
    "# X,_  = ml.transforms.rescale(X)"
   ]
  },
  {
   "cell_type": "markdown",
   "id": "c9a544ba",
   "metadata": {},
   "source": [
    "We only use batches 1-4 and 6-9 (without 5) for our initial test, and make binary labels."
   ]
  },
  {
   "cell_type": "code",
   "execution_count": 20,
   "id": "2e539b31",
   "metadata": {},
   "outputs": [],
   "source": [
    "XA, YA = X[Y!=5,:], Y[Y!=5]\n",
    "YA = np.heaviside(YA-5,-1)"
   ]
  },
  {
   "cell_type": "code",
   "execution_count": 21,
   "id": "6802f5bb",
   "metadata": {},
   "outputs": [],
   "source": [
    "class logisticClassify(ml.classifier):     # trivial shell class to contain whatever we want\n",
    "    def predict(self,X): pass               # we will replace the shell later as we extend the class\n",
    "    def train(self,X): pass"
   ]
  },
  {
   "cell_type": "code",
   "execution_count": 22,
   "id": "c4cde19b",
   "metadata": {},
   "outputs": [],
   "source": [
    "def myPredict(self,X):\n",
    "    '''Predict model on data X; return nparray of class predictions'''\n",
    "    \n",
    "    N1 = 104 # length of CRP binding sites\n",
    "    \n",
    "    X1 = X[:,:N1] # X1 is a CRP sequence\n",
    "    X2 = X[:,N1:] # X2 is a RNAP sequence\n",
    "    \n",
    "    R = 1.98e-3 # gas const\n",
    "    T = 310 # temperature at which cells were induced\n",
    "    RT = R*T\n",
    "\n",
    "    eps_c = torch.Tensor(X1) @ self.theta[4:4+N1]; # CRP binding energy\n",
    "    eps_r = torch.Tensor(X2) @ self.theta[4+N1:]; # RNAP binding energy\n",
    "    wi = self.theta[2]*(torch.exp(-eps_r/RT)+self.theta[1]*torch.exp(-(eps_c+eps_r+self.theta[3])/RT))\n",
    "    ri = wi/(1+self.theta[1]*torch.exp(-eps_c/RT)+wi)-self.theta[0]\n",
    "\n",
    "    Y01 = 1*(ri>0)                   # binary classification threshold; convert to integers\n",
    "    Y = self.classes[Y01]           # use lookup to convert back to class values if given\n",
    "    return Y                        # NOTE: returns as numpy, not torch! (b/c classes is a nparray)\n",
    "                                    # (This is necessary for mltools plot to work)"
   ]
  },
  {
   "cell_type": "code",
   "execution_count": 23,
   "id": "a80fd3a4",
   "metadata": {},
   "outputs": [],
   "source": [
    "# Create a shell classifier\n",
    "class logisticClassify(ml.classifier):\n",
    "    predict = myPredict              #\n",
    "    train = None                     # this function will be implemented later"
   ]
  },
  {
   "cell_type": "code",
   "execution_count": 52,
   "id": "029454e1",
   "metadata": {},
   "outputs": [],
   "source": [
    "from IPython import display\n",
    "\n",
    "def myTrain(self,X,Y,initStep=1.,stopTol=1e-4,stopEpochs=5000,alpha=0,plot=None):\n",
    "    \"\"\" Train the logistic regression using stochastic gradient descent \"\"\"\n",
    "    \n",
    "    M,N = X.shape;                     # initialize the model if necessary:\n",
    "    N1 = 104 # length of CRP binding sites\n",
    "    # N2 = N-N1;\n",
    "    X1 = X[:,:N1] # X1 is a CRP sequence\n",
    "    X2 = X[:,N1:] # X2 is a RNAP sequence\n",
    "    self.classes = np.unique(Y);       # Y may have two classes, any values\n",
    "    # Y01 = ml.toIndex(Y,self.classes);  # Y01 is Y, but with canonical values 0 or 1\n",
    "    Y01 = Y\n",
    "    \n",
    "    R = 1.98e-3 # gas const\n",
    "    T = 310 # temperature at which cells were induced\n",
    "    RT = R*T\n",
    "    \n",
    "    N_theta = 4+N # the number of unknown parameters\n",
    "    # if the shape of initial theta is wrong, randomly generate a correct one\n",
    "    if len(self.theta)!=N_theta: self.theta=torch.randn((N_theta,1),requires_grad = True);\n",
    "    \n",
    "        \n",
    "    # init loop variables:\n",
    "    epoch=0; done=False; Jnll=[]; J01=[];            # initialize loop variables\n",
    "    myrate = lambda epoch: initStep*2.0/(2.0+epoch)  # step size as a f'n of epoch\n",
    "    \n",
    "    opt = torch.optim.SGD([self.theta], initStep)\n",
    "    sched = torch.optim.lr_scheduler.LambdaLR(opt, myrate)\n",
    "    \n",
    "    \n",
    "    while not done:\n",
    "        # Do an SGD pass through the entire data set:\n",
    "        Jnll.append(0.)\n",
    "        for i in np.random.permutation(M):\n",
    "            # Compute predictions and loss for *just* data X[i]:\n",
    "            # Note: @ operation requires Python 3.5+\n",
    "            eps_c = torch.tensor(X1[i],dtype=torch.float32) @ self.theta[4:4+N1]; # CRP binding energy\n",
    "            eps_r = torch.tensor(X2[i],dtype=torch.float32) @ self.theta[4+N1:]; # RNAP binding energy\n",
    "            wi = self.theta[2]*(torch.exp(-eps_r/RT)+self.theta[1]*torch.exp(-(eps_c+eps_r+self.theta[3])/RT))\n",
    "            ri = wi/(1+self.theta[1]*torch.exp(-eps_c/RT)+wi)-self.theta[0]\n",
    "            si = 1/(1+torch.exp(-ri)); # logistic (probability) prediction of the class\n",
    "            Ji_pre = -Y01[i]*torch.log(si)-(1-Y01[i])*torch.log(1-si); # torch.Tensor shape [] (scalar)\n",
    "            # Ji_pre = torch.maximum( 1-(2*Y01[i]-1)*ri, 0*ri); # Hinge loss\n",
    "            \n",
    "            # add penalty to constrain the range of parameters\n",
    "            Ji0 = Ji_pre + alpha*torch.maximum( self.theta[0]*(self.theta[0]-1), 0*self.theta[0]); \n",
    "            Ji1 = Ji0 + alpha*torch.maximum( self.theta[1]*(self.theta[1]-1), 0*self.theta[1]);\n",
    "            Ji = Ji1 + alpha*torch.maximum( self.theta[2]*(self.theta[2]-1), 0*self.theta[2]);\n",
    "            \n",
    "            Jnll[-1] += float(Ji)/M             # find running average of surrogate loss\n",
    "            opt.zero_grad()                     # Ji should be a torch.tensor of shape []\n",
    "            Ji.backward()\n",
    "            opt.step()\n",
    "        sched.step()        \n",
    "\n",
    "        epoch += 1\n",
    "\n",
    "        J01.append( self.err(X,Y) )  # evaluate the current actual error rate \n",
    "\n",
    "        display.clear_output(wait=True); plt.figure(figsize=(15,5));\n",
    "        plt.subplot(1,2,1); \n",
    "        plt.cla(); plt.plot(Jnll,'b-'); plt.xlabel('epoch'); plt.ylabel('surrogate loss');    # plot losses\n",
    "        plt.subplot(1,2,2); \n",
    "        plt.cla(); plt.plot(J01,'r-'); plt.xlabel('epoch'); plt.ylabel('error rate');    # plot error rate\n",
    "        plt.show(); plt.pause(.001);                    # let OS draw the plot\n",
    "\n",
    "        ## For debugging: you may want to print current parameters & losses\n",
    "        # print(self.theta, ' => ', Jnll, ' / ', J01[-1] )\n",
    "        # input()   # pause for keystroke\n",
    "\n",
    "        # check stopping criteria: exit if exceeded # of epochs ( > stopEpochs)\n",
    "        done = epoch > stopEpochs or abs(Jnll[-1]) < stopTol;   # or if Jnll not changing between epochs ( < stopTol )\n"
   ]
  },
  {
   "cell_type": "code",
   "execution_count": 53,
   "id": "8d2d6009",
   "metadata": {},
   "outputs": [],
   "source": [
    "N_theta = 4+N_comb-1 # the number of unknown parameters"
   ]
  },
  {
   "cell_type": "code",
   "execution_count": 54,
   "id": "71763004",
   "metadata": {},
   "outputs": [],
   "source": [
    "theta_ini = np.array([0.5,0.06,0.5,-3.26]+[0]*(N_comb-1)).reshape(N_theta,1) # + 0.1*np.random.randn(N_theta,1)"
   ]
  },
  {
   "cell_type": "code",
   "execution_count": 72,
   "id": "f6e47618",
   "metadata": {},
   "outputs": [
    {
     "data": {
      "image/png": "[encoded data removed]",
      "text/plain": [
       "<Figure size 1200x400 with 2 Axes>"
      ]
     },
     "metadata": {},
     "output_type": "display_data"
    }
   ],
   "source": [
    "# Update our shell classifier definition\n",
    "class logisticClassify(ml.classifier):\n",
    "    predict = myPredict              # Now all parts are implemented\n",
    "    train = myTrain\n",
    "\n",
    "learnerA = logisticClassify()\n",
    "learnerA.classes = np.unique(YA)\n",
    "learnerA.theta = torch.tensor(theta_ini,requires_grad = True,dtype=torch.float32) # TODO\n",
    "learnerA.train(XA,YA,initStep=1e-1,stopEpochs=500,stopTol=1e-5,alpha=10);"
   ]
  },
  {
   "cell_type": "markdown",
   "id": "e712dd07",
   "metadata": {},
   "source": [
    "Change back into numpy format for visualization and analysis, and save it if necessary."
   ]
  },
  {
   "cell_type": "code",
   "execution_count": 73,
   "id": "ca371c82",
   "metadata": {},
   "outputs": [],
   "source": [
    "theta_np = learnerA.theta.detach().numpy()\n",
    "\n",
    "# pickle_out = open(\"type_your_variable_name_here.pkl\",\"wb\")\n",
    "# pickle.dump(theta_np, pickle_out)\n",
    "# pickle_out.close()"
   ]
  },
  {
   "cell_type": "code",
   "execution_count": 74,
   "id": "f67c0b6e",
   "metadata": {},
   "outputs": [
    {
     "data": {
      "text/plain": [
       "array([[ 0.4612026 ],\n",
       "       [ 0.01667176],\n",
       "       [ 0.02771611],\n",
       "       [-5.642753  ]], dtype=float32)"
      ]
     },
     "execution_count": 74,
     "metadata": {},
     "output_type": "execute_result"
    }
   ],
   "source": [
    "theta_np[:4] # value after 500 epochs"
   ]
  },
  {
   "cell_type": "code",
   "execution_count": 67,
   "id": "7ea327ee",
   "metadata": {},
   "outputs": [
    {
     "data": {
      "text/plain": [
       "array([[ 0.4624712 ],\n",
       "       [ 0.01976488],\n",
       "       [ 0.03580111],\n",
       "       [-5.448885  ]], dtype=float32)"
      ]
     },
     "execution_count": 67,
     "metadata": {},
     "output_type": "execute_result"
    }
   ],
   "source": [
    "theta_np[:4] # value after 100 epochs"
   ]
  },
  {
   "cell_type": "code",
   "execution_count": 57,
   "id": "3d199d30",
   "metadata": {},
   "outputs": [
    {
     "data": {
      "text/plain": [
       "array([[ 0.49115813],\n",
       "       [ 0.04972205],\n",
       "       [ 0.06942279],\n",
       "       [-4.7296476 ]], dtype=float32)"
      ]
     },
     "execution_count": 57,
     "metadata": {},
     "output_type": "execute_result"
    }
   ],
   "source": [
    "theta_np[:4] # value after 30 epochs"
   ]
  },
  {
   "cell_type": "code",
   "execution_count": 79,
   "id": "e9cf6c12",
   "metadata": {},
   "outputs": [],
   "source": [
    "# pickle_out = open(\"data/theta230727joint272param.pkl\",\"wb\")\n",
    "# pickle.dump(theta_np, pickle_out)\n",
    "# pickle_out.close()"
   ]
  },
  {
   "cell_type": "code",
   "execution_count": 59,
   "id": "75ca4676",
   "metadata": {},
   "outputs": [],
   "source": [
    "def energy_matrix(theta_raw, plot = False):\n",
    "    '''generate energy matrix, the normalized energy vector and related constants'''\n",
    "    '''input theta_raw has NO intercept term (pure energy vector with no shifting term)'''\n",
    "    n = int((theta_raw.shape[0])/4)\n",
    "    theta_shift = 0 # initialize energy shift\n",
    "    theta = np.transpose(np.reshape(theta_raw,(n,4)))\n",
    "    for i in range(n):\n",
    "        theta_shift += min(theta[:,i]) # cummulate energy shift\n",
    "        theta[:,i] -= min(theta[:,i])       \n",
    "    theta_scale = theta.max() # calculate the unit/scaling factor of energy\n",
    "    theta = theta/theta_scale\n",
    "    theta_long = np.reshape(np.transpose(theta),theta_raw.shape)\n",
    "    if plot:\n",
    "        plt.matshow(theta)\n",
    "        plt.colorbar(label='arbitrary unit')\n",
    "        plt.style.use('classic')\n",
    "        plt.show()\n",
    "    return theta, theta_long, theta_shift, theta_scale"
   ]
  },
  {
   "cell_type": "markdown",
   "id": "b3fa24c7",
   "metadata": {},
   "source": [
    "Plot the energy matrix:"
   ]
  },
  {
   "cell_type": "code",
   "execution_count": 75,
   "id": "68a99d4f",
   "metadata": {},
   "outputs": [
    {
     "data": {
      "image/png": "[encoded data removed]",
      "text/plain": [
       "<Figure size 1280x196.923 with 2 Axes>"
      ]
     },
     "metadata": {},
     "output_type": "display_data"
    }
   ],
   "source": [
    "theta_c,_,shift_c,scale_c = energy_matrix(theta_np[4:4+104],plot = True)"
   ]
  },
  {
   "cell_type": "code",
   "execution_count": 68,
   "id": "0947568e",
   "metadata": {},
   "outputs": [
    {
     "data": {
      "image/png": "[encoded data removed]",
      "text/plain": [
       "<Figure size 1280x196.923 with 2 Axes>"
      ]
     },
     "metadata": {},
     "output_type": "display_data"
    }
   ],
   "source": [
    "theta_c,_,shift_c,scale_c = energy_matrix(theta_np[4:4+104],plot = True)"
   ]
  },
  {
   "cell_type": "code",
   "execution_count": 61,
   "id": "23b3b62b",
   "metadata": {},
   "outputs": [
    {
     "data": {
      "image/png": "[encoded data removed]",
      "text/plain": [
       "<Figure size 1280x196.923 with 2 Axes>"
      ]
     },
     "metadata": {},
     "output_type": "display_data"
    }
   ],
   "source": [
    "theta_c,_,shift_c,scale_c = energy_matrix(theta_np[4:4+104],plot = True)"
   ]
  },
  {
   "cell_type": "markdown",
   "id": "1e6c37c8",
   "metadata": {},
   "source": [
    "Now we turn to RNAP."
   ]
  },
  {
   "cell_type": "code",
   "execution_count": 76,
   "id": "09f1e131",
   "metadata": {},
   "outputs": [
    {
     "data": {
      "image/png": "[encoded data removed]",
      "text/plain": [
       "<Figure size 1280x160 with 2 Axes>"
      ]
     },
     "metadata": {},
     "output_type": "display_data"
    }
   ],
   "source": [
    "theta_r,_,shift_r,scale_r = energy_matrix(theta_np[4+104:],plot = True)"
   ]
  },
  {
   "cell_type": "code",
   "execution_count": 69,
   "id": "2453e24d",
   "metadata": {},
   "outputs": [
    {
     "data": {
      "image/png": "[encoded data removed]",
      "text/plain": [
       "<Figure size 1280x160 with 2 Axes>"
      ]
     },
     "metadata": {},
     "output_type": "display_data"
    }
   ],
   "source": [
    "theta_r,_,shift_r,scale_r = energy_matrix(theta_np[4+104:],plot = True)"
   ]
  },
  {
   "cell_type": "code",
   "execution_count": 62,
   "id": "4526f3f2",
   "metadata": {},
   "outputs": [
    {
     "data": {
      "image/png": "[encoded data removed]",
      "text/plain": [
       "<Figure size 1280x160 with 2 Axes>"
      ]
     },
     "metadata": {},
     "output_type": "display_data"
    }
   ],
   "source": [
    "theta_r,_,shift_r,scale_r = energy_matrix(theta_np[4+104:],plot = True)"
   ]
  },
  {
   "cell_type": "code",
   "execution_count": 77,
   "id": "095b4174",
   "metadata": {},
   "outputs": [
    {
     "data": {
      "text/plain": [
       "(-10.57501469552517, 3.3594432)"
      ]
     },
     "execution_count": 77,
     "metadata": {},
     "output_type": "execute_result"
    }
   ],
   "source": [
    "shift_c, scale_c"
   ]
  },
  {
   "cell_type": "code",
   "execution_count": 70,
   "id": "d73fc783",
   "metadata": {},
   "outputs": [
    {
     "data": {
      "text/plain": [
       "(-10.055270795128308, 3.1833305)"
      ]
     },
     "execution_count": 70,
     "metadata": {},
     "output_type": "execute_result"
    }
   ],
   "source": [
    "shift_c, scale_c"
   ]
  },
  {
   "cell_type": "code",
   "execution_count": 63,
   "id": "8f4403fc",
   "metadata": {},
   "outputs": [
    {
     "data": {
      "text/plain": [
       "(-8.488577060867101, 2.580164)"
      ]
     },
     "execution_count": 63,
     "metadata": {},
     "output_type": "execute_result"
    }
   ],
   "source": [
    "shift_c, scale_c"
   ]
  },
  {
   "cell_type": "code",
   "execution_count": 78,
   "id": "a8c3982c",
   "metadata": {},
   "outputs": [
    {
     "data": {
      "text/plain": [
       "(-26.24205390602583, 5.642827)"
      ]
     },
     "execution_count": 78,
     "metadata": {},
     "output_type": "execute_result"
    }
   ],
   "source": [
    "shift_r, scale_r"
   ]
  },
  {
   "cell_type": "code",
   "execution_count": 71,
   "id": "cb8e974f",
   "metadata": {},
   "outputs": [
    {
     "data": {
      "text/plain": [
       "(-25.09530529170297, 5.389796)"
      ]
     },
     "execution_count": 71,
     "metadata": {},
     "output_type": "execute_result"
    }
   ],
   "source": [
    "shift_r, scale_r"
   ]
  },
  {
   "cell_type": "code",
   "execution_count": 64,
   "id": "1d4d48f9",
   "metadata": {},
   "outputs": [
    {
     "data": {
      "text/plain": [
       "(-21.30336822476238, 4.5674458)"
      ]
     },
     "execution_count": 64,
     "metadata": {},
     "output_type": "execute_result"
    }
   ],
   "source": [
    "shift_r, scale_r"
   ]
  }
 ],
 "metadata": {
  "kernelspec": {
   "display_name": "Python 3 (ipykernel)",
   "language": "python",
   "name": "python3"
  },
  "language_info": {
   "codemirror_mode": {
    "name": "ipython",
    "version": 3
   },
   "file_extension": ".py",
   "mimetype": "text/x-python",
   "name": "python",
   "nbconvert_exporter": "python",
   "pygments_lexer": "ipython3",
   "version": "3.11.3"
  }
 },
 "nbformat": 4,
 "nbformat_minor": 5
}
