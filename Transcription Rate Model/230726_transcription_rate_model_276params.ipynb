{
 "cells": [
  {
   "cell_type": "markdown",
   "id": "f04eef39",
   "metadata": {},
   "source": [
    "File created by Jinghao Chen (jinghc2@uci.edu)."
   ]
  },
  {
   "cell_type": "markdown",
   "id": "8501ea1d",
   "metadata": {},
   "source": [
    "Make sure file \"gfp.pkl\" is in the directory."
   ]
  },
  {
   "cell_type": "code",
   "execution_count": 1,
   "id": "b0c3284f",
   "metadata": {},
   "outputs": [],
   "source": [
    "import pickle"
   ]
  },
  {
   "cell_type": "code",
   "execution_count": 2,
   "id": "fe9b35b8",
   "metadata": {},
   "outputs": [],
   "source": [
    "pickle_in = open(\"gfp.pkl\",\"rb\")\n",
    "gfp = pickle.load(pickle_in)"
   ]
  },
  {
   "cell_type": "markdown",
   "id": "d6f180ac",
   "metadata": {},
   "source": [
    "Check the first 5 reads from the bin #0."
   ]
  },
  {
   "cell_type": "code",
   "execution_count": 3,
   "id": "0a1ed607",
   "metadata": {},
   "outputs": [
    {
     "data": {
      "text/plain": [
       "['AATTAATGTGAGTTAGCTCACTCATTAGGCCCCCCAGGGTTTACACTTTTTGCTACCGTCTCGTATGTTGTTTGC',\n",
       " 'AATTAAGTAGAGATCGCTCACTCATTAGGCACCCAAGCCGTTACATTTTATGCTTCAGGCCCGTACGCTGTGTGT',\n",
       " 'GCTTAATGGGAGTGAGCTCACTCATTAGGCACCCCAGTCTTTAGACTTTATGCTTCCGGCTCGTATCTTGCGTGG',\n",
       " 'GCCCACTCTGAGTTAGCTCAACCACTATGCACCCCAGGCTCTACGCTATTTGATTCCGGCCTGATTGTTGTGTGA',\n",
       " 'AATTAATGTGAGTTAGCTCACTCATTTGGCAACCCAGTCTTTACCCTTTATGCTTCCGACTCGTATGTTGTTTGG']"
      ]
     },
     "execution_count": 3,
     "metadata": {},
     "output_type": "execute_result"
    }
   ],
   "source": [
    "gfp[0][:5]"
   ]
  },
  {
   "cell_type": "markdown",
   "id": "00757a12",
   "metadata": {},
   "source": [
    "The effective area is [-75,-1] so the length should be 75."
   ]
  },
  {
   "cell_type": "code",
   "execution_count": 4,
   "id": "b658ec7d",
   "metadata": {},
   "outputs": [
    {
     "data": {
      "text/plain": [
       "75"
      ]
     },
     "execution_count": 4,
     "metadata": {},
     "output_type": "execute_result"
    }
   ],
   "source": [
    "len(gfp[0][0])"
   ]
  },
  {
   "cell_type": "markdown",
   "id": "ce3c656b",
   "metadata": {},
   "source": [
    "Define 2 functions for future use."
   ]
  },
  {
   "cell_type": "code",
   "execution_count": 5,
   "id": "2baf5479",
   "metadata": {},
   "outputs": [],
   "source": [
    "def bp2bi(sq):\n",
    "    '''base pairs to binary data'''\n",
    "    l = []\n",
    "    for bp in sq:\n",
    "        if bp == 'A':\n",
    "            l += [1,0,0,0]\n",
    "        elif bp == 'C':\n",
    "            l += [0,1,0,0]\n",
    "        elif bp == 'G':\n",
    "            l += [0,0,1,0]\n",
    "        elif bp == 'T':\n",
    "            l += [0,0,0,1]\n",
    "        else:\n",
    "            print('Error: please ensure only ACGT nucliotides contained.')\n",
    "            return\n",
    "    return l"
   ]
  },
  {
   "cell_type": "code",
   "execution_count": 6,
   "id": "a364865a",
   "metadata": {},
   "outputs": [],
   "source": [
    "def gfp2data(gfp,bin_min,bin_max,pt_min,pt_max):\n",
    "    '''gfp to data in the standard form: feature values + label value'''\n",
    "    data = []\n",
    "    for k in range(bin_min,bin_max+1):\n",
    "        for sq in gfp[k]:\n",
    "            l = bp2bi(sq[pt_min:pt_max+1]) if pt_max != -1 else bp2bi(sq[pt_min:])\n",
    "            l.append(k)\n",
    "            data.append(l)\n",
    "    return data"
   ]
  },
  {
   "cell_type": "markdown",
   "id": "e4a83f34",
   "metadata": {},
   "source": [
    "Import numpy package."
   ]
  },
  {
   "cell_type": "code",
   "execution_count": 7,
   "id": "9a8f38a1",
   "metadata": {},
   "outputs": [],
   "source": [
    "import numpy as np\n",
    "np.random.seed(114514)"
   ]
  },
  {
   "cell_type": "markdown",
   "id": "cb4b8bf7",
   "metadata": {},
   "source": [
    "Generate standard-form data, basically feature values + label (target) value."
   ]
  },
  {
   "cell_type": "code",
   "execution_count": 8,
   "id": "d1b79dbf",
   "metadata": {},
   "outputs": [],
   "source": [
    "data = gfp2data(gfp,1,9,-74,-49) # CRP binding sites: [-74:-49]\n",
    "data = np.array(data,np.float32)"
   ]
  },
  {
   "cell_type": "code",
   "execution_count": 9,
   "id": "a4674754",
   "metadata": {},
   "outputs": [],
   "source": [
    "data1 = gfp2data(gfp,1,9,-41,-1) # RNAP binding sites: [-41:-1]\n",
    "data1 = np.array(data1,np.float32)"
   ]
  },
  {
   "cell_type": "markdown",
   "id": "d50c2e01",
   "metadata": {},
   "source": [
    "Check the data we obtain."
   ]
  },
  {
   "cell_type": "code",
   "execution_count": 10,
   "id": "1ce708cb",
   "metadata": {},
   "outputs": [],
   "source": [
    "M, N = data.shape"
   ]
  },
  {
   "cell_type": "code",
   "execution_count": 11,
   "id": "1c1d0d75",
   "metadata": {},
   "outputs": [
    {
     "data": {
      "text/plain": [
       "(46054, 105)"
      ]
     },
     "execution_count": 11,
     "metadata": {},
     "output_type": "execute_result"
    }
   ],
   "source": [
    "M, N"
   ]
  },
  {
   "cell_type": "code",
   "execution_count": 12,
   "id": "da1c7cc7",
   "metadata": {},
   "outputs": [],
   "source": [
    "M1, N1 = data1.shape"
   ]
  },
  {
   "cell_type": "code",
   "execution_count": 13,
   "id": "235e08f5",
   "metadata": {},
   "outputs": [
    {
     "data": {
      "text/plain": [
       "(46054, 165)"
      ]
     },
     "execution_count": 13,
     "metadata": {},
     "output_type": "execute_result"
    }
   ],
   "source": [
    "M1, N1"
   ]
  },
  {
   "cell_type": "code",
   "execution_count": 14,
   "id": "355cb260",
   "metadata": {},
   "outputs": [],
   "source": [
    "data_comb = np.hstack((data[:,:-1],data1))"
   ]
  },
  {
   "cell_type": "code",
   "execution_count": 15,
   "id": "45c665c3",
   "metadata": {},
   "outputs": [],
   "source": [
    "M_comb, N_comb = data_comb.shape"
   ]
  },
  {
   "cell_type": "code",
   "execution_count": 16,
   "id": "2f58d6ac",
   "metadata": {},
   "outputs": [
    {
     "data": {
      "text/plain": [
       "(46054, 269)"
      ]
     },
     "execution_count": 16,
     "metadata": {},
     "output_type": "execute_result"
    }
   ],
   "source": [
    "M_comb, N_comb"
   ]
  },
  {
   "cell_type": "markdown",
   "id": "2839cdb6",
   "metadata": {},
   "source": [
    "Import packages for machine learning model:"
   ]
  },
  {
   "cell_type": "code",
   "execution_count": 17,
   "id": "384add45",
   "metadata": {},
   "outputs": [],
   "source": [
    "from __future__ import division\n",
    "import torch\n",
    "torch.manual_seed(1919810)\n",
    "import sys\n",
    "sys.path.append('code')\n",
    "import mltools as ml # make sure this is installed or already in the directory\n",
    "import matplotlib.pyplot as plt   # use matplotlib for plotting with inline plots"
   ]
  },
  {
   "cell_type": "code",
   "execution_count": 18,
   "id": "a0a874c7",
   "metadata": {},
   "outputs": [],
   "source": [
    "X, Y = data_comb[:,:-1], data_comb[:,-1]   # get features & target\n",
    "X, Y = ml.shuffleData(X,Y)       # reorder randomly rather than by class label"
   ]
  },
  {
   "cell_type": "markdown",
   "id": "3835b1e6",
   "metadata": {},
   "source": [
    "Usually we can rescale to improve numerical stability, speed convergence. But in this context, we have to keep minimal model in order to reserve its physical meaning, i.e., explanable from the first principle."
   ]
  },
  {
   "cell_type": "code",
   "execution_count": 19,
   "id": "a9227ce2",
   "metadata": {},
   "outputs": [],
   "source": [
    "# X,_  = ml.transforms.rescale(X)"
   ]
  },
  {
   "cell_type": "markdown",
   "id": "c9a544ba",
   "metadata": {},
   "source": [
    "We only use batches 1-4 and 6-9 (without 5) for our initial test, and make binary labels."
   ]
  },
  {
   "cell_type": "code",
   "execution_count": 20,
   "id": "2e539b31",
   "metadata": {},
   "outputs": [],
   "source": [
    "XA, YA = X[Y!=5,:], Y[Y!=5]\n",
    "YA = np.heaviside(YA-5,-1)"
   ]
  },
  {
   "cell_type": "code",
   "execution_count": 55,
   "id": "6802f5bb",
   "metadata": {},
   "outputs": [],
   "source": [
    "class logisticClassify(ml.classifier):     # trivial shell class to contain whatever we want\n",
    "    def predict(self,X): pass               # we will replace the shell later as we extend the class\n",
    "    def train(self,X): pass"
   ]
  },
  {
   "cell_type": "code",
   "execution_count": 56,
   "id": "c4cde19b",
   "metadata": {},
   "outputs": [],
   "source": [
    "def myPredict(self,X):\n",
    "    '''Predict model on data X; return nparray of class predictions'''\n",
    "    \n",
    "    N1 = 104 # length of CRP binding sites\n",
    "    \n",
    "    X1 = X[:,:N1] # X1 is a CRP sequence\n",
    "    X2 = X[:,N1:] # X2 is a RNAP sequence\n",
    "    \n",
    "    R = 1.98e-3 # gas const\n",
    "    T = 310 # temperature at which cells were induced\n",
    "    RT = R*T\n",
    "    \n",
    "    # import given energy matrix info\n",
    "#     pickle_in = open(\"data/theta230719crp.pkl\",\"rb\")\n",
    "#     theta_crp = pickle.load(pickle_in)\n",
    "#     pickle_in = open(\"data/theta230719rnap.pkl\",\"rb\")\n",
    "#     theta_rnap = pickle.load(pickle_in)\n",
    "#     _,theta_crp = energy_matrix(theta_crp[1:])\n",
    "#     _,theta_rnap = energy_matrix(theta_rnap[1:])\n",
    "\n",
    "    eps_c = self.theta[4]*torch.Tensor(X1) @ self.theta[8:8+N1] + self.theta[5]; # CRP binding energy\n",
    "    eps_r = self.theta[6]*torch.Tensor(X2) @ self.theta[8+N1:] + self.theta[7]; # RNAP binding energy\n",
    "    wi = self.theta[2]*(torch.exp(-eps_r/RT)+self.theta[1]*torch.exp(-(eps_c+eps_r+self.theta[3])/RT))\n",
    "    ri = wi/(1+self.theta[1]*torch.exp(-eps_c/RT)+wi)-self.theta[0]\n",
    "\n",
    "    Y01 = 1*(ri>0)                   # binary classification threshold; convert to integers\n",
    "    Y = self.classes[Y01]           # use lookup to convert back to class values if given\n",
    "    return Y                        # NOTE: returns as numpy, not torch! (b/c classes is a nparray)\n",
    "                                    # (This is necessary for mltools plot to work)"
   ]
  },
  {
   "cell_type": "code",
   "execution_count": 57,
   "id": "a80fd3a4",
   "metadata": {},
   "outputs": [],
   "source": [
    "# Create a shell classifier\n",
    "class logisticClassify(ml.classifier):\n",
    "    predict = myPredict              #\n",
    "    train = None                     # this function will be implemented later"
   ]
  },
  {
   "cell_type": "code",
   "execution_count": 58,
   "id": "75ca4676",
   "metadata": {},
   "outputs": [],
   "source": [
    "def energy_matrix(theta_raw):\n",
    "    '''generate energy matrix and the normalized energy vector'''\n",
    "    '''input theta_raw has NO intercept term (pure energy vector with no shifting term)'''\n",
    "    n = int((theta_raw.shape[0])/4)\n",
    "    theta = - np.transpose(np.reshape(theta_raw,(n,4)))\n",
    "    for i in range(n):\n",
    "        theta[:,i] -= min(theta[:,i])\n",
    "    theta = theta/theta.max()\n",
    "    theta_long = np.reshape(np.transpose(theta),theta_raw.shape)\n",
    "    return theta, theta_long"
   ]
  },
  {
   "cell_type": "code",
   "execution_count": 59,
   "id": "029454e1",
   "metadata": {},
   "outputs": [],
   "source": [
    "from IPython import display\n",
    "\n",
    "def myTrain(self,X,Y,initStep=1.,stopTol=1e-4,stopEpochs=5000,alpha=0,plot=None):\n",
    "    \"\"\" Train the logistic regression using stochastic gradient descent \"\"\"\n",
    "    \n",
    "    M,N = X.shape;                     # initialize the model if necessary:\n",
    "    N1 = 104 # length of CRP binding sites\n",
    "    # N2 = N-N1;\n",
    "    X1 = X[:,:N1] # X1 is a CRP sequence\n",
    "    X2 = X[:,N1:] # X2 is a RNAP sequence\n",
    "    self.classes = np.unique(Y);       # Y may have two classes, any values\n",
    "    Y01 = ml.toIndex(Y,self.classes);  # Y01 is Y, but with canonical values 0 or 1\n",
    "    \n",
    "    R = 1.98e-3 # gas const\n",
    "    T = 310 # temperature at which cells were induced\n",
    "    RT = R*T\n",
    "    \n",
    "    N_theta = 8+N # the number of unknown parameters\n",
    "    # if the shape of initial theta is wrong, randomly generate a correct one\n",
    "    if len(self.theta)!=N_theta: self.theta=torch.randn((N_theta,1),requires_grad = True);\n",
    "        \n",
    "    # import given energy matrix info\n",
    "#     pickle_in = open(\"data/theta230719crp.pkl\",\"rb\")\n",
    "#     theta_crp = pickle.load(pickle_in)\n",
    "#     pickle_in = open(\"data/theta230719rnap.pkl\",\"rb\")\n",
    "#     theta_rnap = pickle.load(pickle_in)\n",
    "#     _,theta_crp = energy_matrix(theta_crp[1:])\n",
    "#     _,theta_rnap = energy_matrix(theta_rnap[1:])\n",
    "    \n",
    "        \n",
    "    # init loop variables:\n",
    "    epoch=0; done=False; Jnll=[]; J01=[];            # initialize loop variables\n",
    "    myrate = lambda epoch: initStep*2.0/(2.0+epoch)  # step size as a f'n of epoch\n",
    "    \n",
    "    opt = torch.optim.SGD([self.theta], initStep)\n",
    "    sched = torch.optim.lr_scheduler.LambdaLR(opt, myrate)\n",
    "    \n",
    "    \n",
    "    while not done:\n",
    "        # Do an SGD pass through the entire data set:\n",
    "        Jnll.append(0.)\n",
    "        for i in np.random.permutation(M):\n",
    "            # Compute predictions and loss for *just* data X[i]:\n",
    "            # Note: @ operation requires Python 3.5+\n",
    "            eps_c = self.theta[4]*(torch.tensor(X1[i],dtype=torch.float32) @ self.theta[8:8+N1]) + self.theta[5]; # CRP binding energy\n",
    "            eps_r = self.theta[6]*(torch.tensor(X2[i],dtype=torch.float32) @ self.theta[8+N1:]) + self.theta[7]; # RNAP binding energy\n",
    "            wi = self.theta[2]*(torch.exp(-eps_r/RT)+self.theta[1]*torch.exp(-(eps_c+eps_r+self.theta[3])/RT))\n",
    "            ri = wi/(1+self.theta[1]*torch.exp(-eps_c/RT)+wi)-self.theta[0]\n",
    "            si = 1/(1+torch.exp(-ri)); # logistic (probability) prediction of the class\n",
    "            Ji_pre = -Y01[i]*torch.log(si)-(1-Y01[i])*torch.log(1-si); # torch.Tensor shape [] (scalar)\n",
    "            \n",
    "            # add penalty to constrain the range of parameters\n",
    "            Ji0 = Ji_pre + alpha*torch.maximum( self.theta[0]*(self.theta[0]-1), 0*self.theta[0]); \n",
    "            Ji1 = Ji0 + alpha*torch.maximum( self.theta[1]*(self.theta[1]-1), 0*self.theta[1]);\n",
    "            Ji = Ji1 + alpha*torch.maximum( self.theta[2]*(self.theta[2]-1), 0*self.theta[2]);\n",
    "            \n",
    "            Jnll[-1] += float(Ji)/M             # find running average of surrogate loss\n",
    "            opt.zero_grad()                     # Ji should be a torch.tensor of shape []\n",
    "            Ji.backward()\n",
    "            opt.step()\n",
    "        sched.step()        \n",
    "\n",
    "        epoch += 1\n",
    "\n",
    "        J01.append( self.err(X,Y) )  # evaluate the current actual error rate \n",
    "\n",
    "        display.clear_output(wait=True); plt.figure(figsize=(15,5));\n",
    "        plt.subplot(1,2,1); \n",
    "        plt.cla(); plt.plot(Jnll,'b-'); plt.xlabel('epoch'); plt.ylabel('surrogate loss');    # plot losses\n",
    "        plt.subplot(1,2,2); \n",
    "        plt.cla(); plt.plot(J01,'r-'); plt.xlabel('epoch'); plt.ylabel('error rate');    # plot error rate\n",
    "        plt.show(); plt.pause(.001);                    # let OS draw the plot\n",
    "\n",
    "        ## For debugging: you may want to print current parameters & losses\n",
    "        # print(self.theta, ' => ', Jnll, ' / ', J01[-1] )\n",
    "        # input()   # pause for keystroke\n",
    "\n",
    "        # check stopping criteria: exit if exceeded # of epochs ( > stopEpochs)\n",
    "        done = epoch > stopEpochs or abs(Jnll[-1]) < stopTol;   # or if Jnll not changing between epochs ( < stopTol )\n"
   ]
  },
  {
   "cell_type": "code",
   "execution_count": 60,
   "id": "8d2d6009",
   "metadata": {},
   "outputs": [],
   "source": [
    "N_theta = 8+N_comb-1 # the number of unknown parameters"
   ]
  },
  {
   "cell_type": "code",
   "execution_count": 61,
   "id": "076e6cb2",
   "metadata": {},
   "outputs": [],
   "source": [
    "theta_ini = np.array([0.5,0.1,0.5,-3,-1,-1,-1,-1]).reshape(8,1) # + 0.1*np.random.randn(N_theta,1)"
   ]
  },
  {
   "cell_type": "code",
   "execution_count": 62,
   "id": "347d5af1",
   "metadata": {},
   "outputs": [],
   "source": [
    "pickle_in = open(\"data/theta230719crp.pkl\",\"rb\")\n",
    "theta_crp = pickle.load(pickle_in)\n",
    "pickle_in = open(\"data/theta230719rnap.pkl\",\"rb\")\n",
    "theta_rnap = pickle.load(pickle_in)"
   ]
  },
  {
   "cell_type": "code",
   "execution_count": 63,
   "id": "66b9feec",
   "metadata": {},
   "outputs": [],
   "source": [
    "theta_ini = np.vstack((theta_ini,theta_crp[1:]))"
   ]
  },
  {
   "cell_type": "code",
   "execution_count": 64,
   "id": "fe3da4bf",
   "metadata": {},
   "outputs": [],
   "source": [
    "theta_ini = np.vstack((theta_ini,theta_rnap[1:]))"
   ]
  },
  {
   "cell_type": "code",
   "execution_count": 65,
   "id": "f6e47618",
   "metadata": {},
   "outputs": [
    {
     "data": {
      "image/png": "[encoded data removed]",
      "text/plain": [
       "<Figure size 1500x500 with 2 Axes>"
      ]
     },
     "metadata": {},
     "output_type": "display_data"
    },
    {
     "ename": "KeyboardInterrupt",
     "evalue": "",
     "output_type": "error",
     "traceback": [
      "\u001b[0;31m---------------------------------------------------------------------------\u001b[0m",
      "\u001b[0;31mKeyboardInterrupt\u001b[0m                         Traceback (most recent call last)",
      "Cell \u001b[0;32mIn[65], line 9\u001b[0m\n\u001b[1;32m      7\u001b[0m learnerA\u001b[38;5;241m.\u001b[39mclasses \u001b[38;5;241m=\u001b[39m np\u001b[38;5;241m.\u001b[39munique(YA)\n\u001b[1;32m      8\u001b[0m learnerA\u001b[38;5;241m.\u001b[39mtheta \u001b[38;5;241m=\u001b[39m torch\u001b[38;5;241m.\u001b[39mtensor(theta_ini,requires_grad \u001b[38;5;241m=\u001b[39m \u001b[38;5;28;01mTrue\u001b[39;00m,dtype\u001b[38;5;241m=\u001b[39mtorch\u001b[38;5;241m.\u001b[39mfloat32) \u001b[38;5;66;03m# TODO\u001b[39;00m\n\u001b[0;32m----> 9\u001b[0m learnerA\u001b[38;5;241m.\u001b[39mtrain(XA,YA,initStep\u001b[38;5;241m=\u001b[39m\u001b[38;5;241m1e-1\u001b[39m,stopEpochs\u001b[38;5;241m=\u001b[39m\u001b[38;5;241m500\u001b[39m,stopTol\u001b[38;5;241m=\u001b[39m\u001b[38;5;241m1e-5\u001b[39m,alpha\u001b[38;5;241m=\u001b[39m\u001b[38;5;241m10\u001b[39m)\n",
      "Cell \u001b[0;32mIn[59], line 60\u001b[0m, in \u001b[0;36mmyTrain\u001b[0;34m(self, X, Y, initStep, stopTol, stopEpochs, alpha, plot)\u001b[0m\n\u001b[1;32m     58\u001b[0m     opt\u001b[38;5;241m.\u001b[39mzero_grad()                     \u001b[38;5;66;03m# Ji should be a torch.tensor of shape []\u001b[39;00m\n\u001b[1;32m     59\u001b[0m     Ji\u001b[38;5;241m.\u001b[39mbackward()\n\u001b[0;32m---> 60\u001b[0m     opt\u001b[38;5;241m.\u001b[39mstep()\n\u001b[1;32m     61\u001b[0m sched\u001b[38;5;241m.\u001b[39mstep()        \n\u001b[1;32m     63\u001b[0m epoch \u001b[38;5;241m+\u001b[39m\u001b[38;5;241m=\u001b[39m \u001b[38;5;241m1\u001b[39m\n",
      "File \u001b[0;32m~/anaconda3/lib/python3.11/site-packages/torch/optim/lr_scheduler.py:69\u001b[0m, in \u001b[0;36mLRScheduler.__init__.<locals>.with_counter.<locals>.wrapper\u001b[0;34m(*args, **kwargs)\u001b[0m\n\u001b[1;32m     67\u001b[0m instance\u001b[38;5;241m.\u001b[39m_step_count \u001b[38;5;241m+\u001b[39m\u001b[38;5;241m=\u001b[39m \u001b[38;5;241m1\u001b[39m\n\u001b[1;32m     68\u001b[0m wrapped \u001b[38;5;241m=\u001b[39m func\u001b[38;5;241m.\u001b[39m\u001b[38;5;21m__get__\u001b[39m(instance, \u001b[38;5;28mcls\u001b[39m)\n\u001b[0;32m---> 69\u001b[0m \u001b[38;5;28;01mreturn\u001b[39;00m wrapped(\u001b[38;5;241m*\u001b[39margs, \u001b[38;5;241m*\u001b[39m\u001b[38;5;241m*\u001b[39mkwargs)\n",
      "File \u001b[0;32m~/anaconda3/lib/python3.11/site-packages/torch/optim/optimizer.py:269\u001b[0m, in \u001b[0;36mOptimizer.profile_hook_step.<locals>.wrapper\u001b[0;34m(*args, **kwargs)\u001b[0m\n\u001b[1;32m    267\u001b[0m \u001b[38;5;28mself\u001b[39m, \u001b[38;5;241m*\u001b[39m_ \u001b[38;5;241m=\u001b[39m args\n\u001b[1;32m    268\u001b[0m profile_name \u001b[38;5;241m=\u001b[39m \u001b[38;5;124m\"\u001b[39m\u001b[38;5;124mOptimizer.step#\u001b[39m\u001b[38;5;132;01m{}\u001b[39;00m\u001b[38;5;124m.step\u001b[39m\u001b[38;5;124m\"\u001b[39m\u001b[38;5;241m.\u001b[39mformat(\u001b[38;5;28mself\u001b[39m\u001b[38;5;241m.\u001b[39m\u001b[38;5;18m__class__\u001b[39m\u001b[38;5;241m.\u001b[39m\u001b[38;5;18m__name__\u001b[39m)\n\u001b[0;32m--> 269\u001b[0m \u001b[38;5;28;01mwith\u001b[39;00m torch\u001b[38;5;241m.\u001b[39mautograd\u001b[38;5;241m.\u001b[39mprofiler\u001b[38;5;241m.\u001b[39mrecord_function(profile_name):\n\u001b[1;32m    270\u001b[0m     \u001b[38;5;66;03m# call optimizer step pre hooks\u001b[39;00m\n\u001b[1;32m    271\u001b[0m     \u001b[38;5;28;01mfor\u001b[39;00m pre_hook \u001b[38;5;129;01min\u001b[39;00m chain(_global_optimizer_pre_hooks\u001b[38;5;241m.\u001b[39mvalues(), \u001b[38;5;28mself\u001b[39m\u001b[38;5;241m.\u001b[39m_optimizer_step_pre_hooks\u001b[38;5;241m.\u001b[39mvalues()):\n\u001b[1;32m    272\u001b[0m         result \u001b[38;5;241m=\u001b[39m pre_hook(\u001b[38;5;28mself\u001b[39m, args, kwargs)\n",
      "File \u001b[0;32m~/anaconda3/lib/python3.11/site-packages/torch/autograd/profiler.py:507\u001b[0m, in \u001b[0;36mrecord_function.__exit__\u001b[0;34m(self, exc_type, exc_value, traceback)\u001b[0m\n\u001b[1;32m    505\u001b[0m \u001b[38;5;28;01mif\u001b[39;00m \u001b[38;5;129;01mnot\u001b[39;00m torch\u001b[38;5;241m.\u001b[39mjit\u001b[38;5;241m.\u001b[39mis_scripting():\n\u001b[1;32m    506\u001b[0m     \u001b[38;5;28;01mwith\u001b[39;00m torch\u001b[38;5;241m.\u001b[39m_C\u001b[38;5;241m.\u001b[39mDisableTorchFunctionSubclass():\n\u001b[0;32m--> 507\u001b[0m         torch\u001b[38;5;241m.\u001b[39mops\u001b[38;5;241m.\u001b[39mprofiler\u001b[38;5;241m.\u001b[39m_record_function_exit\u001b[38;5;241m.\u001b[39m_RecordFunction(record)\n\u001b[1;32m    508\u001b[0m \u001b[38;5;28;01melse\u001b[39;00m:\n\u001b[1;32m    509\u001b[0m     torch\u001b[38;5;241m.\u001b[39mops\u001b[38;5;241m.\u001b[39mprofiler\u001b[38;5;241m.\u001b[39m_record_function_exit(record)\n",
      "File \u001b[0;32m~/anaconda3/lib/python3.11/site-packages/torch/_ops.py:287\u001b[0m, in \u001b[0;36mOpOverload.__call__\u001b[0;34m(self, *args, **kwargs)\u001b[0m\n\u001b[1;32m    286\u001b[0m \u001b[38;5;28;01mdef\u001b[39;00m \u001b[38;5;21m__call__\u001b[39m(\u001b[38;5;28mself\u001b[39m, \u001b[38;5;241m*\u001b[39margs, \u001b[38;5;241m*\u001b[39m\u001b[38;5;241m*\u001b[39mkwargs):\n\u001b[0;32m--> 287\u001b[0m     \u001b[38;5;28;01mreturn\u001b[39;00m \u001b[38;5;28mself\u001b[39m\u001b[38;5;241m.\u001b[39m_op(\u001b[38;5;241m*\u001b[39margs, \u001b[38;5;241m*\u001b[39m\u001b[38;5;241m*\u001b[39mkwargs \u001b[38;5;129;01mor\u001b[39;00m {})\n",
      "\u001b[0;31mKeyboardInterrupt\u001b[0m: "
     ]
    }
   ],
   "source": [
    "# Update our shell classifier definition\n",
    "class logisticClassify(ml.classifier):\n",
    "    predict = myPredict              # Now all parts are implemented\n",
    "    train = myTrain\n",
    "\n",
    "learnerA = logisticClassify()\n",
    "learnerA.classes = np.unique(YA)\n",
    "learnerA.theta = torch.tensor(theta_ini,requires_grad = True,dtype=torch.float32) # TODO\n",
    "learnerA.train(XA,YA,initStep=1e-1,stopEpochs=500,stopTol=1e-5,alpha=10);"
   ]
  },
  {
   "cell_type": "markdown",
   "id": "e712dd07",
   "metadata": {},
   "source": [
    "Change back into numpy format for visualization and analysis, and save it if necessary."
   ]
  },
  {
   "cell_type": "code",
   "execution_count": 66,
   "id": "ca371c82",
   "metadata": {},
   "outputs": [],
   "source": [
    "theta_np = learnerA.theta.detach().numpy()\n",
    "\n",
    "# pickle_out = open(\"type_your_variable_name_here.pkl\",\"wb\")\n",
    "# pickle.dump(theta_np, pickle_out)\n",
    "# pickle_out.close()"
   ]
  },
  {
   "cell_type": "code",
   "execution_count": 67,
   "id": "4cd92f5d",
   "metadata": {},
   "outputs": [
    {
     "data": {
      "text/plain": [
       "array([[ 4.54331219e-01],\n",
       "       [ 1.29377708e-01],\n",
       "       [ 3.39653760e-01],\n",
       "       [-8.56752872e+00],\n",
       "       [-4.19712782e+00],\n",
       "       [-8.05888832e-01],\n",
       "       [-3.34052515e+00],\n",
       "       [-7.62139440e-01],\n",
       "       [ 2.88374901e-01],\n",
       "       [-1.37606174e-01],\n",
       "       [-1.13342002e-01],\n",
       "       [ 1.48677021e-01],\n",
       "       [-4.62689281e-01],\n",
       "       [-1.37970340e+00],\n",
       "       [-1.02165604e+00],\n",
       "       [-7.53021121e-01],\n",
       "       [ 7.81720102e-01],\n",
       "       [-1.94938630e-02],\n",
       "       [ 2.47663751e-01],\n",
       "       [ 7.31751144e-01],\n",
       "       [ 6.88562274e-01],\n",
       "       [-1.32293746e-01],\n",
       "       [-3.34080085e-02],\n",
       "       [ 8.83017004e-01],\n",
       "       [-4.43264782e-01],\n",
       "       [-6.48285270e-01],\n",
       "       [-6.33734107e-01],\n",
       "       [-3.14164698e-01],\n",
       "       [-8.94073367e-01],\n",
       "       [-3.17435056e-01],\n",
       "       [-1.13900483e+00],\n",
       "       [ 2.40177259e-01],\n",
       "       [-4.64705318e-01],\n",
       "       [-1.13256919e+00],\n",
       "       [ 7.68448234e-01],\n",
       "       [-4.01054442e-01],\n",
       "       [-3.01318318e-01],\n",
       "       [-5.91083407e-01],\n",
       "       [-6.50787115e-01],\n",
       "       [ 3.53642434e-01],\n",
       "       [-1.90149927e+00],\n",
       "       [-2.18083668e+00],\n",
       "       [ 1.51251957e-01],\n",
       "       [-1.32683027e+00],\n",
       "       [-5.46287000e-01],\n",
       "       [-1.22114551e+00],\n",
       "       [-1.76074362e+00],\n",
       "       [-1.70056808e+00],\n",
       "       [-6.81720078e-01],\n",
       "       [-2.50268728e-02],\n",
       "       [-3.72512311e-01],\n",
       "       [-7.84373134e-02],\n",
       "       [-8.42667043e-01],\n",
       "       [-3.67889136e-01],\n",
       "       [-6.65379763e-01],\n",
       "       [-8.17225754e-01],\n",
       "       [-5.96351087e-01],\n",
       "       [-4.01880383e-01],\n",
       "       [-5.46070814e-01],\n",
       "       [-2.77751029e-01],\n",
       "       [-8.94015193e-01],\n",
       "       [-1.21544158e+00],\n",
       "       [-1.10484409e+00],\n",
       "       [-1.13977981e+00],\n",
       "       [ 1.42941058e-01],\n",
       "       [ 2.39198819e-01],\n",
       "       [ 4.55498606e-01],\n",
       "       [ 2.01742485e-01],\n",
       "       [ 4.06480312e-01],\n",
       "       [-2.20465168e-01],\n",
       "       [-1.78548023e-01],\n",
       "       [-2.27931172e-01],\n",
       "       [-1.85767853e+00],\n",
       "       [-1.79487371e+00],\n",
       "       [-1.24200130e+00],\n",
       "       [-5.22626758e-01],\n",
       "       [-5.20444393e-01],\n",
       "       [ 6.49810970e-01],\n",
       "       [-1.27839768e+00],\n",
       "       [-1.09153020e+00],\n",
       "       [ 6.96532309e-01],\n",
       "       [-3.72592509e-01],\n",
       "       [-2.05977902e-01],\n",
       "       [-8.92714038e-02],\n",
       "       [-8.31742659e-02],\n",
       "       [ 4.49938744e-01],\n",
       "       [-9.09744203e-01],\n",
       "       [-4.16144520e-01],\n",
       "       [ 7.77537763e-01],\n",
       "       [-9.40984428e-01],\n",
       "       [-2.84018815e-02],\n",
       "       [-8.38949144e-01],\n",
       "       [ 9.91838217e-01],\n",
       "       [ 3.66526604e-01],\n",
       "       [ 6.47056699e-01],\n",
       "       [ 7.35330522e-01],\n",
       "       [ 1.83486223e-01],\n",
       "       [-9.67805460e-02],\n",
       "       [-4.22513038e-01],\n",
       "       [ 7.73598850e-01],\n",
       "       [-2.36813053e-01],\n",
       "       [-5.02701402e-01],\n",
       "       [-6.96502268e-01],\n",
       "       [-1.18633404e-01],\n",
       "       [-4.29631062e-02],\n",
       "       [ 3.07953209e-01],\n",
       "       [-1.31396323e-01],\n",
       "       [ 5.95876455e-01],\n",
       "       [-1.03167605e+00],\n",
       "       [-8.18538606e-01],\n",
       "       [-8.79813194e-01],\n",
       "       [-3.88437957e-01],\n",
       "       [-2.70999670e-02],\n",
       "       [-1.41842395e-01],\n",
       "       [ 3.45174037e-02],\n",
       "       [-1.04694948e-01],\n",
       "       [-9.65341270e-01],\n",
       "       [-1.43919730e+00],\n",
       "       [-9.16333675e-01],\n",
       "       [-1.47962749e+00],\n",
       "       [ 4.35746700e-01],\n",
       "       [ 4.63235289e-01],\n",
       "       [ 4.64824736e-01],\n",
       "       [ 7.13371634e-01],\n",
       "       [-7.47884452e-01],\n",
       "       [-9.92784560e-01],\n",
       "       [-7.96954870e-01],\n",
       "       [-9.11340952e-01],\n",
       "       [-7.81164765e-01],\n",
       "       [ 6.33781031e-02],\n",
       "       [ 1.12892851e-01],\n",
       "       [-1.40690494e+00],\n",
       "       [-5.50680161e-01],\n",
       "       [-2.48055473e-01],\n",
       "       [-2.43078902e-01],\n",
       "       [ 2.05706263e+00],\n",
       "       [-3.99836659e-01],\n",
       "       [-2.04527354e+00],\n",
       "       [-2.61978060e-01],\n",
       "       [ 6.22405112e-01],\n",
       "       [-1.78531635e+00],\n",
       "       [-1.29679203e+00],\n",
       "       [ 1.62059581e+00],\n",
       "       [ 2.94268399e-01],\n",
       "       [ 2.90514797e-01],\n",
       "       [-1.31330717e+00],\n",
       "       [-4.64603513e-01],\n",
       "       [-1.28779328e+00],\n",
       "       [-1.10440075e+00],\n",
       "       [ 7.58999705e-01],\n",
       "       [-1.71575236e+00],\n",
       "       [-1.74924120e-01],\n",
       "       [ 3.59580159e-01],\n",
       "       [-6.50496960e-01],\n",
       "       [-4.51595306e-01],\n",
       "       [-1.39100477e-01],\n",
       "       [-5.53135335e-01],\n",
       "       [-1.15031517e+00],\n",
       "       [-1.03988051e+00],\n",
       "       [-7.42413342e-01],\n",
       "       [ 4.94544387e-01],\n",
       "       [ 1.64658934e-01],\n",
       "       [ 6.38276637e-01],\n",
       "       [ 4.40721035e-01],\n",
       "       [-4.61023301e-01],\n",
       "       [-5.50027132e-01],\n",
       "       [-5.63685536e-01],\n",
       "       [-6.55375779e-01],\n",
       "       [-4.27366942e-01],\n",
       "       [-3.02755743e-01],\n",
       "       [-3.09648782e-01],\n",
       "       [-2.11358741e-01],\n",
       "       [-7.66638517e-02],\n",
       "       [-5.12298226e-01],\n",
       "       [-2.76025057e-01],\n",
       "       [-4.89716917e-01],\n",
       "       [ 2.68517435e-01],\n",
       "       [ 3.10243785e-01],\n",
       "       [ 3.85045826e-01],\n",
       "       [ 5.89279830e-01],\n",
       "       [-4.35734212e-01],\n",
       "       [-1.05344808e+00],\n",
       "       [-8.45029056e-01],\n",
       "       [-1.26083672e+00],\n",
       "       [-8.70231628e-01],\n",
       "       [-6.97786033e-01],\n",
       "       [-6.76436424e-01],\n",
       "       [-9.72485065e-01],\n",
       "       [-9.73892748e-01],\n",
       "       [-9.20266330e-01],\n",
       "       [-9.80418503e-01],\n",
       "       [-7.91466713e-01],\n",
       "       [ 3.60452265e-01],\n",
       "       [ 3.72337013e-01],\n",
       "       [ 4.28555638e-01],\n",
       "       [ 5.62609613e-01],\n",
       "       [-1.13255799e-01],\n",
       "       [-2.04477265e-01],\n",
       "       [-2.38836303e-01],\n",
       "       [-4.58854139e-02],\n",
       "       [ 3.09111953e-01],\n",
       "       [ 2.57236034e-01],\n",
       "       [ 3.10191512e-01],\n",
       "       [ 4.63568866e-01],\n",
       "       [ 4.27180156e-02],\n",
       "       [-6.82583153e-02],\n",
       "       [-1.29053846e-01],\n",
       "       [ 2.81720638e-01],\n",
       "       [ 4.13936675e-01],\n",
       "       [ 3.21912557e-01],\n",
       "       [ 3.93754631e-01],\n",
       "       [ 1.08349955e+00],\n",
       "       [-3.48217070e-01],\n",
       "       [-1.24959219e+00],\n",
       "       [-6.91473842e-01],\n",
       "       [-1.65829837e+00],\n",
       "       [-9.15371358e-01],\n",
       "       [-1.24719918e+00],\n",
       "       [-5.29534757e-01],\n",
       "       [-1.22547305e+00],\n",
       "       [ 1.31167099e-01],\n",
       "       [-8.89247656e-01],\n",
       "       [ 1.20056927e+00],\n",
       "       [ 1.90987121e-02],\n",
       "       [-1.04361832e-01],\n",
       "       [-1.85143411e-01],\n",
       "       [ 3.29933643e-01],\n",
       "       [ 1.80112660e-01],\n",
       "       [ 7.16534257e-01],\n",
       "       [ 1.98711529e-01],\n",
       "       [-8.95843148e-01],\n",
       "       [ 1.93637109e+00],\n",
       "       [ 2.59990120e+00],\n",
       "       [-1.32156730e+00],\n",
       "       [-1.04844320e+00],\n",
       "       [-1.03994370e+00],\n",
       "       [ 1.85374051e-01],\n",
       "       [-3.48155797e-01],\n",
       "       [-3.19819927e-01],\n",
       "       [ 6.42059088e-01],\n",
       "       [ 1.44996881e+00],\n",
       "       [ 2.92104989e-01],\n",
       "       [-4.15958511e-03],\n",
       "       [-1.35662742e-02],\n",
       "       [ 1.06864703e+00],\n",
       "       [ 6.21154189e-01],\n",
       "       [-4.01321709e-01],\n",
       "       [-3.82463366e-01],\n",
       "       [-2.41334617e-01],\n",
       "       [-1.44644248e+00],\n",
       "       [-1.16287947e+00],\n",
       "       [ 1.32736635e+00],\n",
       "       [-8.90873313e-01],\n",
       "       [-1.84305382e+00],\n",
       "       [-1.46051168e+00],\n",
       "       [-1.71253109e+00],\n",
       "       [-9.58015621e-02],\n",
       "       [-7.84253895e-01],\n",
       "       [-2.81123936e-01],\n",
       "       [-7.09686503e-02],\n",
       "       [ 8.16095710e-01],\n",
       "       [ 3.42621446e-01],\n",
       "       [ 3.66789848e-01],\n",
       "       [ 4.39119577e-01],\n",
       "       [-4.85584587e-01],\n",
       "       [-7.25357771e-01],\n",
       "       [-5.26870012e-01],\n",
       "       [-4.96188700e-01],\n",
       "       [ 1.85932708e+00],\n",
       "       [-1.10216224e+00],\n",
       "       [-1.06127477e+00],\n",
       "       [-8.87743294e-01],\n",
       "       [-9.16961133e-01],\n",
       "       [-9.32659507e-01],\n",
       "       [-1.10175371e+00],\n",
       "       [-7.78765917e-01]], dtype=float32)"
      ]
     },
     "execution_count": 67,
     "metadata": {},
     "output_type": "execute_result"
    }
   ],
   "source": [
    "theta_np"
   ]
  },
  {
   "cell_type": "code",
   "execution_count": 68,
   "id": "1e13b437",
   "metadata": {},
   "outputs": [
    {
     "data": {
      "text/plain": [
       "165"
      ]
     },
     "execution_count": 68,
     "metadata": {},
     "output_type": "execute_result"
    }
   ],
   "source": [
    "N1"
   ]
  },
  {
   "cell_type": "markdown",
   "id": "94aa3dd4",
   "metadata": {},
   "source": [
    "Reshape it into the form of energy matrix, adjust sign. The sign was reversed because we correlate the higher energy value to the higher fluorescence level, while the highest fluorescence level should actually be from wild-type, which has the lowest binding energy, hence the relation should be reversed back."
   ]
  },
  {
   "cell_type": "code",
   "execution_count": 69,
   "id": "520d0138",
   "metadata": {},
   "outputs": [],
   "source": [
    "n = int(104/4)"
   ]
  },
  {
   "cell_type": "code",
   "execution_count": 75,
   "id": "4c6dc4cf",
   "metadata": {},
   "outputs": [],
   "source": [
    "theta = -np.transpose(np.reshape(theta_np[8:8+104],(n,4)))"
   ]
  },
  {
   "cell_type": "markdown",
   "id": "6617fea4",
   "metadata": {},
   "source": [
    "Energy shift."
   ]
  },
  {
   "cell_type": "code",
   "execution_count": 76,
   "id": "ce28f49f",
   "metadata": {},
   "outputs": [],
   "source": [
    "for i in range(n):\n",
    "    theta[:,i] -= min(theta[:,i])"
   ]
  },
  {
   "cell_type": "markdown",
   "id": "153203dd",
   "metadata": {},
   "source": [
    "For arbitrary unit (non-dimensional)."
   ]
  },
  {
   "cell_type": "code",
   "execution_count": 77,
   "id": "3b57bc51",
   "metadata": {},
   "outputs": [],
   "source": [
    "theta = theta/theta.max()"
   ]
  },
  {
   "cell_type": "markdown",
   "id": "b3fa24c7",
   "metadata": {},
   "source": [
    "Plot the energy matrix:"
   ]
  },
  {
   "cell_type": "code",
   "execution_count": 78,
   "id": "68a99d4f",
   "metadata": {},
   "outputs": [
    {
     "data": {
      "image/png": "[encoded data removed]",
      "text/plain": [
       "<Figure size 1280x196.923 with 2 Axes>"
      ]
     },
     "metadata": {},
     "output_type": "display_data"
    }
   ],
   "source": [
    "plt.matshow(theta)\n",
    "plt.colorbar(label='arbitrary unit')\n",
    "plt.style.use('classic')\n",
    "plt.show()"
   ]
  },
  {
   "cell_type": "markdown",
   "id": "1e6c37c8",
   "metadata": {},
   "source": [
    "Now we turn to RNAP."
   ]
  },
  {
   "cell_type": "code",
   "execution_count": 79,
   "id": "09f1e131",
   "metadata": {},
   "outputs": [],
   "source": [
    "n1 = int(164/4)"
   ]
  },
  {
   "cell_type": "code",
   "execution_count": 81,
   "id": "366bd552",
   "metadata": {},
   "outputs": [],
   "source": [
    "theta1 = - np.transpose(np.reshape(theta_np[8+104:],(n1,4)))"
   ]
  },
  {
   "cell_type": "code",
   "execution_count": 82,
   "id": "21354747",
   "metadata": {},
   "outputs": [],
   "source": [
    "for i in range(n1):\n",
    "    theta1[:,i] -= min(theta1[:,i])"
   ]
  },
  {
   "cell_type": "code",
   "execution_count": 83,
   "id": "2523ddf9",
   "metadata": {},
   "outputs": [],
   "source": [
    "theta1 = theta1/theta1.max()"
   ]
  },
  {
   "cell_type": "code",
   "execution_count": 85,
   "id": "736694fb",
   "metadata": {},
   "outputs": [
    {
     "data": {
      "image/png": "[encoded data removed]",
      "text/plain": [
       "<Figure size 1280x160 with 2 Axes>"
      ]
     },
     "metadata": {},
     "output_type": "display_data"
    }
   ],
   "source": [
    "plt.matshow(theta1)\n",
    "plt.colorbar(label='arbitrary unit')\n",
    "plt.style.use('classic')\n",
    "plt.show()"
   ]
  },
  {
   "cell_type": "code",
   "execution_count": null,
   "id": "095b4174",
   "metadata": {},
   "outputs": [],
   "source": []
  }
 ],
 "metadata": {
  "kernelspec": {
   "display_name": "Python 3 (ipykernel)",
   "language": "python",
   "name": "python3"
  },
  "language_info": {
   "codemirror_mode": {
    "name": "ipython",
    "version": 3
   },
   "file_extension": ".py",
   "mimetype": "text/x-python",
   "name": "python",
   "nbconvert_exporter": "python",
   "pygments_lexer": "ipython3",
   "version": "3.11.3"
  }
 },
 "nbformat": 4,
 "nbformat_minor": 5
}
